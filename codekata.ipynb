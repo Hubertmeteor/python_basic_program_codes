{
  "cells": [
    {
      "cell_type": "markdown",
      "metadata": {
        "id": "view-in-github",
        "colab_type": "text"
      },
      "source": [
        "<a href=\"https://colab.research.google.com/github/Hubertmeteor/python_basic_program_codes/blob/main/codekata.ipynb\" target=\"_parent\"><img src=\"https://colab.research.google.com/assets/colab-badge.svg\" alt=\"Open In Colab\"/></a>"
      ]
    },
    {
      "cell_type": "markdown",
      "metadata": {
        "id": "gNp-WO8OHlSH"
      },
      "source": [
        "**Input/output...........>1**\n",
        "\n",
        "\n",
        "**Write a code to get the input in the given format and print the output in the given**"
      ]
    },
    {
      "cell_type": "code",
      "execution_count": null,
      "metadata": {
        "id": "VSylgbiVabSQ"
      },
      "outputs": [],
      "source": []
    },
    {
      "cell_type": "code",
      "execution_count": null,
      "metadata": {
        "colab": {
          "base_uri": "https://localhost:8080/"
        },
        "id": "wB60axd2HkLn",
        "outputId": "1ee1e5a2-f64d-48e4-85cb-866dd07f50cc"
      },
      "outputs": [
        {
          "name": "stdout",
          "output_type": "stream",
          "text": [
            "6\n",
            "6\n"
          ]
        }
      ],
      "source": [
        "a=int(input())\n",
        "print(a)"
      ]
    },
    {
      "cell_type": "markdown",
      "metadata": {
        "id": "OxGWqSJuIDuA"
      },
      "source": [
        "**Input/output...........>2**\n",
        "\n",
        "\n",
        "Write a code to get the input in the given format and print the output in the given format"
      ]
    },
    {
      "cell_type": "code",
      "execution_count": null,
      "metadata": {
        "colab": {
          "base_uri": "https://localhost:8080/"
        },
        "id": "4-03wqV6H7UV",
        "outputId": "472f7f77-0cbf-42a0-a6f2-52664d03d6eb"
      },
      "outputs": [
        {
          "name": "stdout",
          "output_type": "stream",
          "text": [
            "2 3 4 5 6 7 8\n",
            "2 3 4 5 6 7 8\n"
          ]
        }
      ],
      "source": [
        "a=input()\n",
        "print(a)"
      ]
    },
    {
      "cell_type": "markdown",
      "metadata": {
        "id": "irLf6OGRIjKs"
      },
      "source": [
        "**Input/output...........>3**\n",
        "\n",
        "\n",
        "Write a code to get the input in the given format and print the output in the given format.\n",
        "\n",
        "Input Description:\n",
        "First-line indicates two integers which are the size of array and 'K' value. Second-line indicates an integer contains elements of an array.\n",
        "\n",
        "Output Description:\n",
        "Print the taken input in the same format."
      ]
    },
    {
      "cell_type": "code",
      "execution_count": null,
      "metadata": {
        "colab": {
          "base_uri": "https://localhost:8080/"
        },
        "id": "hdZpv8wWH3oP",
        "outputId": "22d581de-ca55-4170-b78a-952db8fc3cad"
      },
      "outputs": [
        {
          "name": "stdout",
          "output_type": "stream",
          "text": [
            "5 3\n",
            "1 2 3 4 5\n",
            "5 3\n",
            "1 2 3 4 5\n"
          ]
        }
      ],
      "source": [
        "a=input()\n",
        "b=input()\n",
        "print(a)\n",
        "print(b)"
      ]
    },
    {
      "cell_type": "markdown",
      "metadata": {
        "id": "TUh9ExakJDDz"
      },
      "source": [
        "**Input/output...........>4**\n",
        "\n",
        "Write a code to get the input in the given format and print the output in the given format\n",
        "\n",
        "Input Description:\n",
        "First-line indicates two integers separated by space. Second-line indicates two integers separated by space. Third-line indicates two integers separated by space.\n",
        "\n",
        "Output Description:\n",
        "Print the input in the same format."
      ]
    },
    {
      "cell_type": "code",
      "execution_count": null,
      "metadata": {
        "colab": {
          "base_uri": "https://localhost:8080/"
        },
        "id": "CGJHRawKJO5Q",
        "outputId": "d273ec66-a5ce-479c-ef7a-cde098aeccfe"
      },
      "outputs": [
        {
          "name": "stdout",
          "output_type": "stream",
          "text": [
            "2 4 2 4 2 4\n",
            "2 4\n",
            "2 4\n",
            "2 4 2 4 2 4\n",
            "2 4\n",
            "2 4\n"
          ]
        }
      ],
      "source": [
        "a=input()\n",
        "b=input()\n",
        "c=input()\n",
        "print(a)\n",
        "print(b)\n",
        "print(c)"
      ]
    },
    {
      "cell_type": "markdown",
      "metadata": {
        "id": "hWCX2GtC1rd2"
      },
      "source": [
        "**Input/output...........>5**\n",
        "\n",
        "Write a code to get the input in the given format and print the output in the given format\n",
        "\n",
        "Input Description:\n",
        "Three integers are given in line by line.\n",
        "\n",
        "Output Description:\n",
        "Print the integers in a single line separate by space."
      ]
    },
    {
      "cell_type": "code",
      "execution_count": null,
      "metadata": {
        "id": "FWMYAHjT11os"
      },
      "outputs": [],
      "source": [
        "a=input()\n",
        "b=input()\n",
        "c=input()\n",
        "print(a,b,c)"
      ]
    },
    {
      "cell_type": "markdown",
      "metadata": {
        "id": "x10gTJ7T19DL"
      },
      "source": [
        "**Input/output...........>6**\n",
        "\n",
        "Write a code to get the input in the given format and print the output in the given format\n",
        "\n",
        "Input Description:\n",
        "First-line indicates two integers separated by space. Second-line indicates three integers separated by space. Third-line indicates three integers separated by space\n",
        "\n",
        "Output Description:\n",
        "Print the input in the same format."
      ]
    },
    {
      "cell_type": "code",
      "execution_count": null,
      "metadata": {
        "id": "DPUHOFXv2Cg6"
      },
      "outputs": [],
      "source": [
        "a=input()\n",
        "b=input()\n",
        "c=input()\n",
        "print(a)\n",
        "print(b)\n",
        "print(c)"
      ]
    },
    {
      "cell_type": "markdown",
      "metadata": {
        "id": "_A9u-FU128OY"
      },
      "source": [
        "**Input/output...........>7**\n",
        "\n",
        "Write a code to get the input in the given format and print the output in the given format\n",
        "\n",
        "Input Description:\n",
        "A single line contains a string.\n",
        "\n",
        "Output Description:\n",
        "Print the characters in a string separated by space."
      ]
    },
    {
      "cell_type": "code",
      "execution_count": null,
      "metadata": {
        "id": "SLui15kd26ZL"
      },
      "outputs": [],
      "source": [
        "a=input()\n",
        "print(\" \".join(a))"
      ]
    },
    {
      "cell_type": "markdown",
      "metadata": {
        "id": "WL6E8Jbc3N_v"
      },
      "source": [
        "**Input/output...........>8**\n",
        "\n",
        "Write a code to get the input in the given format and print the output in the given format.\n",
        "\n",
        "Input Description:\n",
        "A single line contains three float values separated by space.\n",
        "\n",
        "Output Description:\n",
        "Print the float value separated by line."
      ]
    },
    {
      "cell_type": "code",
      "execution_count": null,
      "metadata": {
        "id": "bTgRV_8a3cue"
      },
      "outputs": [],
      "source": [
        "s=input().split()\n",
        "for b in s:\n",
        "    print(b)"
      ]
    },
    {
      "cell_type": "markdown",
      "metadata": {
        "id": "qTWZt7zP3hsn"
      },
      "source": [
        "**Input/output...........>9**\n",
        "\n",
        "Write a code to get the input in the given format and print the output in the given format.\n",
        "\n",
        "Input Description:\n",
        "A single line contains a string.\n",
        "\n",
        "Output Description:\n",
        "Print the characters in a string separated by line."
      ]
    },
    {
      "cell_type": "code",
      "execution_count": null,
      "metadata": {
        "id": "AukevbMc3rm-"
      },
      "outputs": [],
      "source": [
        "s=input()\n",
        "for b in s:\n",
        "  print(b)"
      ]
    },
    {
      "cell_type": "markdown",
      "metadata": {
        "id": "BtnQqa6u39QO"
      },
      "source": [
        "**Input/output...........>10**\n",
        "\n",
        "Write a code to get the input in the given format and print the output in the given format.\n",
        "\n",
        "Input Description:\n",
        "A single line contains a string.\n",
        "\n",
        "Output Description:\n",
        "Print the characters in a string separated by comma.\n"
      ]
    },
    {
      "cell_type": "code",
      "execution_count": null,
      "metadata": {
        "id": "XpxZUFxb4L31"
      },
      "outputs": [],
      "source": [
        "a=input()\n",
        "print(\",\".join(a))"
      ]
    },
    {
      "cell_type": "markdown",
      "metadata": {
        "id": "6fLz-ZhF4jzE"
      },
      "source": [
        "**absolute beginner......>1**\n",
        "\n",
        "You are given with a number A i.e. the temperature in Celcius. Write a program to convert this into Fahrenheit.\n",
        "\n",
        "Note: In case of decimal values, round-off to two decimal places.\n",
        "\n",
        "Input Description:\n",
        "A number is provided in Celcius as the input of the program.\n",
        "\n",
        "Output Description:\n",
        "The output shall be the temperature converted into Fahrenheit corresponding to the input value print up to two decimal places and round off if required."
      ]
    },
    {
      "cell_type": "code",
      "execution_count": null,
      "metadata": {
        "colab": {
          "base_uri": "https://localhost:8080/"
        },
        "id": "IIHZZBer4iv0",
        "outputId": "94d01aa0-32bb-4717-a11c-88f2a5688f7f"
      },
      "outputs": [
        {
          "name": "stdout",
          "output_type": "stream",
          "text": [
            "12\n",
            "53.60\n"
          ]
        }
      ],
      "source": [
        "cel = float(input())\n",
        "f = ((cel * 9/5) + 32)\n",
        "roundedNumber = \"{:.2f}\".format(f)\n",
        "print(roundedNumber)"
      ]
    },
    {
      "cell_type": "markdown",
      "metadata": {
        "id": "dm6J6eKc44z0"
      },
      "source": [
        "**Absolute beginner......>2**\n",
        "\n",
        "\n",
        "You are given three numbers A, B & C. Print the largest amongst these three numbers.\n",
        "\n",
        "# Input Description:\n",
        "Three numbers are provided to you.\n",
        "\n",
        "Output Description:\n",
        "Find and print the largest among the three"
      ]
    },
    {
      "cell_type": "code",
      "execution_count": null,
      "metadata": {
        "colab": {
          "base_uri": "https://localhost:8080/"
        },
        "id": "D1hjcjHm432M",
        "outputId": "9ae420fb-48c2-44ad-c7b1-86b066c2a8ea"
      },
      "outputs": [
        {
          "name": "stdout",
          "output_type": "stream",
          "text": [
            "1                                                                               \n",
            "2\n",
            "3\n",
            "3\n"
          ]
        }
      ],
      "source": [
        "a=int(input())\n",
        "b=int(input())\n",
        "c=int(input())\n",
        "if a>b and a>c:\n",
        "  print(a)\n",
        "elif b>a and b>c:\n",
        "  print(b)\n",
        "elif c>a and c>b:\n",
        "  print(c)"
      ]
    },
    {
      "cell_type": "markdown",
      "metadata": {
        "id": "1NJRMDn45jZi"
      },
      "source": [
        "**Absolute beginner......>3**\n",
        "\n",
        "The area of an equilateral triangle is ¼(√3a2) where \"a\" represents a side of the triangle. You are provided with the side \"a\". Find the area of the equilateral triangle.\n",
        "\n",
        "Input Description:\n",
        "The side of an equilateral triangle is provided as the input.\n",
        "\n",
        "Output Description:\n",
        "Find the area of the equilateral triangle and print the answer up to 2 decimal places after rounding off."
      ]
    },
    {
      "cell_type": "code",
      "execution_count": null,
      "metadata": {
        "colab": {
          "base_uri": "https://localhost:8080/"
        },
        "id": "Ot4-_9F154Pp",
        "outputId": "d1df209f-a16c-4ae2-cc4c-ebd6cd266dae"
      },
      "outputs": [
        {
          "name": "stdout",
          "output_type": "stream",
          "text": [
            "20\n",
            "173.21\n"
          ]
        }
      ],
      "source": [
        "import math\n",
        "a=float(input())\n",
        "area=((math.sqrt(3))/4)*(a**2)\n",
        "round=\"{:.2f}\".format(area)\n",
        "print(round)"
      ]
    },
    {
      "cell_type": "markdown",
      "metadata": {
        "id": "Y0F-IdLh6D7g"
      },
      "source": [
        "**Absolute beginner......>4**\n",
        "\n",
        "\n",
        "\n",
        "You are given A = Length of a rectangle & B = breadth of a rectangle. Find its area “C”.\n",
        "\n",
        "(A and B are natural numbers)\n",
        "\n",
        "Input Description:\n",
        "The inputs are two natural numbers representing the length and the breadth of a rectangle.\n",
        "\n",
        "Output Description:\n",
        "Find the area of the rectangle formed by the provided input. Round off the answer to the first decimal place if required."
      ]
    },
    {
      "cell_type": "code",
      "execution_count": null,
      "metadata": {
        "id": "sFrJOzUt6PkX"
      },
      "outputs": [],
      "source": [
        "l=int(input())\n",
        "b=int(input())\n",
        "a=l*b\n",
        "roundedNumber=round(a,1)\n",
        "print(roundedNumber)"
      ]
    },
    {
      "cell_type": "markdown",
      "metadata": {
        "id": "7YewDf896nSo"
      },
      "source": [
        "**Absolute beginner......>5**\n",
        "\n",
        "\n",
        "*italicized text*\n",
        "You are provided with the radius of a circle \"A\". Find the length of its circumference.\n",
        "\n",
        "Note: In case the output is coming in decimal, roundoff to 2nd decimal place. In case the input is a negative number, print \"Error\".\n",
        "\n",
        "Input Description:\n",
        "The Radius of a circle is provided as the input of the program.\n",
        "\n",
        "Output Description:\n",
        "Calculate and print the Circumference of the circle corresponding to the input radius up to two decimal places."
      ]
    },
    {
      "cell_type": "code",
      "execution_count": null,
      "metadata": {
        "id": "ZC2oc4fI609X"
      },
      "outputs": [],
      "source": [
        "r=float(input())\n",
        "l=(2*(22/7)*r)\n",
        "if l>=0:\n",
        "  roundedNumber=round(l,2)\n",
        "  print(roundedNumber)\n",
        "else:\n",
        "  print(\"Error\")"
      ]
    },
    {
      "cell_type": "markdown",
      "metadata": {
        "id": "VTP6QqbK7AqO"
      },
      "source": [
        "**Absolute beginner......>6**\n",
        "\n",
        "You are given with Principle amount($), Interest Rate(%) and Time (years) in that order. Find Simple Interest.\n",
        "\n",
        "Print the output up to two decimal places (Round-off if necessary).\n",
        "\n",
        "(S.I. = P*T*R/100)\n",
        "\n",
        "Input Description:\n",
        "Three values are given to you as the input. these values correspond to Principle amount, Interest Rate and Time in that particular order.\n",
        "\n",
        "Output Description:\n",
        "Find the Simple interest and print it up to two decimal places. Round off if required."
      ]
    },
    {
      "cell_type": "code",
      "execution_count": null,
      "metadata": {
        "colab": {
          "base_uri": "https://localhost:8080/"
        },
        "id": "PkwRdCiu7K7U",
        "outputId": "6a29d84c-1a79-4d8e-b05d-419466e262f6"
      },
      "outputs": [
        {
          "name": "stdout",
          "output_type": "stream",
          "text": [
            "1000 2 5\n",
            "100.00\n"
          ]
        }
      ],
      "source": [
        "a,b,c=list(map(float,input().split()))\n",
        "s=(a*b*c)/100\n",
        "round=\"{:.2f}\".format(s)\n",
        "print(round)"
      ]
    },
    {
      "cell_type": "markdown",
      "metadata": {
        "id": "SYCbZJxf7Zvd"
      },
      "source": [
        "**Absolute beginner......>7**\n",
        "\n",
        "You are given a number A in Kilometers. Convert this into B: Meters and C: Centi-Metres.\n",
        "\n",
        "Input Description:\n",
        "A number \"A\" representing some distance in kilometer is provided to you as the input.\n",
        "\n",
        "Output Description:\n",
        "Convert and print this value in meters and centimeters."
      ]
    },
    {
      "cell_type": "code",
      "execution_count": null,
      "metadata": {
        "colab": {
          "base_uri": "https://localhost:8080/"
        },
        "id": "c2oecnlZ7iq5",
        "outputId": "bea92a61-d770-43fd-f0f8-0cefdfd283b2"
      },
      "outputs": [
        {
          "name": "stdout",
          "output_type": "stream",
          "text": [
            "2\n",
            "2000\n",
            "200000\n"
          ]
        }
      ],
      "source": [
        "a=int(input())\n",
        "m=a*1000\n",
        "cm=a*100000\n",
        "print(m)\n",
        "print(cm)"
      ]
    },
    {
      "cell_type": "markdown",
      "metadata": {
        "id": "Jil4eid_733k"
      },
      "source": [
        "\n",
        "**Absolute beginner......>8**\n",
        "\n",
        "You are provided with two numbers. Find and print the smaller number.\n",
        "\n",
        "Input Description:\n",
        "You are provided with two numbers as input.\n",
        "\n",
        "Output Description:\n",
        "Print the small number out of the two numbers."
      ]
    },
    {
      "cell_type": "code",
      "execution_count": null,
      "metadata": {
        "colab": {
          "base_uri": "https://localhost:8080/"
        },
        "id": "3QcLkBc18Khy",
        "outputId": "4bcf9ef3-c38f-4731-a008-7b1fb80ad7ea"
      },
      "outputs": [
        {
          "name": "stdout",
          "output_type": "stream",
          "text": [
            "23 1\n",
            "1\n"
          ]
        }
      ],
      "source": [
        "a,b=list(map(int,input().split()))\n",
        "if a<b:\n",
        "  print(a)\n",
        "else:\n",
        "  print(b)"
      ]
    },
    {
      "cell_type": "markdown",
      "metadata": {
        "id": "713nbx378Twa"
      },
      "source": [
        "**Absolute beginner............>9**\n",
        "\n",
        "Write a code to get the input and print it 5 times.\n",
        "\n",
        "Input Description:\n",
        "A single line contains an integer N.\n",
        "\n",
        "Output Description:\n",
        "Output contains 5 lines with each line having the value N."
      ]
    },
    {
      "cell_type": "code",
      "execution_count": null,
      "metadata": {
        "colab": {
          "base_uri": "https://localhost:8080/"
        },
        "id": "3FuxN_Ar8S6a",
        "outputId": "4999b688-974f-41c1-fa60-b7e5634c8518"
      },
      "outputs": [
        {
          "name": "stdout",
          "output_type": "stream",
          "text": [
            "5\n",
            "5\n",
            "5\n",
            "5\n",
            "5\n",
            "5\n"
          ]
        }
      ],
      "source": [
        "count=0\n",
        "num=int(input())\n",
        "while count<5:\n",
        "  count=count+1\n",
        "  print(num)"
      ]
    },
    {
      "cell_type": "markdown",
      "metadata": {
        "id": "Vpkc08AZ8rFa"
      },
      "source": [
        "\n",
        "**Absolute beginner...........>10**\n",
        "\n",
        "You are given Two Numbers, A and B. If C = A + B. Find C.\n",
        "\n",
        "Note: Round off the output to a single decimal place.\n",
        "\n",
        "Input Description:\n",
        "You are provided with two numbers A and B.\n",
        "\n",
        "Output Description:\n",
        "Find the sum of the two numbers (A + B)"
      ]
    },
    {
      "cell_type": "code",
      "execution_count": null,
      "metadata": {
        "id": "A7Uj0NgK84so"
      },
      "outputs": [],
      "source": [
        "a=int(input())\n",
        "b=int(input())\n",
        "c=a+b\n",
        "print(round(c))"
      ]
    },
    {
      "cell_type": "markdown",
      "metadata": {
        "id": "xLv2_FH89DfY"
      },
      "source": [
        "**absolute beginner.........>11**\n",
        "\n",
        "Print the First 3 multiples of the given number \"N\". (N is a positive integer)\n",
        "\n",
        "Note: print the characters with a single space between them.\n",
        "\n",
        "Input Description:\n",
        "A positive integer is provided to you as an input.\n",
        "\n",
        "Output Description:\n",
        "Print the First 3 multiples of the number with single spaces between them as an output."
      ]
    },
    {
      "cell_type": "code",
      "execution_count": null,
      "metadata": {
        "colab": {
          "base_uri": "https://localhost:8080/"
        },
        "id": "vk7ZQ39U9MsQ",
        "outputId": "75d8118a-b6bd-447f-c79b-aa4b35fad714"
      },
      "outputs": [
        {
          "name": "stdout",
          "output_type": "stream",
          "text": [
            "2\n",
            "2 4 6\n"
          ]
        }
      ],
      "source": [
        "n=int(input())\n",
        "N=[]\n",
        "for i in range(1,4):\n",
        "  output=n*i\n",
        "  N.append(output)\n",
        "print(*N)"
      ]
    },
    {
      "cell_type": "markdown",
      "metadata": {
        "id": "CspWUAtC9Vcg"
      },
      "source": [
        "**absolute beginner....>12**\n",
        "\n",
        "Write a code to get 2 integers A and N. Print the integer A, N times in separate line.\n",
        "\n",
        "Input Description:\n",
        "First line contains an integer A. Second line contains an Integer N.\n",
        "\n",
        "Output Description:\n",
        "Print the integer A, N times in a separate line."
      ]
    },
    {
      "cell_type": "code",
      "execution_count": null,
      "metadata": {
        "colab": {
          "base_uri": "https://localhost:8080/"
        },
        "id": "pHAbBm3G9dL4",
        "outputId": "4697638f-5824-4a84-9743-5461f0cb89de"
      },
      "outputs": [
        {
          "name": "stdout",
          "output_type": "stream",
          "text": [
            " 2 3\n",
            "2\n",
            "2\n",
            "2\n"
          ]
        }
      ],
      "source": [
        "x,y=list(map(int,input().split()))\n",
        "for i in range(1,y+1):\n",
        "  print(x)"
      ]
    },
    {
      "cell_type": "markdown",
      "metadata": {
        "id": "V4cQknK09m6X"
      },
      "source": [
        "**absolute beginner.....>13**\n",
        "\n",
        "Let \"A\" be a year, write a program to check whether this year is a leap year or not.*italicized text*\n",
        "\n",
        "Print \"Y\" if its a leap year and \"N\" if its a common year.\n",
        "\n",
        "Input Description:\n",
        "A Year is the input in the form of a positive integer.\n",
        "\n",
        "Output Description:\n",
        "Print \"Y\" if its a leap year and \"N\" if its a common year."
      ]
    },
    {
      "cell_type": "code",
      "execution_count": null,
      "metadata": {
        "colab": {
          "base_uri": "https://localhost:8080/"
        },
        "id": "E4q6sAM19wPy",
        "outputId": "5aae8462-5435-4d7d-ba4d-afc358d4a813"
      },
      "outputs": [
        {
          "name": "stdout",
          "output_type": "stream",
          "text": [
            "2020\n",
            "Y\n"
          ]
        }
      ],
      "source": [
        "year = int(input())\n",
        "if (year % 400 == 0) and (year % 100 == 0):\n",
        "    print(\"Y\")\n",
        "elif (year % 4 ==0) and (year % 100 != 0):\n",
        "    print(\"Y\")\n",
        "else:\n",
        "    print(\"N\")"
      ]
    },
    {
      "cell_type": "markdown",
      "metadata": {
        "id": "zA4jIzlG97a-"
      },
      "source": [
        "**absolute beginner.......>14**\n",
        "\n",
        "You are provided with a number \"N\", Find the Nth term of the series: 1, 4, 9, 16, 25, 36, 49, 64, 81, .......\n",
        "\n",
        "(Print \"Error\" if N = negative value and 0 if N = 0).\n",
        "\n",
        "Input Description:\n",
        "An integer N is provided to you as the input.\n",
        "\n",
        "Output Description:\n",
        "Find the Nth term in the provided series."
      ]
    },
    {
      "cell_type": "code",
      "execution_count": null,
      "metadata": {
        "colab": {
          "base_uri": "https://localhost:8080/"
        },
        "id": "A24Krm1b-Osy",
        "outputId": "bd765282-c8bd-4954-e208-e2710ac4c8e6"
      },
      "outputs": [
        {
          "name": "stdout",
          "output_type": "stream",
          "text": [
            "18\n",
            "324\n"
          ]
        }
      ],
      "source": [
        "n=0\n",
        "end=int(input())\n",
        "s=end+end\n",
        "for num in range(1,s+1):\n",
        "    if num%2!=0:\n",
        "      n+=num\n",
        "print(n)"
      ]
    },
    {
      "cell_type": "markdown",
      "metadata": {
        "id": "Xcb5Xo-3-ZAl"
      },
      "source": [
        "**absolute beginner......>15**\n",
        "\n",
        "You are given with a number \"N\", find its cube.\n",
        "\n",
        "Input Description:\n",
        "A positive integer is provided.\n",
        "\n",
        "Output Description:\n",
        "Find the cube of the number."
      ]
    },
    {
      "cell_type": "code",
      "execution_count": null,
      "metadata": {
        "colab": {
          "base_uri": "https://localhost:8080/"
        },
        "id": "nvnXatXs-YaF",
        "outputId": "60596beb-fe02-44a9-a35b-181178df81e3"
      },
      "outputs": [
        {
          "name": "stdout",
          "output_type": "stream",
          "text": [
            "2\n",
            "8\n"
          ]
        }
      ],
      "source": [
        "a=int(input())\n",
        "b=a**3\n",
        "print(b)"
      ]
    },
    {
      "cell_type": "markdown",
      "metadata": {
        "id": "L8N8nEHC-tvt"
      },
      "source": [
        "**absolute beginner.................>16**\n",
        "\n",
        "Write a code to get an integer N and print the even values from 1 till N in a separate line.\n",
        "\n",
        "Input Description:\n",
        "A single line contains an integer N.\n",
        "\n",
        "Output Description:\n",
        "Print the even values from 1 to N in a separate line."
      ]
    },
    {
      "cell_type": "code",
      "execution_count": null,
      "metadata": {
        "colab": {
          "base_uri": "https://localhost:8080/"
        },
        "id": "QAC13CV8--CS",
        "outputId": "c4abfe48-d4d9-4075-af54-d09d0241e430"
      },
      "outputs": [
        {
          "name": "stdout",
          "output_type": "stream",
          "text": [
            "6\n",
            "2\n",
            "4\n",
            "6\n"
          ]
        }
      ],
      "source": [
        "num=int(input())\n",
        "for i in range(1,num+1):\n",
        "  if i%2==0:\n",
        "    print(i)"
      ]
    },
    {
      "cell_type": "markdown",
      "metadata": {
        "id": "nTV1ICAC_I7z"
      },
      "source": [
        "**absolute beginner......>17**\n",
        "\n",
        "Write a code to get an integer N and print values from 1 till N in a separate line.\n",
        "\n",
        "Input Description:\n",
        "A single line contains an integer N.\n",
        "\n",
        "Output Description:\n",
        "Print the values from 1 to N in a separate line."
      ]
    },
    {
      "cell_type": "code",
      "execution_count": null,
      "metadata": {
        "colab": {
          "base_uri": "https://localhost:8080/"
        },
        "id": "VMmRNGwG_IMr",
        "outputId": "73463863-63c3-4223-bcee-7d8196dbdacc"
      },
      "outputs": [
        {
          "name": "stdout",
          "output_type": "stream",
          "text": [
            "5\n",
            "1\n",
            "2\n",
            "3\n",
            "4\n",
            "5\n"
          ]
        }
      ],
      "source": [
        "num=int(input())\n",
        "for i in range(1,num+1):\n",
        "  print(i)"
      ]
    },
    {
      "cell_type": "markdown",
      "metadata": {
        "id": "QvBq3AlD_Z4r"
      },
      "source": [
        "**absolute beginner....>18**\n",
        "\n",
        "You are given the coefficients of a quadratic equation in order A, B & C.\n",
        "\n",
        "Where A is the coefficient of X2,  B is the coefficient of X and C is the constant term in the most simplified form.\n",
        "\n",
        "Example: For  X2 + 5X + 6 = 0, you are given the input as: 1 5 6.\n",
        "\n",
        "Write a program to find all of the roots of the quadratic.\n",
        "\n",
        "Note: The output should be up to 2nd decimal place (round off if needed) and in case of a recurring decimal use braces i.e. for eg: 0.33333..... => 0.33.\n",
        "\n",
        "Note: Use Shri Dharacharya's Method to solve i.e. X = {-b + √(b² - 4ac) } / 2a & {-b-√(b² -4ac)} / 2a\n",
        "\n",
        "Input Description:\n",
        "Three numbers corresponding to the coefficients of x(squared), x and constant are given as an input in that particular order\n",
        "\n",
        "Output Description:\n",
        "Print the two values of X after rounding off to 2 decimal places if required."
      ]
    },
    {
      "cell_type": "code",
      "execution_count": null,
      "metadata": {
        "colab": {
          "base_uri": "https://localhost:8080/"
        },
        "id": "sdqYdrbY_9aX",
        "outputId": "1cadea29-d9a6-41b1-a580-0c0b8209f2cc"
      },
      "outputs": [
        {
          "name": "stdout",
          "output_type": "stream",
          "text": [
            "1 5 6\n",
            "-2.00\n",
            "-3.00\n"
          ]
        }
      ],
      "source": [
        "import math\n",
        "a,b,c=list(map(float,input().split()))\n",
        "q1=((-b)+(math.sqrt(b**2-4*a*c)))/(2*a)\n",
        "q2=((-b)-(math.sqrt(b**2-4*a*c)))/(2*a)\n",
        "round=\"{:.2f}\".format(q1)\n",
        "round1=\"{:.2f}\".format(q2)\n",
        "print(round)\n",
        "print(round1)"
      ]
    },
    {
      "cell_type": "markdown",
      "metadata": {
        "id": "08duOVGeAMMx"
      },
      "source": [
        "**absolute beginner.....>19**\n",
        "\n",
        "\n",
        "You are provided with a number, \"N\". Find its factorial.\n",
        "\n",
        "Input Description:\n",
        "A positive integer is provided as an input.\n",
        "\n",
        "Output Description:\n",
        "Print the factorial of the integer."
      ]
    },
    {
      "cell_type": "code",
      "execution_count": null,
      "metadata": {
        "colab": {
          "base_uri": "https://localhost:8080/"
        },
        "id": "IbaGaQbfAYKu",
        "outputId": "8cf0bc4c-05fc-48f1-dde9-7190a0123cd0"
      },
      "outputs": [
        {
          "name": "stdout",
          "output_type": "stream",
          "text": [
            "2\n",
            "2\n"
          ]
        }
      ],
      "source": [
        "i=0\n",
        "a=[]\n",
        "mux=1\n",
        "num=int(input())\n",
        "while (range(0,num)):\n",
        "  a.append(num)\n",
        "  num-=1\n",
        "i+=1\n",
        "result=1\n",
        "for x in a:\n",
        "  result=result*x\n",
        "print(result)"
      ]
    },
    {
      "cell_type": "markdown",
      "metadata": {
        "id": "HUn9ak_LAnGv"
      },
      "source": [
        "**absolute beginner....>20**\n",
        "\n",
        "Write a program to get a string as input and reverse the string without using temporary variable.\n",
        "\n",
        "Input Description:\n",
        "A single line containing a string.\n",
        "\n",
        "Output Description:\n",
        "Print the reversed string."
      ]
    },
    {
      "cell_type": "code",
      "execution_count": null,
      "metadata": {
        "colab": {
          "base_uri": "https://localhost:8080/"
        },
        "id": "jVvw2zjOAwW_",
        "outputId": "31bc0a69-32ae-4743-e12b-59103cdd38a0"
      },
      "outputs": [
        {
          "name": "stdout",
          "output_type": "stream",
          "text": [
            "GUVI\n",
            "IVUG\n"
          ]
        }
      ],
      "source": [
        "a=str(input())\n",
        "x=a[::-1]\n",
        "print(x)"
      ]
    },
    {
      "cell_type": "markdown",
      "metadata": {
        "id": "qtnWJ_02A-Q_"
      },
      "source": [
        "**absolute beginner.....>21**\n",
        "\n",
        "Write a code to get an integer N and print the sum of  values from 1 to N.\n",
        "\n",
        "Input Description:\n",
        "A single line contains an integer N.\n",
        "\n",
        "Output Description:\n",
        "Print the sum of values from 1 to N."
      ]
    },
    {
      "cell_type": "code",
      "execution_count": null,
      "metadata": {
        "colab": {
          "base_uri": "https://localhost:8080/"
        },
        "id": "7kEtL7ioBIyv",
        "outputId": "4fc6906d-d832-47e2-c7cb-d12103716f45"
      },
      "outputs": [
        {
          "name": "stdout",
          "output_type": "stream",
          "text": [
            "10\n",
            "55\n"
          ]
        }
      ],
      "source": [
        "sum=0\n",
        "num=int(input())\n",
        "for i in range(1,num+1):\n",
        "  sum=sum+i\n",
        "print(sum)"
      ]
    },
    {
      "cell_type": "markdown",
      "metadata": {
        "id": "d5JMqHFuBS5Q"
      },
      "source": [
        "**absolute beginner.....>22**\n",
        "\n",
        "Write a code get an integer number as input and print the sum of the digits.\n",
        "\n",
        "Input Description:\n",
        "A single line containing an integer.\n",
        "\n",
        "Output Description:\n",
        "Print the sum of the digits of the integer."
      ]
    },
    {
      "cell_type": "code",
      "execution_count": null,
      "metadata": {
        "colab": {
          "base_uri": "https://localhost:8080/"
        },
        "id": "yPKdCc5pBijq",
        "outputId": "03ac32d5-2061-450b-e95c-f8710158fbac"
      },
      "outputs": [
        {
          "name": "stdout",
          "output_type": "stream",
          "text": [
            "124\n",
            "7\n"
          ]
        }
      ],
      "source": [
        "total=0\n",
        "s=str(input())\n",
        "for i in s:            #count the strings ex:678 ...> 3 times by the digit\n",
        "  num=int(i)            #string convert in to digit\n",
        "  #print(num)\n",
        "  total=total+num       #total +num 0+6=> 6+7=13=> 13+8=21\n",
        "print(total)             #print final result ...>21"
      ]
    },
    {
      "cell_type": "markdown",
      "metadata": {
        "id": "bowcZ2c3B95U"
      },
      "source": [
        "**absolute beginner....>23**\n",
        "\n",
        "Let \"A\"  be a string. Remove all the whitespaces and find it's length.\n",
        "\n",
        "Input Description:\n",
        "A string is provide as an input\n",
        "\n",
        "Output Description:\n",
        "Remove all the whitespaces and then print the length of the remaining string."
      ]
    },
    {
      "cell_type": "code",
      "execution_count": null,
      "metadata": {
        "colab": {
          "base_uri": "https://localhost:8080/"
        },
        "id": "Cd4cRaF2CJMJ",
        "outputId": "643df2ff-1460-4086-95df-2a89a6ad8779"
      },
      "outputs": [
        {
          "name": "stdout",
          "output_type": "stream",
          "text": [
            "Lorem Ipsum\n",
            "10\n"
          ]
        }
      ],
      "source": [
        "A = input()\n",
        "\n",
        "# Remove whitespaces and calculate the length\n",
        "A_without_spaces = A.replace(\" \", \"\")\n",
        "length_without_spaces = len(A_without_spaces)\n",
        "#print(\"Original string:\", A)\n",
        "#print(\"String without spaces:\", A_without_spaces)\n",
        "print(length_without_spaces)"
      ]
    },
    {
      "cell_type": "markdown",
      "metadata": {
        "id": "fUkm1zM2CUu8"
      },
      "source": [
        "**absolute beginner.....>24**\n",
        "\n",
        "Write a code to get an integer N and print the digits of the integer.\n",
        "\n",
        "Input Description:\n",
        "A single line contains an integer N.\n",
        "\n",
        "Output Description:\n",
        "Print the digits of the integer in a single line separated by space,"
      ]
    },
    {
      "cell_type": "code",
      "execution_count": null,
      "metadata": {
        "colab": {
          "base_uri": "https://localhost:8080/"
        },
        "id": "4DDRgRPHCdKL",
        "outputId": "90a127d4-c4e2-421c-8f53-c66bd41523b8"
      },
      "outputs": [
        {
          "name": "stdout",
          "output_type": "stream",
          "text": [
            "348\n",
            "3 4 8\n"
          ]
        }
      ],
      "source": [
        "a=input(\"\")\n",
        "print(\" \".join(a))"
      ]
    },
    {
      "cell_type": "markdown",
      "metadata": {
        "id": "gplP04tNCrQ6"
      },
      "source": [
        "**absolute beginner.....>26**\n",
        "\n",
        "You are provided with a number check whether its odd or even.\n",
        "\n",
        "Print \"Odd\" or \"Even\" for the corresponding cases.\n",
        "\n",
        "Note: In case of a decimal, Round off to nearest integer and then find the output. Incase the input is zero, print \"Zero\".\n",
        "\n",
        "Input Description:\n",
        "A number is provided as the input.\n",
        "\n",
        "Output Description:\n",
        "Find out whether the number is odd or even. Print \"Odd\" or \"Even\" for the corresponding cases. Note: In case of a decimal, Round off to nearest integer and then find the output. In case the input is zero, print \"Zero\"."
      ]
    },
    {
      "cell_type": "code",
      "execution_count": null,
      "metadata": {
        "id": "q7crtUDEC93Q"
      },
      "outputs": [],
      "source": [
        "n=float(input())\n",
        "rounded_number=round(n)\n",
        "if rounded_number%2==0 and n!=0:\n",
        "  print(\"Even\")\n",
        "elif n==0:\n",
        "  print(\"Zero\")\n",
        "else:\n",
        "  print(\"Odd\")"
      ]
    },
    {
      "cell_type": "markdown",
      "metadata": {
        "id": "n1aSZqcMDNMi"
      },
      "source": [
        "**absolute beginner.....>27**\n",
        "\n",
        "\n",
        "You will be provided with a number. Print the number of days in the month corresponding to that number.\n",
        "\n",
        "Note: In case the input is February, print 28 days. If the Input is not in valid range print \"Error\".\n",
        "\n",
        "Input Description:\n",
        "The input is in the form of a number.\n",
        "\n",
        "Output Description:\n",
        "Find the days in the month corresponding to the input number. Print Error if the input is not in a valid range."
      ]
    },
    {
      "cell_type": "code",
      "execution_count": null,
      "metadata": {
        "colab": {
          "base_uri": "https://localhost:8080/"
        },
        "id": "HvuqpVQdDen5",
        "outputId": "04db82e9-5883-4941-9eee-41af50c7c514"
      },
      "outputs": [
        {
          "name": "stdout",
          "output_type": "stream",
          "text": [
            "7\n",
            "31\n"
          ]
        }
      ],
      "source": [
        "a=int(input())\n",
        "if a==1:\n",
        "  print(\"31\") #Jan\n",
        "elif a==2:\n",
        "  print(\"28\") #feb\n",
        "elif a==3:\n",
        "  print(\"31\") #Mar\n",
        "elif a==4:\n",
        "  print(\"30\") #Apr\n",
        "elif a==5:\n",
        "  print(\"31\") #may\n",
        "elif a==6:\n",
        "  print(\"30\") #Jun\n",
        "elif a==7:\n",
        "  print(\"31\") #Jul\n",
        "elif a==8:\n",
        "  print(\"31\") #Aug\n",
        "elif a==9:\n",
        "  print(\"30\") #sep\n",
        "elif a==10:\n",
        "  print(\"31\") #oct\n",
        "elif a==11:\n",
        "  print(\"30\") #Nov\n",
        "elif a==12:\n",
        "  print(\"31\") #Dec\n",
        "else:\n",
        "  print(\"Error\") #Dec"
      ]
    },
    {
      "cell_type": "markdown",
      "metadata": {
        "id": "7DW3L9hwDl8n"
      },
      "source": [
        "**absolute beginner......>28**\n",
        "\n",
        "Write a code to get 2 integers as input and find the HCF of the 2 integer without using recursion or Euclidean algorithm.\n",
        "\n",
        "Input Description:\n",
        "A single line containing 2 integers separated by space.\n",
        "\n",
        "Output Description:\n",
        "Print the HCF of the integers."
      ]
    },
    {
      "cell_type": "code",
      "execution_count": null,
      "metadata": {
        "colab": {
          "base_uri": "https://localhost:8080/"
        },
        "id": "6ZXU5_IWDx-Y",
        "outputId": "589c1ecb-5c72-438c-b9b6-ed99072e88e6"
      },
      "outputs": [
        {
          "name": "stdout",
          "output_type": "stream",
          "text": [
            "2 3\n",
            "1\n"
          ]
        }
      ],
      "source": [
        "def compute_hcf(x, y):\n",
        "    if x > y:\n",
        "        smaller=y\n",
        "    else:\n",
        "        smaller=x\n",
        "    for i in range(1, smaller+1):\n",
        "        if((x % i == 0) and (y % i == 0)):\n",
        "            hcf = i\n",
        "    return hcf\n",
        "\n",
        "a,b=list(map(int,input().split()))\n",
        "print(compute_hcf(a,b))"
      ]
    },
    {
      "cell_type": "markdown",
      "metadata": {
        "id": "PlwvTKsKD7FH"
      },
      "source": [
        "**absolute beginner.....>29**\n",
        "\n",
        "Write a code to get an integer N and print the values from N to 1.\n",
        "\n",
        "Input Description:\n",
        "A single line contains an integer N.\n",
        "\n",
        "Output Description:\n",
        "Print the values from N to 1 in a separate line."
      ]
    },
    {
      "cell_type": "code",
      "execution_count": null,
      "metadata": {
        "colab": {
          "base_uri": "https://localhost:8080/"
        },
        "id": "0Gx57SKyEIcP",
        "outputId": "a2fdb334-4d5f-4190-df8f-d9e932ecba59"
      },
      "outputs": [
        {
          "name": "stdout",
          "output_type": "stream",
          "text": [
            "10\n",
            "10\n",
            "9\n",
            "8\n",
            "7\n",
            "6\n",
            "5\n",
            "4\n",
            "3\n",
            "2\n",
            "1\n"
          ]
        }
      ],
      "source": [
        "i=1\n",
        "num=int(input())\n",
        "while i<num+1:\n",
        "  print(num)\n",
        "  num-=1\n",
        "i+=1"
      ]
    },
    {
      "cell_type": "markdown",
      "metadata": {
        "id": "vwH-zNkxEVaX"
      },
      "source": [
        "\n",
        "**absolute beginner.....>29**\n",
        "\n",
        "Write a code get an integer number as input and print the odd and even digits of the number separately.\n",
        "\n",
        "Input Description:\n",
        "A single line containing an integer.\n",
        "\n",
        "Output Description:\n",
        "Print the even and odd integers of the integer in a separate line."
      ]
    },
    {
      "cell_type": "code",
      "execution_count": null,
      "metadata": {
        "id": "w49UG6zgEdFI"
      },
      "outputs": [],
      "source": [
        "a=int(input())\n",
        "ev=[]\n",
        "od=[]\n",
        "b=list(map(int, str(a)))\n",
        "for i in b:\n",
        "  if (i%2 ==0):\n",
        "    ev.append(i)\n",
        "  else:\n",
        "    od.append(i)\n",
        "print(*sorted(ev))\n",
        "print(*sorted(od))"
      ]
    },
    {
      "cell_type": "markdown",
      "metadata": {
        "id": "Ccc76IaLEruV"
      },
      "source": [
        "**absolute beginner....>30**\n",
        "\n",
        "Using the method of looping, write a program to print the table of 9 till N in the format as follows:\n",
        "(N is input by the user)\n",
        "\n",
        "9 18 27...\n",
        "\n",
        "Print NULL if 0 is input\n",
        "\n",
        "Input Description:\n",
        "A positive integer is provided as an input.\n",
        "\n",
        "Output Description:\n",
        "Print the table of nine with single space between the elements till the number that is input."
      ]
    },
    {
      "cell_type": "code",
      "execution_count": null,
      "metadata": {
        "colab": {
          "base_uri": "https://localhost:8080/"
        },
        "id": "69IlQPFNEyEd",
        "outputId": "65a16eb5-d279-4fbb-8ae4-06da698daa4e"
      },
      "outputs": [
        {
          "name": "stdout",
          "output_type": "stream",
          "text": [
            "3\n",
            "9 18 27\n"
          ]
        }
      ],
      "source": [
        "num = int(input())\n",
        "N=[]\n",
        "if num>=1:\n",
        "    i=0\n",
        "    for i in range(1, num+1):\n",
        "        a=9\n",
        "        output=a*i\n",
        "        N.append(output)\n",
        "    print(*N)\n",
        "elif num==0:\n",
        "    print(\"NULL\")"
      ]
    },
    {
      "cell_type": "markdown",
      "metadata": {
        "id": "aMHd_wttIgLk"
      },
      "source": [
        "**array......4**\n",
        "\n",
        "You are provided with an array in which all elements are repeated thrice except one which is repeated twice.Your task is to print that number.\n",
        "\n",
        "\n",
        "\n",
        "O(n) time and O(1) extra space\n",
        "\n",
        "Input Description:\n",
        "First line contains a number denoting size of array ‘n’.Next line contains n space separated numbers\n",
        "\n",
        "Output Description:\n",
        "Print the number which is repeated twice"
      ]
    },
    {
      "cell_type": "code",
      "execution_count": null,
      "metadata": {
        "colab": {
          "base_uri": "https://localhost:8080/"
        },
        "id": "mEJV7xx3FanD",
        "outputId": "de9ec12d-4ebb-47ef-afbd-6124b1c885bf"
      },
      "outputs": [
        {
          "name": "stdout",
          "output_type": "stream",
          "text": [
            "5\n",
            "13 12 13 12 13\n",
            "12\n"
          ]
        }
      ],
      "source": [
        "a=input()\n",
        "array=list(map(int,input().split()))\n",
        "c=[]\n",
        "for i in array:\n",
        "  if array.count(i)==2:\n",
        "    if i not in c:\n",
        "      c.append(i)\n",
        "if len(c)>=1:\n",
        "  print(*c)"
      ]
    },
    {
      "cell_type": "markdown",
      "metadata": {
        "id": "J2VJug_oOIHo"
      },
      "source": [
        "**array.....27**\n",
        "\n",
        "Given a number N, print the odd digits in the number(space seperated) or print -1 if there is no odd digit in the given number.\n",
        "Input Size : N <= 100000\n",
        "Sample Testcase :\n",
        "INPUT\n",
        "2143\n",
        "OUTPUT\n",
        "1 3"
      ]
    },
    {
      "cell_type": "code",
      "execution_count": null,
      "metadata": {
        "colab": {
          "base_uri": "https://localhost:8080/"
        },
        "id": "HN9mKIhuKIG-",
        "outputId": "13fb81ed-34cb-4905-eb89-1e7a5b4f631e"
      },
      "outputs": [
        {
          "name": "stdout",
          "output_type": "stream",
          "text": [
            "2143\n",
            "1 3\n"
          ]
        }
      ],
      "source": [
        "a=input()\n",
        "n=int(a)\n",
        "array=[]\n",
        "for i in a:\n",
        "  if int(i)%2==1:\n",
        "    array.append(i)\n",
        "  n=n//10\n",
        "if len(array)>=1:\n",
        "  print(*array)\n",
        "else:\n",
        "  print(-1)\n"
      ]
    },
    {
      "cell_type": "markdown",
      "metadata": {
        "id": "C35dz1yjOtfH"
      },
      "source": [
        "**array......>1**\n",
        "\n",
        "You are given an array of ids of prisoners. The jail authority found that there are some prisoners of same id. Your task is to help the authority in finding the common ids.\n",
        "\n",
        "Input Description:\n",
        "First line contains a number ‘n’ representing no of prisoners. Next line contains n space separated numbers.\n",
        "\n",
        "Output Description:\n",
        "Print the ids which are not unique. Print -1 if all ids are unique\n",
        "\n",
        "Sample Input :\n",
        "7\n",
        "1 1 11 121 131 141 98\n",
        "Sample Output :\n",
        "1"
      ]
    },
    {
      "cell_type": "code",
      "execution_count": null,
      "metadata": {
        "colab": {
          "base_uri": "https://localhost:8080/"
        },
        "id": "bxPRxv-GPQM1",
        "outputId": "10ced4fd-3307-4b2b-960f-883e62eee3ba"
      },
      "outputs": [
        {
          "name": "stdout",
          "output_type": "stream",
          "text": [
            "7\n",
            "1 1 11 121 131 141 98\n",
            "1\n"
          ]
        }
      ],
      "source": [
        "a=input()\n",
        "array=list(map(int,input().split()))\n",
        "c=[]\n",
        "for i in array:\n",
        "  if array.count(i)>=2:\n",
        "    if i not in c:\n",
        "      c.append(i)\n",
        "if len(c)>=1:\n",
        "  print(*c)\n"
      ]
    },
    {
      "cell_type": "markdown",
      "metadata": {
        "id": "DWQsvnysmHO9"
      },
      "source": [
        "**array.......>38**\n",
        "\n",
        "Loki wants to steal the tesseract but in order to do so, he has to rearrange the elements in an array in a specific manner which is mentioned in a clue. The clue says ‘cursed are the odd and sorted are the even’. Loki manages to decode the clue which translates to “sort the even positioned elements of an array, starting from the element at index 0, in ascending order”. Manipulate the array so as to help Loki steal the tesseract.\n",
        "\n",
        "\n",
        "Input Description:\n",
        "Size of the array followed by the elements of the array\n",
        "\n",
        "Output Description:\n",
        "Even index array elements sorted in ascending order\n",
        "\n",
        "Sample Input :\n",
        "5\n",
        "3 9 1 44 6\n",
        "Sample Output :\n",
        "1 9 3 44 6"
      ]
    },
    {
      "cell_type": "code",
      "execution_count": null,
      "metadata": {
        "colab": {
          "base_uri": "https://localhost:8080/"
        },
        "id": "5mZNezLsmGhD",
        "outputId": "7bfc38c5-512d-4c11-a91f-90ac7f889620"
      },
      "outputs": [
        {
          "name": "stdout",
          "output_type": "stream",
          "text": [
            "5\n",
            "3 9 1 44 6\n",
            "1 9 3 44 6\n"
          ]
        }
      ],
      "source": [
        "a=int(input())\n",
        "array=list(map(int,input().split()))\n",
        "odd=[]\n",
        "even=[]\n",
        "array1=[]\n",
        "for i in range(a):\n",
        "  if i%2==0 or i==0:\n",
        "    even.append(array[i])\n",
        "  elif i!=0 and i%2!=0:\n",
        "    odd.append(array[i])\n",
        "even.sort()\n",
        "for i in range(len(even)):\n",
        "  array1.append(even[i])\n",
        "  if i< len(odd):\n",
        "    array1.append(odd[i])\n",
        "print(*array1)\n"
      ]
    },
    {
      "cell_type": "markdown",
      "metadata": {
        "id": "nbkWGuCJrlQ3"
      },
      "source": [
        "**array.......>10**\n",
        "\n",
        "You are given with an array. For each element present in the array your task is to print the next smallest than that number. If it is not smallest print -1\n",
        "\n",
        "Input Description:\n",
        "You are given a number ‘n’ representing size of array. And n space separated numbers.\n",
        "\n",
        "Output Description:\n",
        "Print the next smallest number present in array and -1 if no smallest is present\n",
        "\n",
        "Sample Input :\n",
        "7\n",
        "10 7 9 3 2 1 15\n",
        "Sample Output :\n",
        "7 3 3 2 1 -1 -1"
      ]
    },
    {
      "cell_type": "code",
      "execution_count": null,
      "metadata": {
        "colab": {
          "base_uri": "https://localhost:8080/"
        },
        "id": "HI1PV_aXrwN9",
        "outputId": "e7129290-8f25-4117-fe7d-64dcc9f49fa8"
      },
      "outputs": [
        {
          "name": "stdout",
          "output_type": "stream",
          "text": [
            "7\n",
            "10 7 9 3 2 1 15\n",
            "7 3 3 2 1 -1 -1\n"
          ]
        }
      ],
      "source": [
        "a=int(input())\n",
        "array=list(map(int,input().split()))\n",
        "c=[]\n",
        "for i in range(a):\n",
        "    value=0\n",
        "    for j in range(i,a):\n",
        "        if array[i]>array[j]:\n",
        "            value=array[j]\n",
        "            break\n",
        "        else:\n",
        "            value=-1\n",
        "    c.append(value)\n",
        "print(*c)"
      ]
    },
    {
      "cell_type": "markdown",
      "metadata": {
        "id": "OSjU83Y4A8SH"
      },
      "source": [
        "**Looping..........>5**\n",
        "\n",
        "Write a program to get a list of integers as input and find the LCM of the values without using GCD\n",
        "\n",
        "Input Description:\n",
        "First line contains an integer N, number of values. Second line contains N space separated values.\n",
        "\n",
        "Output Description:\n",
        "Print the LCM of the values.\n",
        "\n",
        "Sample Input :\n",
        "1 2 3 4 5\n",
        "Sample Output :\n",
        "60"
      ]
    },
    {
      "cell_type": "code",
      "execution_count": null,
      "metadata": {
        "colab": {
          "base_uri": "https://localhost:8080/"
        },
        "id": "KoF6LVpb7pGl",
        "outputId": "17e80c45-dc8b-40e7-b50b-f188e100b61c"
      },
      "outputs": [
        {
          "name": "stdout",
          "output_type": "stream",
          "text": [
            "4\n",
            "56 7 8 78\n",
            "2184\n"
          ]
        }
      ],
      "source": [
        "def gcd(a, b):\n",
        "    while b:\n",
        "        a, b = b, a % b\n",
        "    return a\n",
        "\n",
        "def lcm_of_two_numbers(a, b):\n",
        "    return abs(a * b) // gcd(a, b)\n",
        "\n",
        "def lcm_of_list(numbers):\n",
        "    result = 1\n",
        "    for num in numbers:\n",
        "        result = lcm_of_two_numbers(result, num)\n",
        "    return result\n",
        "\n",
        "# Input\n",
        "n = int(input())\n",
        "values = list(map(int, input().split()))\n",
        "\n",
        "# Output\n",
        "result_lcm = lcm_of_list(values)\n",
        "print(result_lcm)"
      ]
    },
    {
      "cell_type": "markdown",
      "metadata": {
        "id": "AtnaZZpIXPqm"
      },
      "source": [
        "**Looping......>6**\n",
        "\n",
        "Write a code to get 2 integers as input and add the integers without any carry.\n",
        "\n",
        "Input Description:\n",
        "A single line containing 2 integers.\n",
        "\n",
        "Output Description:\n",
        "Print sum of the 2 integers without carry\n",
        "\n",
        "Sample Input :\n",
        "44 66\n",
        "\n",
        "\n",
        "Sample Output :\n",
        "0"
      ]
    },
    {
      "cell_type": "code",
      "execution_count": null,
      "metadata": {
        "colab": {
          "base_uri": "https://localhost:8080/"
        },
        "id": "tl5hczLNVfQD",
        "outputId": "9d77b375-c490-4089-ad60-de1894650082"
      },
      "outputs": [
        {
          "name": "stdout",
          "output_type": "stream",
          "text": [
            "44 66\n",
            "0\n"
          ]
        }
      ],
      "source": [
        "def add_without_carry(a, b):\n",
        "    result = 0\n",
        "    multiplier = 1  # Used to keep track of the current place value\n",
        "\n",
        "    while a > 0 or b > 0:\n",
        "        # Extract the last digit of each number\n",
        "        digit_a = a % 10\n",
        "        digit_b = b % 10\n",
        "\n",
        "        # Add the digits without considering any carry\n",
        "        sum_digits = (digit_a + digit_b) % 10\n",
        "\n",
        "        # Update the result by adding the current digit in the correct place value\n",
        "        result += sum_digits * multiplier\n",
        "\n",
        "        # Move to the next place value\n",
        "        multiplier *= 10\n",
        "\n",
        "        # Remove the last digit from each number\n",
        "        a //= 10\n",
        "        b //= 10\n",
        "\n",
        "    return result\n",
        "\n",
        "# Input\n",
        "num1, num2 = map(int, input().split())\n",
        "\n",
        "# Output\n",
        "result = add_without_carry(num1, num2)\n",
        "print(result)\n",
        "\n"
      ]
    },
    {
      "cell_type": "markdown",
      "metadata": {
        "id": "B_6NvaPaXxNH"
      },
      "source": [
        "\n",
        "**Looping......>12**\n",
        "\n",
        "Write a code to get a integer n as input and calculate the smallest perfect power of 2 greater than n.\n",
        "\n",
        "Input Description:\n",
        "A single line containing an integer,n.\n",
        "\n",
        "Output Description:\n",
        "Print the smallest perfect power of 2 greater than n.\n",
        "\n",
        "Sample Input :\n",
        "48\n",
        "Sample Output :\n",
        "64"
      ]
    },
    {
      "cell_type": "code",
      "execution_count": null,
      "metadata": {
        "colab": {
          "base_uri": "https://localhost:8080/"
        },
        "id": "fYNOSQMUXwnj",
        "outputId": "15ac272c-b21e-42bc-8dd2-7159e5b76a6a"
      },
      "outputs": [
        {
          "name": "stdout",
          "output_type": "stream",
          "text": [
            "48\n",
            "64\n"
          ]
        }
      ],
      "source": [
        "def smallest_power_of_2_greater_than_n(n):\n",
        "    power_of_2 = 1\n",
        "\n",
        "    while power_of_2 <= n:\n",
        "        power_of_2 *= 2\n",
        "\n",
        "    return power_of_2\n",
        "\n",
        "# Input\n",
        "n = int(input())\n",
        "\n",
        "# Output\n",
        "result = smallest_power_of_2_greater_than_n(n)\n",
        "print(result)\n"
      ]
    },
    {
      "cell_type": "markdown",
      "metadata": {
        "id": "BbrgeGjkZ6CH"
      },
      "source": [
        "**basics......>6**\n",
        "\n",
        "Given a range of 2 numbers (i.e) L and R count the number of prime numbers in the range (inclusive of L and R ).\n",
        "Input Size : L <= R <= 100000(complexity O(n) read about Sieve of Eratosthenes)\n",
        "Sample Testcase :\n",
        "INPUT\n",
        "2 5\n",
        "OUTPUT\n",
        "3"
      ]
    },
    {
      "cell_type": "code",
      "execution_count": null,
      "metadata": {
        "colab": {
          "base_uri": "https://localhost:8080/"
        },
        "id": "rME3Z07NZfWZ",
        "outputId": "7bb4a204-e0c9-4730-a1fa-9ec32ac9e1a5"
      },
      "outputs": [
        {
          "name": "stdout",
          "output_type": "stream",
          "text": [
            "Enter the range (L R):  2 5\n",
            "Number of prime numbers in the range: 3\n"
          ]
        }
      ],
      "source": [
        "def sieve_of_eratosthenes(n):\n",
        "    # Create a boolean list \"prime[0..n]\" and initialize all elements as True\n",
        "    prime = [True for _ in range(n + 1)]\n",
        "    p = 2\n",
        "    while p**2 <= n:\n",
        "        # If prime[p] is not changed, then it is a prime\n",
        "        if prime[p]:\n",
        "            # Update all multiples of p\n",
        "            for i in range(p**2, n + 1, p):\n",
        "                prime[i] = False\n",
        "        p += 1\n",
        "\n",
        "    return prime\n",
        "\n",
        "def count_primes_in_range(l, r):\n",
        "    # Using Sieve of Eratosthenes to find prime numbers up to 'r'\n",
        "    primes = sieve_of_eratosthenes(r)\n",
        "\n",
        "    # Count primes in the given range\n",
        "    count = sum(1 for i in range(max(2, l), r + 1) if primes[i])\n",
        "\n",
        "    return count\n",
        "\n",
        "# Input\n",
        "l, r = map(int, input().split())\n",
        "\n",
        "# Output\n",
        "result = count_primes_in_range(l, r)\n",
        "print(result)"
      ]
    },
    {
      "cell_type": "markdown",
      "metadata": {
        "id": "Lp8p1-y6amL7"
      },
      "source": [
        "**basics......>7**\n",
        "\n",
        "Given 3 numbers N , L and R. Print 'yes' if N is between L and R else print 'no'.\n",
        "Sample Testcase :\n",
        "INPUT\n",
        "3\n",
        "2 6\n",
        "OUTPUT\n",
        "yes"
      ]
    },
    {
      "cell_type": "code",
      "execution_count": null,
      "metadata": {
        "colab": {
          "base_uri": "https://localhost:8080/"
        },
        "id": "8X6wIkXMamgs",
        "outputId": "0c1e582a-b9cb-4fb2-dcfd-080856ec379f"
      },
      "outputs": [
        {
          "name": "stdout",
          "output_type": "stream",
          "text": [
            "3\n",
            "2 6\n",
            "yes\n"
          ]
        }
      ],
      "source": [
        "# Input\n",
        "N = int(input())\n",
        "L, R = map(int, input().split())\n",
        "\n",
        "# Output\n",
        "if L <= N <= R:\n",
        "    print(\"yes\")\n",
        "else:\n",
        "    print(\"no\")"
      ]
    },
    {
      "cell_type": "markdown",
      "metadata": {
        "id": "roFfG6YRbhpz"
      },
      "source": [
        "**basics......>11**\n",
        "\n",
        "Given 2 numbers N and K followed by elements of N .Print 'yes' if K exists else print 'no'.\n",
        "Sample Testcase :\n",
        "INPUT\n",
        "4 2\n",
        "1 2 3 3\n",
        "OUTPUT\n",
        "yes"
      ]
    },
    {
      "cell_type": "code",
      "execution_count": null,
      "metadata": {
        "colab": {
          "base_uri": "https://localhost:8080/"
        },
        "id": "zfNsKJj8bF-O",
        "outputId": "20282eea-bf9a-43de-9367-6db5209f3bc0"
      },
      "outputs": [
        {
          "name": "stdout",
          "output_type": "stream",
          "text": [
            "4 2\n",
            "1 6 3 3\n",
            "no\n"
          ]
        }
      ],
      "source": [
        "# Input\n",
        "N, K = map(int, input().split())\n",
        "elements = list(map(int, input().split()))\n",
        "\n",
        "# Output\n",
        "if K in elements:\n",
        "    print(\"yes\")\n",
        "else:\n",
        "    print(\"no\")\n"
      ]
    },
    {
      "cell_type": "markdown",
      "metadata": {
        "id": "Qz6-4folcLOo"
      },
      "source": [
        "**basics.....>14**\n",
        "\n",
        "\n",
        "Given numbers A,B find A^B.\n",
        "Input Size : 1 <= A <= 5 <= B <= 50\n",
        "Sample Testcase :\n",
        "INPUT\n",
        "3 4\n",
        "OUTPUT\n",
        "*81*"
      ]
    },
    {
      "cell_type": "code",
      "execution_count": null,
      "metadata": {
        "id": "KEovLol4cLip"
      },
      "outputs": [],
      "source": [
        "# Input\n",
        "A, B = map(int, input().split())\n",
        "\n",
        "# Output\n",
        "result = A**B\n",
        "print(result)"
      ]
    },
    {
      "cell_type": "markdown",
      "metadata": {
        "id": "WAFCA3qVc1tX"
      },
      "source": [
        "**basics.....>18**\n",
        "\n",
        "\n",
        "Given an array of N elements switch(swap) the element with the adjacent element and print the output.\n",
        "Sample Testcase :\n",
        "INPUT\n",
        "5\n",
        "3 2 1 2 3\n",
        "OUTPUT\n",
        "2 3 2 1 3"
      ]
    },
    {
      "cell_type": "code",
      "execution_count": null,
      "metadata": {
        "colab": {
          "base_uri": "https://localhost:8080/"
        },
        "id": "5w5J4lAMc14R",
        "outputId": "18470adb-ffae-4957-b659-3290ac98a4e8"
      },
      "outputs": [
        {
          "name": "stdout",
          "output_type": "stream",
          "text": [
            "5\n",
            "5 4 3 2 1\n",
            "4 5 2 3 1\n"
          ]
        }
      ],
      "source": [
        "# Input\n",
        "N = int(input())\n",
        "array = list(map(int, input().split()))\n",
        "\n",
        "# Switch adjacent elements\n",
        "for i in range(0, N - 1, 2):\n",
        "    array[i], array[i + 1] = array[i + 1], array[i]\n",
        "\n",
        "# Output\n",
        "result = \" \".join(map(str, array))\n",
        "print(result)\n"
      ]
    },
    {
      "cell_type": "markdown",
      "metadata": {
        "id": "pvyo8lAod9Os"
      },
      "source": [
        "**basics.....>19**\n",
        "\n",
        "Given a string 'S' swap the even and odd characters starting from index 1(Assume the index starts from 0).\n",
        "Input Size : |s| <= 10000000(complexity O(n))\n",
        "Sample Testcase :\n",
        "INPUT\n",
        "codekata\n",
        "OUTPUT\n",
        "ocedakat"
      ]
    },
    {
      "cell_type": "code",
      "execution_count": null,
      "metadata": {
        "colab": {
          "base_uri": "https://localhost:8080/"
        },
        "id": "XnrggPdxd9gU",
        "outputId": "79b2884c-5fcb-4f4b-e966-2fd1de855221"
      },
      "outputs": [
        {
          "name": "stdout",
          "output_type": "stream",
          "text": [
            "abcdefgh\n",
            "badcfehg\n"
          ]
        }
      ],
      "source": [
        "# Input\n",
        "S = input()\n",
        "\n",
        "# Swap even and odd characters starting from index 1\n",
        "result = ''.join(S[i + 1] + S[i] if i + 1 < len(S) else S[i] for i in range(0, len(S), 2))\n",
        "\n",
        "# Output\n",
        "print(result)\n"
      ]
    },
    {
      "cell_type": "markdown",
      "metadata": {
        "id": "lwYoy-qrf6nY"
      },
      "source": [
        "**basics......>20**\n",
        "\n",
        "Given 3 numbers A,B,C print 'yes' if they can form the sides of a scalene triangle else print 'no'.\n",
        "Input Size : A,B,C <= 100000\n",
        "Sample Testcase :\n",
        "INPUT\n",
        "3 4 5\n",
        "OUTPUT\n",
        "yes"
      ]
    },
    {
      "cell_type": "code",
      "execution_count": null,
      "metadata": {
        "colab": {
          "base_uri": "https://localhost:8080/"
        },
        "id": "3Fh4nDtne6ui",
        "outputId": "fd292c37-01d7-4af4-d649-a16fe4e98f8c"
      },
      "outputs": [
        {
          "name": "stdout",
          "output_type": "stream",
          "text": [
            "3 4 5\n",
            "yes\n"
          ]
        }
      ],
      "source": [
        "# Input\n",
        "A, B, C = map(int, input().split())\n",
        "\n",
        "# Check if the numbers can form a scalene triangle\n",
        "if A + B > C and B + C > A and C + A > B and A != B != C:\n",
        "    print(\"yes\")\n",
        "else:\n",
        "    print(\"no\")\n"
      ]
    },
    {
      "cell_type": "markdown",
      "metadata": {
        "id": "osmir3PMgxUd"
      },
      "source": [
        "**basics.......>21**\n",
        "\n",
        "Kabali is a brave warrior who with his group of young ninjas moves from one place to another to fight against his opponents. Before Fighting he just calculates one thing, the difference between his ninja number and the opponent's ninja number. From this difference he decides whether to fight or not. Kabali's ninja number is never greater than his opponent.\n",
        "Input\n",
        "The input contains two numbers in every line. These two numbers in each line denotes the number ninjas in Kabali's clan and his opponent's clan . print the absolute difference of number of ninjas between Kabali's clan and his opponent's clan. Each output should be in seperate line.\n",
        "Sample Testcase :\n",
        "INPUT\n",
        "100 200\n",
        "OUTPUT\n",
        "100"
      ]
    },
    {
      "cell_type": "code",
      "execution_count": null,
      "metadata": {
        "colab": {
          "base_uri": "https://localhost:8080/",
          "height": 460
        },
        "id": "3iqANuq7gw4V",
        "outputId": "847acfbb-da1e-4dce-cfe0-b89f66167514"
      },
      "outputs": [
        {
          "name": "stdout",
          "output_type": "stream",
          "text": [
            "100 200\n",
            "100\n",
            "300 100\n",
            "200\n"
          ]
        },
        {
          "ename": "KeyboardInterrupt",
          "evalue": "ignored",
          "output_type": "error",
          "traceback": [
            "\u001b[0;31m---------------------------------------------------------------------------\u001b[0m",
            "\u001b[0;31mKeyboardInterrupt\u001b[0m                         Traceback (most recent call last)",
            "\u001b[0;32m<ipython-input-28-d7976b2c822b>\u001b[0m in \u001b[0;36m<cell line: 2>\u001b[0;34m()\u001b[0m\n\u001b[1;32m      3\u001b[0m     \u001b[0;32mtry\u001b[0m\u001b[0;34m:\u001b[0m\u001b[0;34m\u001b[0m\u001b[0;34m\u001b[0m\u001b[0m\n\u001b[1;32m      4\u001b[0m         \u001b[0;31m# Input\u001b[0m\u001b[0;34m\u001b[0m\u001b[0;34m\u001b[0m\u001b[0m\n\u001b[0;32m----> 5\u001b[0;31m         \u001b[0mkabali_ninjas\u001b[0m\u001b[0;34m,\u001b[0m \u001b[0mopponent_ninjas\u001b[0m \u001b[0;34m=\u001b[0m \u001b[0mmap\u001b[0m\u001b[0;34m(\u001b[0m\u001b[0mint\u001b[0m\u001b[0;34m,\u001b[0m \u001b[0minput\u001b[0m\u001b[0;34m(\u001b[0m\u001b[0;34m)\u001b[0m\u001b[0;34m.\u001b[0m\u001b[0msplit\u001b[0m\u001b[0;34m(\u001b[0m\u001b[0;34m)\u001b[0m\u001b[0;34m)\u001b[0m\u001b[0;34m\u001b[0m\u001b[0;34m\u001b[0m\u001b[0m\n\u001b[0m\u001b[1;32m      6\u001b[0m \u001b[0;34m\u001b[0m\u001b[0m\n\u001b[1;32m      7\u001b[0m         \u001b[0;31m# Calculate the absolute difference\u001b[0m\u001b[0;34m\u001b[0m\u001b[0;34m\u001b[0m\u001b[0m\n",
            "\u001b[0;32m/usr/local/lib/python3.10/dist-packages/ipykernel/kernelbase.py\u001b[0m in \u001b[0;36mraw_input\u001b[0;34m(self, prompt)\u001b[0m\n\u001b[1;32m    849\u001b[0m                 \u001b[0;34m\"raw_input was called, but this frontend does not support input requests.\"\u001b[0m\u001b[0;34m\u001b[0m\u001b[0;34m\u001b[0m\u001b[0m\n\u001b[1;32m    850\u001b[0m             )\n\u001b[0;32m--> 851\u001b[0;31m         return self._input_request(str(prompt),\n\u001b[0m\u001b[1;32m    852\u001b[0m             \u001b[0mself\u001b[0m\u001b[0;34m.\u001b[0m\u001b[0m_parent_ident\u001b[0m\u001b[0;34m,\u001b[0m\u001b[0;34m\u001b[0m\u001b[0;34m\u001b[0m\u001b[0m\n\u001b[1;32m    853\u001b[0m             \u001b[0mself\u001b[0m\u001b[0;34m.\u001b[0m\u001b[0m_parent_header\u001b[0m\u001b[0;34m,\u001b[0m\u001b[0;34m\u001b[0m\u001b[0;34m\u001b[0m\u001b[0m\n",
            "\u001b[0;32m/usr/local/lib/python3.10/dist-packages/ipykernel/kernelbase.py\u001b[0m in \u001b[0;36m_input_request\u001b[0;34m(self, prompt, ident, parent, password)\u001b[0m\n\u001b[1;32m    893\u001b[0m             \u001b[0;32mexcept\u001b[0m \u001b[0mKeyboardInterrupt\u001b[0m\u001b[0;34m:\u001b[0m\u001b[0;34m\u001b[0m\u001b[0;34m\u001b[0m\u001b[0m\n\u001b[1;32m    894\u001b[0m                 \u001b[0;31m# re-raise KeyboardInterrupt, to truncate traceback\u001b[0m\u001b[0;34m\u001b[0m\u001b[0;34m\u001b[0m\u001b[0m\n\u001b[0;32m--> 895\u001b[0;31m                 \u001b[0;32mraise\u001b[0m \u001b[0mKeyboardInterrupt\u001b[0m\u001b[0;34m(\u001b[0m\u001b[0;34m\"Interrupted by user\"\u001b[0m\u001b[0;34m)\u001b[0m \u001b[0;32mfrom\u001b[0m \u001b[0;32mNone\u001b[0m\u001b[0;34m\u001b[0m\u001b[0;34m\u001b[0m\u001b[0m\n\u001b[0m\u001b[1;32m    896\u001b[0m             \u001b[0;32mexcept\u001b[0m \u001b[0mException\u001b[0m \u001b[0;32mas\u001b[0m \u001b[0me\u001b[0m\u001b[0;34m:\u001b[0m\u001b[0;34m\u001b[0m\u001b[0;34m\u001b[0m\u001b[0m\n\u001b[1;32m    897\u001b[0m                 \u001b[0mself\u001b[0m\u001b[0;34m.\u001b[0m\u001b[0mlog\u001b[0m\u001b[0;34m.\u001b[0m\u001b[0mwarning\u001b[0m\u001b[0;34m(\u001b[0m\u001b[0;34m\"Invalid Message:\"\u001b[0m\u001b[0;34m,\u001b[0m \u001b[0mexc_info\u001b[0m\u001b[0;34m=\u001b[0m\u001b[0;32mTrue\u001b[0m\u001b[0;34m)\u001b[0m\u001b[0;34m\u001b[0m\u001b[0;34m\u001b[0m\u001b[0m\n",
            "\u001b[0;31mKeyboardInterrupt\u001b[0m: Interrupted by user"
          ]
        }
      ],
      "source": [
        "# Process each line of input\n",
        "while True:\n",
        "    try:\n",
        "        # Input\n",
        "        kabali_ninjas, opponent_ninjas = map(int, input().split())\n",
        "\n",
        "        # Calculate the absolute difference\n",
        "        difference = abs(kabali_ninjas - opponent_ninjas)\n",
        "\n",
        "        # Output\n",
        "        print(difference)\n",
        "\n",
        "    except EOFError:\n",
        "        break\n"
      ]
    },
    {
      "cell_type": "markdown",
      "metadata": {
        "id": "VkMQ4S0phUWb"
      },
      "source": [
        "**basics......>23**\n",
        "\n",
        "Given 2 numbers N,M find the GCD of N and M.If it cannot be found for given number(s) then print -1\n",
        "Sample Testcase :\n",
        "INPUT\n",
        "10 5\n",
        "OUTPUT\n",
        "5"
      ]
    },
    {
      "cell_type": "code",
      "execution_count": null,
      "metadata": {
        "colab": {
          "base_uri": "https://localhost:8080/"
        },
        "id": "0UudHnX2hUn1",
        "outputId": "825b38ab-8123-44f2-f0f6-5978dc0a92be"
      },
      "outputs": [
        {
          "name": "stdout",
          "output_type": "stream",
          "text": [
            "37 -73\n",
            "-1\n"
          ]
        }
      ],
      "source": [
        "def find_gcd(a, b):\n",
        "    while b:\n",
        "        a, b = b, a % b\n",
        "    return a\n",
        "\n",
        "# Input\n",
        "N, M = map(int, input().split())\n",
        "\n",
        "# Calculate the GCD\n",
        "gcd_result = find_gcd(N, M)\n",
        "\n",
        "# Output\n",
        "if gcd_result > 0:\n",
        "    print(gcd_result)\n",
        "else:\n",
        "    print(-1)\n"
      ]
    },
    {
      "cell_type": "markdown",
      "metadata": {
        "id": "A--SuyrBh63E"
      },
      "source": [
        "**basics.........>24**\n",
        "\n",
        "Given a number N, print the Bitwise NOT of that number.\n",
        "Input Size : 1 <= N <= 10000\n",
        "Sample Testcase :\n",
        "INPUT\n",
        "5\n",
        "OUTPUT\n",
        "-6"
      ]
    },
    {
      "cell_type": "code",
      "execution_count": null,
      "metadata": {
        "colab": {
          "base_uri": "https://localhost:8080/"
        },
        "id": "tFVZ3zT_iJf5",
        "outputId": "aa62d479-676f-42e1-e4de-343a905c9ba8"
      },
      "outputs": [
        {
          "name": "stdout",
          "output_type": "stream",
          "text": [
            "5\n",
            "-6\n"
          ]
        }
      ],
      "source": [
        "# Input\n",
        "N = int(input())\n",
        "\n",
        "# Bitwise NOT operation\n",
        "bitwise_not_result = ~N\n",
        "\n",
        "# Output\n",
        "print(bitwise_not_result)\n"
      ]
    },
    {
      "cell_type": "markdown",
      "metadata": {
        "id": "bQ5ZCNPqlFsj"
      },
      "source": [
        "**basics.........>23**\n",
        "\n",
        "Given 2 numbers N,M find the GCD of N and M.If it cannot be found for given number(s) then print -1\n",
        "Sample Testcase :\n",
        "INPUT\n",
        "10 5\n",
        "OUTPUT\n",
        "5"
      ]
    },
    {
      "cell_type": "code",
      "execution_count": null,
      "metadata": {
        "colab": {
          "base_uri": "https://localhost:8080/"
        },
        "id": "yUlSOfWulGFU",
        "outputId": "2bde10b1-7d5a-448a-9ed9-6cc40e8071f9"
      },
      "outputs": [
        {
          "name": "stdout",
          "output_type": "stream",
          "text": [
            "12 0\n",
            "-1\n"
          ]
        }
      ],
      "source": [
        "def find_gcd(a, b):\n",
        "    # Use absolute values for calculation\n",
        "    a, b = abs(a), abs(b)\n",
        "\n",
        "    while b:\n",
        "        a, b = b, a % b\n",
        "\n",
        "    return a\n",
        "\n",
        "# Input\n",
        "N, M = map(int, input().split())\n",
        "\n",
        "# Check if either N or M is 0\n",
        "if N == 0 or M == 0:\n",
        "    gcd_result = -1\n",
        "else:\n",
        "    # Calculate the GCD\n",
        "    gcd_result = find_gcd(N, M)\n",
        "\n",
        "# Output\n",
        "print(gcd_result)\n"
      ]
    },
    {
      "cell_type": "markdown",
      "metadata": {
        "id": "3r_zBri8l5WQ"
      },
      "source": [
        "**basics.....>25**\n",
        "\n",
        "Given 3 numbers A,B,C print 'yes' if they can form the sides of a right angled triangle,otherwise 'no'.\n",
        "Input Size : A,B,C <= 100000\n",
        "Sample Testcase :\n",
        "INPUT\n",
        "3 4 5\n",
        "OUTPUT\n",
        "yes"
      ]
    },
    {
      "cell_type": "code",
      "execution_count": null,
      "metadata": {
        "colab": {
          "base_uri": "https://localhost:8080/"
        },
        "id": "gVWyZ9WimCi2",
        "outputId": "765ca443-35eb-45eb-d2e0-6e6fecd2b0ef"
      },
      "outputs": [
        {
          "name": "stdout",
          "output_type": "stream",
          "text": [
            "3 4 5\n",
            "yes\n"
          ]
        }
      ],
      "source": [
        "# Input\n",
        "A, B, C = map(int, input().split())\n",
        "\n",
        "# Check if they can form the sides of a right-angled triangle\n",
        "if A**2 + B**2 == C**2 or B**2 + C**2 == A**2 or C**2 + A**2 == B**2:\n",
        "    print(\"yes\")\n",
        "else:\n",
        "    print(\"no\")\n"
      ]
    },
    {
      "cell_type": "markdown",
      "metadata": {
        "id": "FmKDkQETm7bG"
      },
      "source": [
        "**basics......>26**\n",
        "\n",
        "Let P represent Paper, R represent Rock and S represent Scissors. Given 2 out of the 3 determine which one wins. If its a draw print 'D'.\n",
        "Sample Testcase :\n",
        "INPUT\n",
        "R P\n",
        "OUTPUT\n",
        "P"
      ]
    },
    {
      "cell_type": "code",
      "execution_count": null,
      "metadata": {
        "colab": {
          "base_uri": "https://localhost:8080/"
        },
        "id": "irc_OZ2anBRk",
        "outputId": "4564ab10-ce19-46e9-fda9-332e79fd868d"
      },
      "outputs": [
        {
          "name": "stdout",
          "output_type": "stream",
          "text": [
            "P S\n",
            "S\n"
          ]
        }
      ],
      "source": [
        "# Input\n",
        "player1, player2 = input().split()\n",
        "\n",
        "# Determine the winner\n",
        "if (player1 == 'R' and player2 == 'S') or (player1 == 'S' and player2 == 'P') or (player1 == 'P' and player2 == 'R'):\n",
        "    print(player1)\n",
        "elif (player2 == 'R' and player1 == 'S') or (player2 == 'S' and player1 == 'P') or (player2 == 'P' and player1 == 'R'):\n",
        "    print(player2)\n",
        "else:\n",
        "    print('D')  # Draw\n"
      ]
    },
    {
      "cell_type": "markdown",
      "metadata": {
        "id": "9-OIM7UD1bE_"
      },
      "source": [
        "**basics.......>27**\n",
        "\n",
        "Write a code to get a integer n as input and calculate the smallest perfect power of 2 greater than n.\n",
        "\n",
        "Input Description:\n",
        "A single line containing an integer,n.\n",
        "\n",
        "Output Description:\n",
        "Print the smallest perfect power of 2 greater than n.\n",
        "\n",
        "Sample Input :\n",
        "48\n",
        "Sample Output :\n",
        "64"
      ]
    },
    {
      "cell_type": "code",
      "execution_count": null,
      "metadata": {
        "id": "LQ3jjIn41bRP"
      },
      "outputs": [],
      "source": [
        "def smallest_power_of_2_greater_than_n(n):\n",
        "    power_of_2 = 1\n",
        "\n",
        "    while power_of_2 <= n:\n",
        "        power_of_2 *= 2\n",
        "\n",
        "    return power_of_2\n",
        "\n",
        "# Input\n",
        "n = int(input())\n",
        "\n",
        "# Output\n",
        "result = smallest_power_of_2_greater_than_n(n)\n",
        "print(result)"
      ]
    },
    {
      "cell_type": "markdown",
      "metadata": {
        "id": "lgBeoBCG2k4O"
      },
      "source": [
        "**basics.....>28**\n",
        "\n",
        "The Caesar Cipher technique is one of the earliest and simplest method of encryption technique. It’s simply a type of substitution cipher, i.e., each letter of a given text is replaced by a letter some fixed number of positions down the alphabet. For example with a shift of 1, A would be replaced by B, B would become C, and so on. The method is apparently named after Julius Caesar, who apparently used it to communicate with his officials.For the given input string(S) and shift print the encrypted string.\n",
        "Sample Testcase :\n",
        "INPUT\n",
        "ABCdEFGHIJKLMNOPQRSTUVWXYz 23\n",
        "OUTPUT\n",
        "XYZaBCDEFGHIJKLMNOPQRSTUVw"
      ]
    },
    {
      "cell_type": "code",
      "execution_count": null,
      "metadata": {
        "colab": {
          "base_uri": "https://localhost:8080/"
        },
        "id": "eNR6NJv52luK",
        "outputId": "1a3e69d6-0d92-4395-deeb-7f082f028cb7"
      },
      "outputs": [
        {
          "name": "stdout",
          "output_type": "stream",
          "text": [
            "ABCdEFGHIJKLMNOPQRSTUVWXYz 23\n",
            "XYZaBCDEFGHIJKLMNOPQRSTUVw\n"
          ]
        }
      ],
      "source": [
        "def caesar_cipher(s, shift):\n",
        "    encrypted_string = \"\"\n",
        "\n",
        "    for char in s:\n",
        "        if char.isalpha():\n",
        "            # Determine the case (uppercase or lowercase) of the character\n",
        "            is_uppercase = char.isupper()\n",
        "\n",
        "            # Shift the character by the specified amount\n",
        "            shifted_char = chr((ord(char) - ord('A' if is_uppercase else 'a') + shift) % 26 + ord('A' if is_uppercase else 'a'))\n",
        "\n",
        "            # Append the shifted character to the result\n",
        "            encrypted_string += shifted_char\n",
        "        else:\n",
        "            # If the character is not an alphabet character, leave it unchanged\n",
        "            encrypted_string += char\n",
        "\n",
        "    return encrypted_string\n",
        "\n",
        "# Input\n",
        "input_string, shift = input().split()\n",
        "shift = int(shift)\n",
        "\n",
        "# Output\n",
        "result = caesar_cipher(input_string, shift)\n",
        "print(result)\n"
      ]
    },
    {
      "cell_type": "markdown",
      "metadata": {
        "id": "ATDAicZ84Zp4"
      },
      "source": [
        "**basics.......>29**\n",
        "\n",
        "Given a number N followed by N numbers.Find the smallest number and largest number and print both the indices(1 based indexing).\n",
        "Input Size : N <= 100000\n",
        "Sample Testcase :\n",
        "INPUT\n",
        "5\n",
        "1 2 3 4 5\n",
        "OUTPUT\n",
        "1 5"
      ]
    },
    {
      "cell_type": "code",
      "execution_count": null,
      "metadata": {
        "colab": {
          "base_uri": "https://localhost:8080/"
        },
        "id": "3Iu0CM124e_8",
        "outputId": "645b7546-e9d0-4d7a-96f4-810e15db6623"
      },
      "outputs": [
        {
          "name": "stdout",
          "output_type": "stream",
          "text": [
            "5\n",
            "8 7 10 1 9\n",
            "4 3\n"
          ]
        }
      ],
      "source": [
        "# Input\n",
        "N = int(input())\n",
        "numbers = list(map(int, input().split()))\n",
        "\n",
        "# Find the indices of the smallest and largest numbers\n",
        "min_index = numbers.index(min(numbers)) + 1\n",
        "max_index = numbers.index(max(numbers)) + 1\n",
        "\n",
        "# Output\n",
        "print(min_index, max_index)\n"
      ]
    },
    {
      "cell_type": "markdown",
      "metadata": {
        "id": "jRNLSFEs45Uy"
      },
      "source": [
        "**basics.....>30**\n",
        "\n",
        "Find the minimum among 10 numbers.\n",
        "Sample Testcase :\n",
        "INPUT\n",
        "5 4 3 2 1 7 6 10 8 9\n",
        "OUTPUT\n",
        "1"
      ]
    },
    {
      "cell_type": "code",
      "execution_count": null,
      "metadata": {
        "colab": {
          "base_uri": "https://localhost:8080/"
        },
        "id": "GGdsBqzv5AOS",
        "outputId": "3698e769-db0b-4bba-ceea-b7d8736027a7"
      },
      "outputs": [
        {
          "name": "stdout",
          "output_type": "stream",
          "text": [
            "5 4 3 2 1 7 6 10 8 9\n",
            "1 10\n"
          ]
        }
      ],
      "source": [
        "numbers = list(map(int, input().split()))\n",
        "mini=min(numbers)\n",
        "maxi=max(numbers)\n",
        "#print(mini, maxi)\n",
        "print(mini)\n"
      ]
    },
    {
      "cell_type": "markdown",
      "metadata": {
        "id": "RvPhoRkL6ney"
      },
      "source": [
        "**basics......>31**\n",
        "\n",
        "Given a number N and an array of N elements, find the Bitwise OR of the array elements.\n",
        "Input Size : N <= 100000\n",
        "Sample Testcase :\n",
        "INPUT\n",
        "2\n",
        "2 4\n",
        "OUTPUT\n",
        "6"
      ]
    },
    {
      "cell_type": "code",
      "execution_count": null,
      "metadata": {
        "colab": {
          "base_uri": "https://localhost:8080/"
        },
        "id": "umuzScYa6tzy",
        "outputId": "4e0afc06-cab4-4f69-8fee-3932f0dff395"
      },
      "outputs": [
        {
          "name": "stdout",
          "output_type": "stream",
          "text": [
            "2\n",
            "2 4\n",
            "6\n"
          ]
        }
      ],
      "source": [
        "# Input\n",
        "N = int(input())\n",
        "array = list(map(int, input().split()))\n",
        "\n",
        "# Find the bitwise OR of the array elements\n",
        "bitwise_or_result = 0\n",
        "for element in array:\n",
        "    bitwise_or_result |= element\n",
        "\n",
        "# Output\n",
        "print(bitwise_or_result)\n"
      ]
    },
    {
      "cell_type": "markdown",
      "metadata": {
        "id": "ep9T5KWH8Sk2"
      },
      "source": [
        "**basics......>32**\n",
        "\n",
        "Given 2 numbers N and K followed by N elements,print the number of repetition of K otherwise print '-1' if the element not found.\n",
        "Sample Testcase :\n",
        "INPUT\n",
        "6 2\n",
        "1 2 3 5 7 8\n",
        "OUTPUT\n",
        "0"
      ]
    },
    {
      "cell_type": "code",
      "execution_count": null,
      "metadata": {
        "colab": {
          "base_uri": "https://localhost:8080/"
        },
        "id": "K3rZyFFd7j9B",
        "outputId": "2491f097-abfa-4ccb-c22a-18f9d7179ece"
      },
      "outputs": [
        {
          "name": "stdout",
          "output_type": "stream",
          "text": [
            "6 2\n",
            "1 2 3 5 7 8\n",
            "1\n"
          ]
        }
      ],
      "source": [
        "# Input\n",
        "N, K = map(int, input().split())\n",
        "array = list(map(int, input().split()))\n",
        "\n",
        "# Find the number of repetitions of K\n",
        "repetitions = array.count(K)\n",
        "\n",
        "# Output\n",
        "if repetitions > 0:\n",
        "    print(0)\n",
        "else:\n",
        "    print(-1)\n"
      ]
    },
    {
      "cell_type": "markdown",
      "metadata": {
        "id": "a4EtyhdG8vKN"
      },
      "source": [
        "**basics.....>35**\n",
        "\n",
        "Given a number N and an array of N elements ,find the Bitwise AND of the array elements.\n",
        "Input Size N <= 100000\n",
        "Sample Testcase :\n",
        "INPUT\n",
        "4\n",
        "4 3 2 1\n",
        "OUTPUT\n",
        "0"
      ]
    },
    {
      "cell_type": "code",
      "execution_count": null,
      "metadata": {
        "colab": {
          "base_uri": "https://localhost:8080/"
        },
        "id": "fI9zyKaM82oc",
        "outputId": "2ad5e4c3-6084-4c9f-c67f-5680a27c9144"
      },
      "outputs": [
        {
          "name": "stdout",
          "output_type": "stream",
          "text": [
            "4\n",
            "4 3 2 1\n",
            "0\n"
          ]
        }
      ],
      "source": [
        "# Input\n",
        "N = int(input())\n",
        "array = list(map(int, input().split()))\n",
        "\n",
        "# Find the bitwise AND of the array elements\n",
        "bitwise_and_result = array[0]\n",
        "for element in array[1:]:\n",
        "    bitwise_and_result &= element\n",
        "\n",
        "# Output\n",
        "print(bitwise_and_result)\n"
      ]
    },
    {
      "cell_type": "markdown",
      "metadata": {
        "id": "vE7ZstyO9T-D"
      },
      "source": [
        "**basics......>36**\n",
        "\n",
        "Check whether the given 4 points form a square or not.\n",
        "Example:\n",
        "INPUT\n",
        "10 10\n",
        "10 20\n",
        "20 20\n",
        "20 10\n",
        "OUTPUT\n",
        "yes"
      ]
    },
    {
      "cell_type": "code",
      "execution_count": null,
      "metadata": {
        "colab": {
          "base_uri": "https://localhost:8080/"
        },
        "id": "quaLCAMc9YwS",
        "outputId": "d373b2bb-7caf-45ec-d478-c7beeb4f4741"
      },
      "outputs": [
        {
          "name": "stdout",
          "output_type": "stream",
          "text": [
            "10 10\n",
            "10 20\n",
            "20 20\n",
            "20 10\n",
            "yes\n"
          ]
        }
      ],
      "source": [
        "def distance_squared(point1, point2):\n",
        "    return (point1[0] - point2[0])**2 + (point1[1] - point2[1])**2\n",
        "\n",
        "def is_square(point1, point2, point3, point4):\n",
        "    # Calculate distances between points\n",
        "    distances = [\n",
        "        distance_squared(point1, point2),\n",
        "        distance_squared(point2, point3),\n",
        "        distance_squared(point3, point4),\n",
        "        distance_squared(point4, point1),\n",
        "        distance_squared(point1, point3),  # Diagonal\n",
        "        distance_squared(point2, point4)   # Diagonal\n",
        "    ]\n",
        "\n",
        "    # Check conditions for a square\n",
        "    return (\n",
        "        len(set(distances)) == 2 and  # All sides have the same length\n",
        "        distances.count(max(distances)) == 2 and  # Two sides have the same length\n",
        "        distances.count(min(distances)) == 4     # Four sides (diagonals included) have the same length\n",
        "    )\n",
        "\n",
        "# Input\n",
        "points = [tuple(map(int, input().split())) for _ in range(4)]\n",
        "\n",
        "# Output\n",
        "if is_square(*points):\n",
        "    print(\"yes\")\n",
        "else:\n",
        "    print(\"no\")\n",
        "\n"
      ]
    },
    {
      "cell_type": "markdown",
      "metadata": {
        "id": "yYWvw-hX--3u"
      },
      "source": [
        "**basics.........37**\n",
        "\n",
        "Given a string S consisting of 2 words reverse the order of two words .\n",
        "Input Size : |S| <= 10000000\n",
        "Sample Testcase :\n",
        "INPUT\n",
        "hello world\n",
        "OUTPUT\n",
        "world hello"
      ]
    },
    {
      "cell_type": "code",
      "execution_count": null,
      "metadata": {
        "colab": {
          "base_uri": "https://localhost:8080/"
        },
        "id": "fXLtRfFh_HD7",
        "outputId": "3682a4bc-241e-4819-ac64-d3bb8c5db562"
      },
      "outputs": [
        {
          "name": "stdout",
          "output_type": "stream",
          "text": [
            "hello world\n",
            "world hello\n"
          ]
        }
      ],
      "source": [
        "# Input\n",
        "input_string = input()\n",
        "\n",
        "# Split the input string into words\n",
        "words = input_string.split()\n",
        "\n",
        "# Reverse the order of words\n",
        "reversed_words = ' '.join(reversed(words))\n",
        "\n",
        "# Output\n",
        "print(reversed_words)\n"
      ]
    },
    {
      "cell_type": "markdown",
      "metadata": {
        "id": "gFrbmWZyAurh"
      },
      "source": [
        "**basics.......>41**\n",
        "\n",
        "\n",
        "Given a list of N coins, their values (V1, V2, … , VN), and the total sum S. Find the minimum number of coins the sum of which is S (we can use as many coins of one type as we want), if it is not possible to select coins in such a way that they sum up to S then print '-1'.\n",
        "Example: Given coins with values 1, 3, and 5. And the sum S is 11.\n",
        "Output: 3, 2 coins of 3 and 1 coin of 5\n",
        "Input Size : N<=10000\n",
        "Example:\n",
        "INPUT\n",
        "3 11\n",
        "1 3 5\n",
        "OUTPUT\n",
        "3"
      ]
    },
    {
      "cell_type": "code",
      "execution_count": null,
      "metadata": {
        "colab": {
          "base_uri": "https://localhost:8080/"
        },
        "id": "hDig1rB_A0kQ",
        "outputId": "973af695-b5bc-48c1-80a0-afb8720e657e"
      },
      "outputs": [
        {
          "name": "stdout",
          "output_type": "stream",
          "text": [
            "3 11\n",
            "1 3 5\n",
            "3\n"
          ]
        }
      ],
      "source": [
        "def min_coins(coins, target_sum):\n",
        "    # Initialize an array to store minimum number of coins for each value from 0 to target_sum\n",
        "    dp = [float('inf')] * (target_sum + 1)\n",
        "\n",
        "    # There are 0 coins needed to make a sum of 0\n",
        "    dp[0] = 0\n",
        "\n",
        "    # Iterate through each coin and update the minimum number of coins needed\n",
        "    for coin in coins:\n",
        "        for i in range(coin, target_sum + 1):\n",
        "            dp[i] = min(dp[i], dp[i - coin] + 1)\n",
        "\n",
        "    # Check if it's possible to make the target sum\n",
        "    if dp[target_sum] == float('inf'):\n",
        "        return -1\n",
        "    else:\n",
        "        return dp[target_sum]\n",
        "\n",
        "# Input\n",
        "N, S = map(int, input().split())\n",
        "coin_values = list(map(int, input().split()))\n",
        "\n",
        "# Output\n",
        "result = min_coins(coin_values, S)\n",
        "print(result)\n"
      ]
    },
    {
      "cell_type": "markdown",
      "metadata": {
        "id": "j8x5dUL6Bbyu"
      },
      "source": [
        "companies.....>2\n",
        "\n",
        "Given a number N and an array of N strings,Print yes, if all strings have atleast one vowel in them otherwise print no.\n",
        "Input Size : N <= 1000\n",
        "Sample Testcase :\n",
        "INPUT\n",
        "5\n",
        "code\n",
        "overload\n",
        "vishal\n",
        "sundar\n",
        "anish\n",
        "OUTPUT\n",
        "yes"
      ]
    },
    {
      "cell_type": "code",
      "execution_count": null,
      "metadata": {
        "colab": {
          "base_uri": "https://localhost:8080/"
        },
        "id": "xAJ19o3RBg1t",
        "outputId": "bb5721dd-f7c5-422b-8cbb-8fb00df1c954"
      },
      "outputs": [
        {
          "name": "stdout",
          "output_type": "stream",
          "text": [
            "5\n",
            "abc\n",
            "cba\n",
            "hhggg\n",
            "hh\n",
            "jhjjkj\n",
            "no\n"
          ]
        }
      ],
      "source": [
        "def has_vowel(s):\n",
        "    vowels = set(\"aeiouAEIOU\")\n",
        "    return any(char in vowels for char in s)\n",
        "\n",
        "# Input\n",
        "N = int(input())\n",
        "strings = [input() for _ in range(N)]\n",
        "\n",
        "# Check if all strings have at least one vowel\n",
        "if all(has_vowel(s) for s in strings):\n",
        "    print(\"yes\")\n",
        "else:\n",
        "    print(\"no\")\n"
      ]
    },
    {
      "cell_type": "markdown",
      "metadata": {
        "id": "k5c-XHgJDFSj"
      },
      "source": [
        "**companies......>3**\n",
        "\n",
        "Given a number 'N' print the sum of each digit to the power of number of digits in given input.\n",
        "Example :\n",
        "Input => 1234\n",
        "=> ( 1 ^ 4 ) + ( 2 ^ 4 ) + ( 3 ^ 4 ) + ( 4 ^ 4 )\n",
        "=> 1 + 16 + 81 + 256\n",
        "Output => 354\n",
        "N <=100000000000\n",
        "Sample Testcase :\n",
        "INPUT\n",
        "1234\n",
        "OUTPUT\n",
        "354"
      ]
    },
    {
      "cell_type": "code",
      "execution_count": null,
      "metadata": {
        "colab": {
          "base_uri": "https://localhost:8080/"
        },
        "id": "Vud5MeSRDMQQ",
        "outputId": "dfc2ef88-12e7-4409-a16d-bfda795ffe21"
      },
      "outputs": [
        {
          "name": "stdout",
          "output_type": "stream",
          "text": [
            "1234\n",
            "354\n"
          ]
        }
      ],
      "source": [
        "# Input\n",
        "N = input()\n",
        "\n",
        "# Calculate the sum\n",
        "digit_sum = sum(int(digit) ** len(N) for digit in N)\n",
        "\n",
        "# Output\n",
        "print(digit_sum)\n"
      ]
    },
    {
      "cell_type": "markdown",
      "metadata": {
        "id": "HgXD5ZVDnzA4"
      },
      "source": [
        "**sorting.......>3**\n",
        "\n",
        "You are a software engineer at an MNC. You are given the task of sorting the employees in your company based on their salary. Perform the task so that the employees, including yourself, will get a bonus from the management.\n",
        "\n",
        "CONSTRAINT:\n",
        "\n",
        "0<=salary<=1000000\n",
        "\n",
        "\n",
        "\n",
        "Input Description:\n",
        "Number of employees followed by their name and salary\n",
        "\n",
        "Output Description:\n",
        "Sorted list of employee names\n",
        "\n",
        "Sample Input :\n",
        "3\n",
        "Karthik 23000 rohan 81734 varshini 12343\n",
        "Sample Output :\n",
        "varshini\n",
        "Karthik\n",
        "Rohan"
      ]
    },
    {
      "cell_type": "code",
      "execution_count": null,
      "metadata": {
        "colab": {
          "base_uri": "https://localhost:8080/"
        },
        "id": "MJX49WKYmrmC",
        "outputId": "c1c409a6-9d6e-4da8-a09f-01a09bdbf839"
      },
      "outputs": [
        {
          "name": "stdout",
          "output_type": "stream",
          "text": [
            "3\n",
            "Karthik 23000 rohan 81734 varshini 12343\n",
            "varshini\n",
            "Karthik\n",
            "rohan\n"
          ]
        }
      ],
      "source": [
        "# Input\n",
        "num_employees = int(input())\n",
        "employee_data = input().split()\n",
        "\n",
        "# Create a list of tuples (name, salary) from the input\n",
        "employees = [(employee_data[i], int(employee_data[i + 1])) for i in range(0, len(employee_data), 2)]\n",
        "\n",
        "# Sort employees based on salary in ascending order\n",
        "sorted_employees = sorted(employees, key=lambda x: x[1])\n",
        "\n",
        "# Output\n",
        "for employee in sorted_employees:\n",
        "    print(employee[0])\n",
        "\n"
      ]
    },
    {
      "cell_type": "markdown",
      "metadata": {
        "id": "qvlsAyLVo1gz"
      },
      "source": [
        "**numbers......1**\n",
        "\n",
        "You are given with a number ‘n’. You have to count the pair of two numbers a and b such that sum of two numbers are equal to n.\n",
        "\n",
        "\n",
        "\n",
        "Note:Both numbers lie in range 1<=a,b<n\n",
        "\n",
        "Input Description:\n",
        "You are given a number ‘n’\n",
        "\n",
        "Output Description:\n",
        "Print the number of pairs satisfying above condition\n",
        "\n",
        "Sample Input :\n",
        "5\n",
        "Sample Output :\n",
        "4"
      ]
    },
    {
      "cell_type": "code",
      "execution_count": null,
      "metadata": {
        "colab": {
          "base_uri": "https://localhost:8080/"
        },
        "id": "nZcAhbgJp39e",
        "outputId": "c6d4aa0e-6d37-4447-aea3-94ee1d21f7e0"
      },
      "outputs": [
        {
          "name": "stdout",
          "output_type": "stream",
          "text": [
            "10\n",
            "9\n"
          ]
        }
      ],
      "source": [
        "# Input\n",
        "n = int(input())\n",
        "\n",
        "# Count the pairs\n",
        "pair_count = 0\n",
        "\n",
        "# Iterate through all possible pairs (a, b)\n",
        "for a in range(1, n):\n",
        "    b = n - a\n",
        "    if 1 <= b < n:\n",
        "        pair_count += 1\n",
        "\n",
        "# Output\n",
        "print(pair_count)\n"
      ]
    },
    {
      "cell_type": "markdown",
      "metadata": {
        "id": "sKBBDN_avh1K"
      },
      "source": [
        "\n",
        "**numbers........2**\n",
        "\n",
        "Assume that you are ticket verifier at a club. Your club has decided to give a special discount to the person(s) who are satisfying the following condition\n",
        "\n",
        "\n",
        "\n",
        "Condition:-\n",
        "\n",
        "If ticket number is divisible by date of month. You are eligible for a discount.\n",
        "\n",
        "Input Description:\n",
        "First line contains input ‘n’.Next line contains n space separated numbers denoting ticket numbers .Next line contains ‘k’ date of the month.\n",
        "\n",
        "Output Description:\n",
        "Print 1 if the ticket is eligible for discount else 0\n",
        "\n",
        "Sample Input :\n",
        "6\n",
        "112 139 165 175 262 130\n",
        "22\n",
        "Sample Output :\n",
        "0 0 0 0 0 0"
      ]
    },
    {
      "cell_type": "code",
      "execution_count": null,
      "metadata": {
        "colab": {
          "base_uri": "https://localhost:8080/"
        },
        "id": "MBVe5QLBviDI",
        "outputId": "46ec2580-95cc-4432-d6c9-1f25fbd7db4d"
      },
      "outputs": [
        {
          "name": "stdout",
          "output_type": "stream",
          "text": [
            "5\n",
            "112 139 165 175 262 130\n",
            "23\n",
            "0 0 0 0 0 0\n"
          ]
        }
      ],
      "source": [
        "\n",
        "# Input\n",
        "n = int(input())\n",
        "ticket_numbers = list(map(int, input().split()))\n",
        "k = int(input())\n",
        "\n",
        "# Check eligibility for each ticket number\n",
        "eligible_discounts = [1 if ticket % k == 0 else 0 for ticket in ticket_numbers]\n",
        "\n",
        "# Output\n",
        "print(*eligible_discounts)\n"
      ]
    },
    {
      "cell_type": "markdown",
      "source": [
        "r\n",
        "write the program to generate the following series 800,802,806,812,820,830,856,872,890,910,932,956,982....N Add the sum of digits of each numbering the above series. display each sum number. display how many of these sum number start with digit 1. if Nis 900,the output of the program should be as follows 800,802,806,812,820,830,856,872,890 out put 8 1014 11 10 14 19 17 17. the count of sum number which start with 1=9"
      ],
      "metadata": {
        "id": "0lBl1jO9awbP"
      }
    },
    {
      "cell_type": "code",
      "source": [
        "def sum_of_digits(number):\n",
        "    total = 0\n",
        "    while number:\n",
        "        total += number % 10\n",
        "        number //= 10\n",
        "    return total\n",
        "\n",
        "def generate_series(N):\n",
        "    series = [800]\n",
        "    for i in range(1, N):\n",
        "        if i % 13 == 0:\n",
        "            series.append(series[-1] + 26)\n",
        "        else:\n",
        "            series.append(series[-1] + 2**((i-1)//13))\n",
        "    return series\n",
        "\n",
        "def count_start_with_one(series):\n",
        "    count = 0\n",
        "    for num in series:\n",
        "        if str(num)[0] == '1':\n",
        "            count += 1\n",
        "    return count\n",
        "\n",
        "def main():\n",
        "    N = int(input(\"Enter the value of N: \"))\n",
        "    series = generate_series(N)\n",
        "    sums = [sum_of_digits(num) for num in series]\n",
        "    count_ones = count_start_with_one(sums)\n",
        "\n",
        "    print(\"Output of the program:\")\n",
        "    print(\",\".join(map(str, series)))\n",
        "    print(\"Output of sum numbers:\")\n",
        "    print(\" \".join(map(str, sums)))\n",
        "    print(\"Count of sum numbers starting with 1 =\", count_ones)\n",
        "\n",
        "main()\n",
        "\n"
      ],
      "metadata": {
        "colab": {
          "base_uri": "https://localhost:8080/",
          "height": 332
        },
        "id": "WFStvfr8awts",
        "outputId": "6f84f817-0614-4f87-b98b-42ed103dd8e7"
      },
      "execution_count": 4,
      "outputs": [
        {
          "name": "stdout",
          "output_type": "stream",
          "text": [
            "Enter the value of N: 800 802 806 812 820 830 856 872 890\n"
          ]
        },
        {
          "output_type": "error",
          "ename": "ValueError",
          "evalue": "invalid literal for int() with base 10: '800 802 806 812 820 830 856 872 890'",
          "traceback": [
            "\u001b[0;31m---------------------------------------------------------------------------\u001b[0m",
            "\u001b[0;31mValueError\u001b[0m                                Traceback (most recent call last)",
            "\u001b[0;32m<ipython-input-4-0d268c0eb89b>\u001b[0m in \u001b[0;36m<cell line: 36>\u001b[0;34m()\u001b[0m\n\u001b[1;32m     34\u001b[0m     \u001b[0mprint\u001b[0m\u001b[0;34m(\u001b[0m\u001b[0;34m\"Count of sum numbers starting with 1 =\"\u001b[0m\u001b[0;34m,\u001b[0m \u001b[0mcount_ones\u001b[0m\u001b[0;34m)\u001b[0m\u001b[0;34m\u001b[0m\u001b[0;34m\u001b[0m\u001b[0m\n\u001b[1;32m     35\u001b[0m \u001b[0;34m\u001b[0m\u001b[0m\n\u001b[0;32m---> 36\u001b[0;31m \u001b[0mmain\u001b[0m\u001b[0;34m(\u001b[0m\u001b[0;34m)\u001b[0m\u001b[0;34m\u001b[0m\u001b[0;34m\u001b[0m\u001b[0m\n\u001b[0m\u001b[1;32m     37\u001b[0m \u001b[0;34m\u001b[0m\u001b[0m\n",
            "\u001b[0;32m<ipython-input-4-0d268c0eb89b>\u001b[0m in \u001b[0;36mmain\u001b[0;34m()\u001b[0m\n\u001b[1;32m     23\u001b[0m \u001b[0;34m\u001b[0m\u001b[0m\n\u001b[1;32m     24\u001b[0m \u001b[0;32mdef\u001b[0m \u001b[0mmain\u001b[0m\u001b[0;34m(\u001b[0m\u001b[0;34m)\u001b[0m\u001b[0;34m:\u001b[0m\u001b[0;34m\u001b[0m\u001b[0;34m\u001b[0m\u001b[0m\n\u001b[0;32m---> 25\u001b[0;31m     \u001b[0mN\u001b[0m \u001b[0;34m=\u001b[0m \u001b[0mint\u001b[0m\u001b[0;34m(\u001b[0m\u001b[0minput\u001b[0m\u001b[0;34m(\u001b[0m\u001b[0;34m\"Enter the value of N: \"\u001b[0m\u001b[0;34m)\u001b[0m\u001b[0;34m)\u001b[0m\u001b[0;34m\u001b[0m\u001b[0;34m\u001b[0m\u001b[0m\n\u001b[0m\u001b[1;32m     26\u001b[0m     \u001b[0mseries\u001b[0m \u001b[0;34m=\u001b[0m \u001b[0mgenerate_series\u001b[0m\u001b[0;34m(\u001b[0m\u001b[0mN\u001b[0m\u001b[0;34m)\u001b[0m\u001b[0;34m\u001b[0m\u001b[0;34m\u001b[0m\u001b[0m\n\u001b[1;32m     27\u001b[0m     \u001b[0msums\u001b[0m \u001b[0;34m=\u001b[0m \u001b[0;34m[\u001b[0m\u001b[0msum_of_digits\u001b[0m\u001b[0;34m(\u001b[0m\u001b[0mnum\u001b[0m\u001b[0;34m)\u001b[0m \u001b[0;32mfor\u001b[0m \u001b[0mnum\u001b[0m \u001b[0;32min\u001b[0m \u001b[0mseries\u001b[0m\u001b[0;34m]\u001b[0m\u001b[0;34m\u001b[0m\u001b[0;34m\u001b[0m\u001b[0m\n",
            "\u001b[0;31mValueError\u001b[0m: invalid literal for int() with base 10: '800 802 806 812 820 830 856 872 890'"
          ]
        }
      ]
    },
    {
      "cell_type": "code",
      "execution_count": null,
      "metadata": {
        "colab": {
          "base_uri": "https://localhost:8080/"
        },
        "id": "aOUnrzwZ5e3Z",
        "outputId": "6951f5c8-1931-4483-cf0f-a0ff718a1ed2"
      },
      "outputs": [
        {
          "name": "stdout",
          "output_type": "stream",
          "text": [
            "[1, 2, 3, 4, 5]\n"
          ]
        }
      ],
      "source": [
        "input_list = [1, 2, 2, 3, 4, 4, 5]\n",
        "\n",
        "# Create a new list containing unique elements from input_list\n",
        "unique_list = list(set(input_list))\n",
        "\n",
        "print(unique_list)"
      ]
    },
    {
      "cell_type": "code",
      "execution_count": null,
      "metadata": {
        "colab": {
          "base_uri": "https://localhost:8080/"
        },
        "id": "OMY-DJ-W6Wji",
        "outputId": "497fab09-e654-4935-a33b-96143526eab4"
      },
      "outputs": [
        {
          "name": "stdout",
          "output_type": "stream",
          "text": [
            "121\n",
            "Saturated\n"
          ]
        }
      ],
      "source": [
        "a = input()\n",
        "l = []\n",
        "for i in a:\n",
        "    l.append(int(i))\n",
        "\n",
        "c = set(l)\n",
        "\n",
        "if len(c) == 2:\n",
        "    print(\"Saturated\")\n",
        "\n",
        "else:\n",
        "    print(\"Unsaturated\")"
      ]
    },
    {
      "cell_type": "code",
      "execution_count": null,
      "metadata": {
        "colab": {
          "base_uri": "https://localhost:8080/"
        },
        "id": "9DPWr6ZNAtiL",
        "outputId": "c89f7347-28d0-4a9d-9b7b-f10c16c8d1c6"
      },
      "outputs": [
        {
          "name": "stdout",
          "output_type": "stream",
          "text": [
            "5\n",
            "12000\n"
          ]
        }
      ],
      "source": [
        "def calculate_savings(n):\n",
        "    if n == 0:\n",
        "        return 0\n",
        "    elif n == 1:\n",
        "        return 1000\n",
        "    else:\n",
        "        savings = [1000, 1000]  # Initial savings for the first two months\n",
        "        for i in range(2, n):\n",
        "            current_saving = savings[-1] + savings[-2]\n",
        "            savings.append(current_saving)\n",
        "        return sum(savings)\n",
        "\n",
        "# Sample Input\n",
        "n = int(input())\n",
        "\n",
        "# Sample Output\n",
        "total_savings = calculate_savings(n)\n",
        "print(total_savings)"
      ]
    },
    {
      "cell_type": "code",
      "execution_count": null,
      "metadata": {
        "colab": {
          "base_uri": "https://localhost:8080/"
        },
        "id": "upQDuX7PRa3r",
        "outputId": "827fe073-2a56-4c8d-c276-0e59bdb1cfd7"
      },
      "outputs": [
        {
          "name": "stdout",
          "output_type": "stream",
          "text": [
            "10\n",
            "123456789\n",
            "1234567\n",
            "12345\n",
            "123\n",
            "1\n"
          ]
        }
      ],
      "source": [
        "def generate_half_pyramid(R):\n",
        "    for i in range(R, 0, -1):\n",
        "        if i % 2 == 1:\n",
        "            # Print ascending numbers\n",
        "            for j in range(1, i + 1):\n",
        "                print(j, end=\"\")\n",
        "            print()\n",
        "\n",
        "# Input\n",
        "R = int(input())\n",
        "\n",
        "# Output\n",
        "generate_half_pyramid(R)"
      ]
    },
    {
      "cell_type": "code",
      "execution_count": null,
      "metadata": {
        "colab": {
          "base_uri": "https://localhost:8080/"
        },
        "id": "77bmn9NESlvy",
        "outputId": "2aa31770-6a63-4bd9-b04e-76ac765d7fbf"
      },
      "outputs": [
        {
          "name": "stdout",
          "output_type": "stream",
          "text": [
            "5\n",
            "11111\n",
            "11111\n",
            "11111\n",
            "11111\n",
            "11111\n"
          ]
        }
      ],
      "source": [
        "def generate_square_pattern(R):\n",
        "    for i in range(R):\n",
        "        for j in range(R):\n",
        "            print(\"1\", end=\"\")\n",
        "        print()\n",
        "\n",
        "# Input\n",
        "R = int(input())\n",
        "\n",
        "# Output\n",
        "generate_square_pattern(R)\n"
      ]
    },
    {
      "cell_type": "code",
      "execution_count": null,
      "metadata": {
        "colab": {
          "base_uri": "https://localhost:8080/"
        },
        "id": "NnaUqFhdW5wO",
        "outputId": "65dc351d-cb1c-40bb-e1f9-43573a11415a"
      },
      "outputs": [
        {
          "name": "stdout",
          "output_type": "stream",
          "text": [
            "Enter the number of rows: 5\n",
            "12345\n",
            "1234\n",
            "123\n",
            "12\n",
            "1\n"
          ]
        }
      ],
      "source": [
        "def generate_half_pyramid(R):\n",
        "    for i in range(R, 0, -1):\n",
        "        for j in range(1, i + 1):\n",
        "            print(j, end=\"\")\n",
        "        print()\n",
        "\n",
        "# Input\n",
        "R = int(input(\"Enter the number of rows: \"))\n",
        "\n",
        "# Output\n",
        "generate_half_pyramid(R)\n"
      ]
    },
    {
      "cell_type": "code",
      "execution_count": null,
      "metadata": {
        "colab": {
          "base_uri": "https://localhost:8080/"
        },
        "id": "rT04L5MYXcpQ",
        "outputId": "42e54a70-0652-4bd9-cf35-6a1470bb5f02"
      },
      "outputs": [
        {
          "name": "stdout",
          "output_type": "stream",
          "text": [
            "5\n",
            "1 2\n",
            "2 3 4\n",
            "4 5 6 7\n",
            "7 8 9 10 11\n",
            "11 12 13 14 15 16\n"
          ]
        }
      ],
      "source": [
        "n = int(input())\n",
        "num = 1\n",
        "for row in range(1, n+1):\n",
        "    for col in range(1, row+1):\n",
        "        print(num, end=' ')\n",
        "        num += 1\n",
        "    print(num)"
      ]
    },
    {
      "cell_type": "code",
      "execution_count": null,
      "metadata": {
        "colab": {
          "base_uri": "https://localhost:8080/"
        },
        "id": "R2LS6nOgbKlD",
        "outputId": "8647e843-b6bb-42d2-b595-dbcc864d4332"
      },
      "outputs": [
        {
          "name": "stdout",
          "output_type": "stream",
          "text": [
            "5\n",
            "55555\n",
            "4444\n",
            "333\n",
            "22\n",
            "1\n"
          ]
        }
      ],
      "source": [
        "def generate_half_pyramid_numbers(R):\n",
        "    for i in range(R, 0, -1):\n",
        "        for j in range(1, i + 1):\n",
        "            print(i, end=\"\")\n",
        "        print()\n",
        "\n",
        "# Input\n",
        "R = int(input())\n",
        "\n",
        "# Output\n",
        "generate_half_pyramid_numbers(R)"
      ]
    },
    {
      "cell_type": "code",
      "execution_count": null,
      "metadata": {
        "colab": {
          "base_uri": "https://localhost:8080/"
        },
        "id": "Yu7z_in0gU6V",
        "outputId": "bd709007-2a45-4e29-e579-14841f402595"
      },
      "outputs": [
        {
          "name": "stdout",
          "output_type": "stream",
          "text": [
            "2 2\n",
            "1 2\n",
            "2 1\n",
            "yes\n"
          ]
        }
      ],
      "source": [
        "def has_cycle(graph, visited, stack, node):\n",
        "    visited[node] = True\n",
        "    stack[node] = True\n",
        "\n",
        "    for neighbor in graph[node]:\n",
        "        if not visited[neighbor]:\n",
        "            if has_cycle(graph, visited, stack, neighbor):\n",
        "                return True\n",
        "        elif stack[neighbor]:\n",
        "            return True\n",
        "\n",
        "    stack[node] = False\n",
        "    return False\n",
        "\n",
        "def is_cyclic(graph, n):\n",
        "    visited = [False] * (n + 1)\n",
        "    stack = [False] * (n + 1)\n",
        "\n",
        "    for node in range(1, n + 1):\n",
        "        if not visited[node]:\n",
        "            if has_cycle(graph, visited, stack, node):\n",
        "                return True\n",
        "\n",
        "    return False\n",
        "\n",
        "# Input\n",
        "N, M = map(int, input().split())\n",
        "graph = {i: [] for i in range(1, N + 1)}\n",
        "\n",
        "for _ in range(M):\n",
        "    a, b = map(int, input().split())\n",
        "    graph[a].append(b)\n",
        "\n",
        "# Output\n",
        "if is_cyclic(graph, N):\n",
        "    print(\"yes\")\n",
        "else:\n",
        "    print(\"no\")\n"
      ]
    },
    {
      "cell_type": "code",
      "execution_count": null,
      "metadata": {
        "colab": {
          "base_uri": "https://localhost:8080/"
        },
        "id": "Msn4yeojJtTm",
        "outputId": "27b641cc-5295-4023-9e76-0e088dbd2c4b"
      },
      "outputs": [
        {
          "name": "stdout",
          "output_type": "stream",
          "text": [
            "A man, in the boat says : I see 1-2-3 in the sky\n",
            "yks e,ht ni 321 ees I  s:yas taob- -eht ni nam A\n"
          ]
        }
      ],
      "source": [
        "def reverse_string_with_punctuation(s):\n",
        "    # Convert the string to a list to make modifications in-place\n",
        "    char_list = list(s)\n",
        "\n",
        "    # Two pointers approach to reverse the string\n",
        "    left, right = 0, len(char_list) - 1\n",
        "    while left < right:\n",
        "        # Move left pointer until it points to an alphanumeric character or space\n",
        "        while left < right and not char_list[left].isalnum() and not char_list[left].isspace():\n",
        "            left += 1\n",
        "\n",
        "        # Move right pointer until it points to an alphanumeric character or space\n",
        "        while left < right and not char_list[right].isalnum() and not char_list[right].isspace():\n",
        "            right -= 1\n",
        "\n",
        "        # Swap characters at the left and right pointers\n",
        "        char_list[left], char_list[right] = char_list[right], char_list[left]\n",
        "\n",
        "        # Move pointers towards each other\n",
        "        left += 1\n",
        "        right -= 1\n",
        "\n",
        "    # Convert the list back to a string and print the result\n",
        "    result = ''.join(char_list)\n",
        "    print(result)\n",
        "\n",
        "# Input\n",
        "input_string = input()\n",
        "\n",
        "# Output\n",
        "reverse_string_with_punctuation(input_string)\n"
      ]
    },
    {
      "cell_type": "code",
      "execution_count": null,
      "metadata": {
        "colab": {
          "base_uri": "https://localhost:8080/"
        },
        "id": "2sViYuNeKlDs",
        "outputId": "d52af2d9-d4a6-45cc-c022-309f295aa162"
      },
      "outputs": [
        {
          "name": "stdout",
          "output_type": "stream",
          "text": [
            "Fiih+!##,ln:nRZfHJZd'#hFRcuBvXoQThprY n;v7oOsolrX!e\n",
            "eXrl+!##,os:Oo7vnYrp'#hTQoXvBucRFhdZJ H;fZRnnlhii!F\n"
          ]
        }
      ],
      "source": [
        "def reverse_string_with_punctuation(s):\n",
        "    # Convert the string to a list to make modifications in-place\n",
        "    char_list = list(s)\n",
        "\n",
        "    # Find alphanumeric characters and reverse them\n",
        "    alphanumeric_chars = [c for c in char_list if c.isalnum()]\n",
        "    alphanumeric_chars.reverse()\n",
        "\n",
        "    # Replace alphanumeric characters in the original string with reversed alphanumeric characters\n",
        "    alphanumeric_index = 0\n",
        "    for i in range(len(char_list)):\n",
        "        if char_list[i].isalnum():\n",
        "            char_list[i] = alphanumeric_chars[alphanumeric_index]\n",
        "            alphanumeric_index += 1\n",
        "\n",
        "    # Convert the list back to a string and print the result\n",
        "    result = ''.join(char_list)\n",
        "    print(result)\n",
        "\n",
        "# Input\n",
        "input_string = input()\n",
        "\n",
        "# Output\n",
        "reverse_string_with_punctuation(input_string)\n"
      ]
    },
    {
      "cell_type": "code",
      "execution_count": null,
      "metadata": {
        "colab": {
          "base_uri": "https://localhost:8080/"
        },
        "id": "TT9UvaR7LYGh",
        "outputId": "75c1e439-9a42-4862-9690-186ca934dded"
      },
      "outputs": [
        {
          "name": "stdout",
          "output_type": "stream",
          "text": [
            "5\n",
            "1 2 3 4\n",
            "5\n"
          ]
        }
      ],
      "source": [
        "def find_missing_number(n, numbers):\n",
        "    expected_sum = n * (n + 1) // 2\n",
        "    actual_sum = sum(numbers)\n",
        "    missing_number = expected_sum - actual_sum\n",
        "    return missing_number\n",
        "\n",
        "# Input\n",
        "n = int(input())\n",
        "numbers = list(map(int, input().split()))\n",
        "\n",
        "# Output\n",
        "result = find_missing_number(n, numbers)\n",
        "print(result)"
      ]
    },
    {
      "cell_type": "code",
      "execution_count": null,
      "metadata": {
        "colab": {
          "base_uri": "https://localhost:8080/"
        },
        "id": "S3WiHLxOMORy",
        "outputId": "26af701f-ab0b-48c3-c0c9-5196bc522725"
      },
      "outputs": [
        {
          "name": "stdout",
          "output_type": "stream",
          "text": [
            "Geeksforgeek\n",
            "Gksforgk\n"
          ]
        }
      ],
      "source": [
        "def remove_adjacent_duplicates(s):\n",
        "    stack = []\n",
        "    for char in s:\n",
        "        if stack and char == stack[-1]:\n",
        "            stack.pop()\n",
        "        else:\n",
        "            stack.append(char)\n",
        "    return ''.join(stack)\n",
        "\n",
        "# Input\n",
        "input_string = input()\n",
        "\n",
        "# Output\n",
        "result_string = remove_adjacent_duplicates(input_string)\n",
        "print(result_string)\n"
      ]
    },
    {
      "cell_type": "code",
      "execution_count": null,
      "metadata": {
        "colab": {
          "base_uri": "https://localhost:8080/"
        },
        "id": "3nyBpU6LO3KT",
        "outputId": "0bc1c13c-7e9e-4f1b-cc30-daa9076258fe"
      },
      "outputs": [
        {
          "name": "stdout",
          "output_type": "stream",
          "text": [
            "5\n",
            "2004 1999 2019 2009 2014\n",
            "JDU JDU CON JDU CON\n",
            "2019\n",
            "2009\n",
            "2014\n"
          ]
        }
      ],
      "source": [
        "def find_transition_years(num_years, years, parties):\n",
        "    transition_years = []\n",
        "\n",
        "    for i in range(1, num_years):\n",
        "        if parties[i] != parties[i - 1]:\n",
        "            transition_years.append(years[i])\n",
        "\n",
        "    return transition_years\n",
        "\n",
        "# Input\n",
        "num_years = int(input())\n",
        "years = list(map(int, input().split()))\n",
        "parties = input().split()\n",
        "\n",
        "# Output\n",
        "transition_years = find_transition_years(num_years, years, parties)\n",
        "for year in transition_years:\n",
        "    print(year)\n"
      ]
    },
    {
      "cell_type": "code",
      "execution_count": null,
      "metadata": {
        "colab": {
          "base_uri": "https://localhost:8080/"
        },
        "id": "I6bh9ORePZQ9",
        "outputId": "e62e17cf-17c6-44b2-a5bc-e215201096d1"
      },
      "outputs": [
        {
          "name": "stdout",
          "output_type": "stream",
          "text": [
            "5\n",
            "2004 1999 2019 2009 2014\n",
            "JDU JDU CON JDU CON\n",
            "2014\n"
          ]
        }
      ],
      "source": [
        "def find_transition_years(num_years, years, parties):\n",
        "    transition_years = []\n",
        "\n",
        "    for i in range(1, num_years):\n",
        "        if parties[i] != parties[i - 1]:\n",
        "            transition_years.append(years[i])\n",
        "\n",
        "    return transition_years\n",
        "\n",
        "# Input\n",
        "num_years = int(input())\n",
        "years = list(map(int, input().split()))\n",
        "parties = input().split()\n",
        "\n",
        "# Output\n",
        "transition_years = find_transition_years(num_years, years, parties)\n",
        "if transition_years:\n",
        "    print(transition_years[-1])\n",
        "else:\n",
        "    print(\"No transition\")\n"
      ]
    },
    {
      "cell_type": "code",
      "execution_count": null,
      "metadata": {
        "colab": {
          "base_uri": "https://localhost:8080/"
        },
        "id": "O2UcB14cQ9Rk",
        "outputId": "4b22306a-368f-429b-83ba-9acf1f6d38aa"
      },
      "outputs": [
        {
          "name": "stdout",
          "output_type": "stream",
          "text": [
            "1 3\n",
            "1 1 1\n",
            "RAM: 0\n",
            "SITA: 3\n"
          ]
        }
      ],
      "source": [
        "def count_wins(matrix):\n",
        "    ram_wins = sum(row.count(0) for row in matrix)\n",
        "    sita_wins = sum(row.count(1) for row in matrix)\n",
        "    return ram_wins, sita_wins\n",
        "\n",
        "# Input\n",
        "M, N = map(int, input().split())\n",
        "matrix = [list(map(int, input().split())) for _ in range(M)]\n",
        "\n",
        "# Output\n",
        "ram_count, sita_count = count_wins(matrix)\n",
        "print(f\"RAM: {ram_count}\")\n",
        "print(f\"SITA: {sita_count}\")"
      ]
    },
    {
      "cell_type": "code",
      "execution_count": null,
      "metadata": {
        "colab": {
          "base_uri": "https://localhost:8080/"
        },
        "id": "gfmKM-DfT8is",
        "outputId": "7ffbe891-23a5-4ef0-ecb4-c2fb4629a49c"
      },
      "outputs": [
        {
          "name": "stdout",
          "output_type": "stream",
          "text": [
            "3\n",
            "coding platform codekata\n",
            "coding codekata platform\n"
          ]
        }
      ],
      "source": [
        "n = int(input())\n",
        "l = input().split()\n",
        "maxlen = len(l[0])\n",
        "for i in l:\n",
        "    if maxlen < len(i):\n",
        "        maxlen = len(i)\n",
        "lst = []\n",
        "for i in range(maxlen+1):\n",
        "    a = []\n",
        "    for j in l:\n",
        "        if len(j) == i:\n",
        "            a.append(j)\n",
        "    a.sort()\n",
        "    lst.extend(a)\n",
        "print(*lst)"
      ]
    },
    {
      "cell_type": "code",
      "execution_count": null,
      "metadata": {
        "colab": {
          "base_uri": "https://localhost:8080/"
        },
        "id": "4eNWrQqmUlXS",
        "outputId": "217a78b7-9721-4fbf-cba6-cd2192d6fcc0"
      },
      "outputs": [
        {
          "name": "stdout",
          "output_type": "stream",
          "text": [
            "18\n",
            "2 3\n"
          ]
        }
      ],
      "source": [
        "def prime_factors(n):\n",
        "    factors = []\n",
        "    i = 2\n",
        "\n",
        "    while i * i <= n:\n",
        "        if n % i:\n",
        "            i += 1\n",
        "        else:\n",
        "            n //= i\n",
        "            if i not in factors:\n",
        "                factors.append(i)\n",
        "\n",
        "    if n > 1 and n not in factors:\n",
        "        factors.append(n)\n",
        "\n",
        "    return factors\n",
        "\n",
        "# Input\n",
        "N = int(input())\n",
        "\n",
        "# Output\n",
        "result = prime_factors(N)\n",
        "print(*result)\n"
      ]
    },
    {
      "cell_type": "code",
      "execution_count": null,
      "metadata": {
        "colab": {
          "base_uri": "https://localhost:8080/"
        },
        "id": "BRe3xn-0Aqoq",
        "outputId": "2fd3741d-62e4-47f8-9cb2-c42fdfb87e2c"
      },
      "outputs": [
        {
          "name": "stdout",
          "output_type": "stream",
          "text": [
            "7\n",
            "-4 3 1 0 0 6\n",
            "5\n"
          ]
        }
      ],
      "source": [
        "def max_subarray_with_sum_zero(arr):\n",
        "    prefix_sum = 0\n",
        "    prefix_sum_index = {}\n",
        "    max_length = 0\n",
        "\n",
        "    for i, num in enumerate(arr):\n",
        "        prefix_sum += num\n",
        "\n",
        "        if prefix_sum == 0:\n",
        "            # If prefix sum is zero, update max_length to current index + 1\n",
        "            max_length = i + 1\n",
        "        elif prefix_sum in prefix_sum_index:\n",
        "            # If prefix sum repeats, update max_length with the difference of current index and previous index\n",
        "            max_length = max(max_length, i - prefix_sum_index[prefix_sum])\n",
        "\n",
        "        if prefix_sum not in prefix_sum_index:\n",
        "            # Store the index of the first occurrence of the prefix sum\n",
        "            prefix_sum_index[prefix_sum] = i\n",
        "\n",
        "    return max_length\n",
        "\n",
        "# Input\n",
        "n = int(input())\n",
        "arr = list(map(int, input().split()))\n",
        "\n",
        "# Output\n",
        "result = max_subarray_with_sum_zero(arr)\n",
        "print(result if result > 0 else -1)\n"
      ]
    },
    {
      "cell_type": "code",
      "execution_count": null,
      "metadata": {
        "colab": {
          "base_uri": "https://localhost:8080/"
        },
        "id": "-embFnXeBaId",
        "outputId": "98064dfb-c349-43dc-88f9-1b7a71930a35"
      },
      "outputs": [
        {
          "name": "stdout",
          "output_type": "stream",
          "text": [
            "Enter a number: 9817\n",
            "1\n"
          ]
        }
      ],
      "source": [
        "def is_ajs_number(n):\n",
        "    # Convert the number to a string\n",
        "    n_str = str(n)\n",
        "\n",
        "    # Extract the first two digits\n",
        "    first_two_digits = n_str[:2]\n",
        "\n",
        "    # Calculate the sum of the first two digits\n",
        "    sum_of_first_two_digits = int(first_two_digits[0]) + int(first_two_digits[1])\n",
        "\n",
        "    # Check if the sum is present in the original number\n",
        "    return 1 if str(sum_of_first_two_digits) in n_str else 0\n",
        "\n",
        "# Input\n",
        "n = int(input())\n",
        "\n",
        "# Output\n",
        "result = is_ajs_number(n)\n",
        "print(result)\n"
      ]
    },
    {
      "cell_type": "code",
      "execution_count": null,
      "metadata": {
        "colab": {
          "base_uri": "https://localhost:8080/"
        },
        "id": "4oOCq80PF0zL",
        "outputId": "5abd9b44-e596-4d2f-f030-fad18f7cfb5b"
      },
      "outputs": [
        {
          "name": "stdout",
          "output_type": "stream",
          "text": [
            "14\n"
          ]
        }
      ],
      "source": [
        "str1=\"stack of books\"\n",
        "print(len(str1))"
      ]
    },
    {
      "cell_type": "code",
      "execution_count": null,
      "metadata": {
        "colab": {
          "base_uri": "https://localhost:8080/"
        },
        "id": "hDvpaFCzGLGN",
        "outputId": "9add1c8e-4b20-4f9e-9733-e0731a4a8d77"
      },
      "outputs": [
        {
          "name": "stdout",
          "output_type": "stream",
          "text": [
            "0\n",
            "1\n",
            "2\n",
            "3\n"
          ]
        }
      ],
      "source": [
        "x=\"abcd\"\n",
        "for i in range(len(x)):\n",
        "  print(i)"
      ]
    },
    {
      "cell_type": "code",
      "execution_count": null,
      "metadata": {
        "colab": {
          "base_uri": "https://localhost:8080/",
          "height": 227
        },
        "id": "DmgMCR-4Gqbn",
        "outputId": "4c3b4a10-cfd9-4864-b562-cad825a2fab2"
      },
      "outputs": [
        {
          "ename": "NameError",
          "evalue": "name 'a' is not defined",
          "output_type": "error",
          "traceback": [
            "\u001b[0;31m---------------------------------------------------------------------------\u001b[0m",
            "\u001b[0;31mNameError\u001b[0m                                 Traceback (most recent call last)",
            "\u001b[0;32m<ipython-input-9-2bda87fb65d3>\u001b[0m in \u001b[0;36m<cell line: 2>\u001b[0;34m()\u001b[0m\n\u001b[1;32m      1\u001b[0m \u001b[0mx\u001b[0m\u001b[0;34m=\u001b[0m\u001b[0;34m[\u001b[0m\u001b[0;34m'xy'\u001b[0m\u001b[0;34m,\u001b[0m\u001b[0;34m'yz'\u001b[0m\u001b[0;34m]\u001b[0m\u001b[0;34m\u001b[0m\u001b[0;34m\u001b[0m\u001b[0m\n\u001b[0;32m----> 2\u001b[0;31m \u001b[0;32mfor\u001b[0m \u001b[0mi\u001b[0m \u001b[0;32min\u001b[0m \u001b[0ma\u001b[0m\u001b[0;34m:\u001b[0m\u001b[0;34m\u001b[0m\u001b[0;34m\u001b[0m\u001b[0m\n\u001b[0m\u001b[1;32m      3\u001b[0m   \u001b[0mi\u001b[0m\u001b[0;34m.\u001b[0m\u001b[0mupper\u001b[0m\u001b[0;34m(\u001b[0m\u001b[0;34m)\u001b[0m\u001b[0;34m\u001b[0m\u001b[0;34m\u001b[0m\u001b[0m\n\u001b[1;32m      4\u001b[0m \u001b[0mprint\u001b[0m\u001b[0;34m(\u001b[0m\u001b[0ma\u001b[0m\u001b[0;34m)\u001b[0m\u001b[0;34m\u001b[0m\u001b[0;34m\u001b[0m\u001b[0m\n",
            "\u001b[0;31mNameError\u001b[0m: name 'a' is not defined"
          ]
        }
      ],
      "source": [
        "x=['xy','yz']\n",
        "for i in a:\n",
        "  i.upper()\n",
        "print(a)"
      ]
    },
    {
      "cell_type": "code",
      "execution_count": null,
      "metadata": {
        "colab": {
          "base_uri": "https://localhost:8080/"
        },
        "id": "qih_dbqhHiG8",
        "outputId": "cd8a225a-b820-4bb4-b428-97799d998ece"
      },
      "outputs": [
        {
          "name": "stdout",
          "output_type": "stream",
          "text": [
            "1\n",
            "2\n"
          ]
        }
      ],
      "source": [
        "i=1\n",
        "while True:\n",
        "  if i%3==0:\n",
        "    break\n",
        "  print(i)\n",
        "  i+=1"
      ]
    },
    {
      "cell_type": "code",
      "execution_count": null,
      "metadata": {
        "colab": {
          "base_uri": "https://localhost:8080/"
        },
        "id": "4WQH0xgaIIoL",
        "outputId": "ea382716-d3f9-4d35-dbb0-2687090d991c"
      },
      "outputs": [
        {
          "name": "stdout",
          "output_type": "stream",
          "text": [
            "['h', 'e', 'l', 'l', 'o']\n"
          ]
        }
      ],
      "source": [
        "print([i.lower() for i in \"HELLO\"])"
      ]
    },
    {
      "cell_type": "code",
      "execution_count": null,
      "metadata": {
        "colab": {
          "base_uri": "https://localhost:8080/",
          "height": 193
        },
        "id": "3zfCyZTaIyTS",
        "outputId": "9d50e4d5-4053-4dfd-d8d6-c4a2d324e325"
      },
      "outputs": [
        {
          "ename": "TypeError",
          "evalue": "map() must have at least two arguments.",
          "output_type": "error",
          "traceback": [
            "\u001b[0;31m---------------------------------------------------------------------------\u001b[0m",
            "\u001b[0;31mTypeError\u001b[0m                                 Traceback (most recent call last)",
            "\u001b[0;32m<ipython-input-15-9c25169b0fff>\u001b[0m in \u001b[0;36m<cell line: 2>\u001b[0;34m()\u001b[0m\n\u001b[1;32m      1\u001b[0m \u001b[0mx\u001b[0m\u001b[0;34m=\u001b[0m\u001b[0;34m[\u001b[0m\u001b[0;34m[\u001b[0m\u001b[0;36m0\u001b[0m\u001b[0;34m]\u001b[0m\u001b[0;34m,\u001b[0m\u001b[0;34m[\u001b[0m\u001b[0;36m1\u001b[0m\u001b[0;34m]\u001b[0m\u001b[0;34m]\u001b[0m\u001b[0;34m\u001b[0m\u001b[0;34m\u001b[0m\u001b[0m\n\u001b[0;32m----> 2\u001b[0;31m \u001b[0mprint\u001b[0m\u001b[0;34m(\u001b[0m\u001b[0mlen\u001b[0m\u001b[0;34m(\u001b[0m\u001b[0;34m''\u001b[0m\u001b[0;34m.\u001b[0m\u001b[0mjoin\u001b[0m\u001b[0;34m(\u001b[0m\u001b[0mlist\u001b[0m\u001b[0;34m(\u001b[0m\u001b[0mmap\u001b[0m\u001b[0;34m(\u001b[0m\u001b[0mstr\u001b[0m\u001b[0;34m)\u001b[0m\u001b[0;34m)\u001b[0m\u001b[0;34m)\u001b[0m\u001b[0;34m)\u001b[0m\u001b[0;34m)\u001b[0m\u001b[0;34m\u001b[0m\u001b[0;34m\u001b[0m\u001b[0m\n\u001b[0m",
            "\u001b[0;31mTypeError\u001b[0m: map() must have at least two arguments."
          ]
        }
      ],
      "source": [
        "x=[[0],[1]]\n",
        "print(len(''.join(list(map(str)))))"
      ]
    },
    {
      "cell_type": "code",
      "execution_count": null,
      "metadata": {
        "colab": {
          "base_uri": "https://localhost:8080/"
        },
        "id": "9KB3mh0YJVvB",
        "outputId": "2b55a1e5-b6e6-4dfb-dcfe-c5beb2fc2e84"
      },
      "outputs": [
        {
          "name": "stdout",
          "output_type": "stream",
          "text": [
            "Hello,World!\n"
          ]
        }
      ],
      "source": [
        "print(\"Hello,World!\")"
      ]
    },
    {
      "cell_type": "code",
      "execution_count": null,
      "metadata": {
        "colab": {
          "base_uri": "https://localhost:8080/"
        },
        "id": "pkjuRDK8KFvn",
        "outputId": "69c2a3e7-4b66-404f-cb70-8fc2bd709749"
      },
      "outputs": [
        {
          "name": "stdout",
          "output_type": "stream",
          "text": [
            "(2, 4)\n"
          ]
        }
      ],
      "source": [
        "t = (1, 2, 4, 3)\n",
        "result = t[1:-1]\n",
        "print(result)"
      ]
    },
    {
      "cell_type": "code",
      "execution_count": null,
      "metadata": {
        "colab": {
          "base_uri": "https://localhost:8080/"
        },
        "id": "4oFRf48EKG_O",
        "outputId": "ff041102-e6f7-475f-e6a6-ff9d7a4d061c"
      },
      "outputs": [
        {
          "name": "stdout",
          "output_type": "stream",
          "text": [
            "1\n",
            "12345\n",
            "2\n",
            "12345\n"
          ]
        }
      ],
      "source": [
        "lis=[21,22,23,24,25]\n",
        "for i in range(1,3):\n",
        "  print(i)\n",
        "  for j in range(1,6):\n",
        "    print(j,end=\"\")\n",
        "  print()"
      ]
    },
    {
      "cell_type": "code",
      "execution_count": null,
      "metadata": {
        "colab": {
          "base_uri": "https://localhost:8080/"
        },
        "id": "Y2jOOShLKpXW",
        "outputId": "eb7b1d22-5a3f-4544-af17-189eb2cf01b6"
      },
      "outputs": [
        {
          "name": "stdout",
          "output_type": "stream",
          "text": [
            "[1, 2, 3]\n"
          ]
        }
      ],
      "source": [
        "def flist(i,values=[]):\n",
        "  values.append(i)\n",
        "  return values\n",
        "flist(1)\n",
        "flist(2)\n",
        "val=flist(3)\n",
        "print(val)"
      ]
    },
    {
      "cell_type": "code",
      "execution_count": null,
      "metadata": {
        "colab": {
          "base_uri": "https://localhost:8080/"
        },
        "id": "sGgJhuy8LA7z",
        "outputId": "989044f9-58d7-4d58-b916-3f448e05a376"
      },
      "outputs": [
        {
          "name": "stdout",
          "output_type": "stream",
          "text": [
            "1\n",
            "2\n"
          ]
        }
      ],
      "source": [
        "guvi=1\n",
        "while True:\n",
        "  if guvi%3==0:\n",
        "    break\n",
        "  print(guvi)\n",
        "  guvi+=1"
      ]
    },
    {
      "cell_type": "code",
      "execution_count": null,
      "metadata": {
        "colab": {
          "base_uri": "https://localhost:8080/"
        },
        "id": "p9Xt4Ek_LXSy",
        "outputId": "1f35cae9-f6a0-46c3-c0d6-4b3dbe90c124"
      },
      "outputs": [
        {
          "name": "stdout",
          "output_type": "stream",
          "text": [
            "['banana', 'apple', 'papaya', 'cherry']\n"
          ]
        }
      ],
      "source": [
        "import random\n",
        "\n",
        "fruit = ['apple', 'banana', 'papaya', 'cherry']\n",
        "\n",
        "# Shuffle the list in-place\n",
        "random.shuffle(fruit)\n",
        "\n",
        "# Print the shuffled list\n",
        "print(fruit)"
      ]
    },
    {
      "cell_type": "code",
      "execution_count": null,
      "metadata": {
        "colab": {
          "base_uri": "https://localhost:8080/",
          "height": 193
        },
        "id": "hJXs0uEyMmVR",
        "outputId": "ade5ddc7-6bc5-4be5-df73-0f9c1718bee4"
      },
      "outputs": [
        {
          "ename": "TypeError",
          "evalue": "type str doesn't define __trunc__ method",
          "output_type": "error",
          "traceback": [
            "\u001b[0;31m---------------------------------------------------------------------------\u001b[0m",
            "\u001b[0;31mTypeError\u001b[0m                                 Traceback (most recent call last)",
            "\u001b[0;32m<ipython-input-24-80ae9d3781aa>\u001b[0m in \u001b[0;36m<cell line: 2>\u001b[0;34m()\u001b[0m\n\u001b[1;32m      1\u001b[0m \u001b[0;32mimport\u001b[0m \u001b[0mmath\u001b[0m\u001b[0;34m\u001b[0m\u001b[0;34m\u001b[0m\u001b[0m\n\u001b[0;32m----> 2\u001b[0;31m \u001b[0mprint\u001b[0m\u001b[0;34m(\u001b[0m\u001b[0mmath\u001b[0m\u001b[0;34m.\u001b[0m\u001b[0mtrunc\u001b[0m\u001b[0;34m(\u001b[0m\u001b[0;34m'5.1'\u001b[0m\u001b[0;34m)\u001b[0m\u001b[0;34m)\u001b[0m\u001b[0;34m\u001b[0m\u001b[0;34m\u001b[0m\u001b[0m\n\u001b[0m",
            "\u001b[0;31mTypeError\u001b[0m: type str doesn't define __trunc__ method"
          ]
        }
      ],
      "source": [
        "import math\n",
        "print(math.trunc('5.1'))"
      ]
    },
    {
      "cell_type": "code",
      "execution_count": null,
      "metadata": {
        "colab": {
          "base_uri": "https://localhost:8080/"
        },
        "id": "T3ShxeSUNBLG",
        "outputId": "2cc80633-82d7-479e-8826-76cc38cf06d9"
      },
      "outputs": [
        {
          "name": "stdout",
          "output_type": "stream",
          "text": [
            "24\n"
          ]
        }
      ],
      "source": [
        "guvi=lambda guvi2:guvi2*2\n",
        "guvi1=lambda guvi2:guvi2*3\n",
        "output=2\n",
        "output=guvi(output)\n",
        "output=guvi1(output)\n",
        "output=guvi(output)\n",
        "print(output)\n",
        "\n"
      ]
    },
    {
      "cell_type": "code",
      "execution_count": null,
      "metadata": {
        "colab": {
          "base_uri": "https://localhost:8080/"
        },
        "id": "wAuiXsgcNqPm",
        "outputId": "43e61fc2-9afe-4d10-9b87-b351f601a61e"
      },
      "outputs": [
        {
          "name": "stdout",
          "output_type": "stream",
          "text": [
            "{1, 2, 3}\n"
          ]
        }
      ],
      "source": [
        "guvi1={1,2,3}\n",
        "guvi2=guvi1.copy()\n",
        "guvi2.add(4)\n",
        "print(guvi1)"
      ]
    },
    {
      "cell_type": "code",
      "execution_count": null,
      "metadata": {
        "colab": {
          "base_uri": "https://localhost:8080/"
        },
        "id": "2OOa13grN8U8",
        "outputId": "74352b4b-5005-4a64-ff94-80201b87e6ea"
      },
      "outputs": [
        {
          "name": "stdout",
          "output_type": "stream",
          "text": [
            "024"
          ]
        }
      ],
      "source": [
        "list1=[100,200,300,400,500,600]\n",
        "for i in range(0,len(list1),2):\n",
        "  print(i,end=\"\")"
      ]
    },
    {
      "cell_type": "code",
      "execution_count": null,
      "metadata": {
        "colab": {
          "base_uri": "https://localhost:8080/"
        },
        "id": "W-BoUVT8OW-6",
        "outputId": "45a8fcb1-f474-4ebd-87fc-d9c6e2c19679"
      },
      "outputs": [
        {
          "name": "stdout",
          "output_type": "stream",
          "text": [
            "[3, 11, 19]\n"
          ]
        }
      ],
      "source": [
        "list1=[2,4,6,8,10]\n",
        "list2=[1,3,5,7,9]\n",
        "list3=[]\n",
        "for i in range(len(list1)):\n",
        "  if(i%2==0):\n",
        "    list3.append(list1[i]+list2[i])\n",
        "print(list3)"
      ]
    },
    {
      "cell_type": "code",
      "execution_count": null,
      "metadata": {
        "colab": {
          "base_uri": "https://localhost:8080/",
          "height": 140
        },
        "id": "mM_xqm4dPJa7",
        "outputId": "6e86dada-a6d7-4afb-95cf-f2956c95a0e8"
      },
      "outputs": [
        {
          "ename": "IndentationError",
          "evalue": "unexpected indent (<ipython-input-2-4cc8d941aa89>, line 3)",
          "output_type": "error",
          "traceback": [
            "\u001b[0;36m  File \u001b[0;32m\"<ipython-input-2-4cc8d941aa89>\"\u001b[0;36m, line \u001b[0;32m3\u001b[0m\n\u001b[0;31m    g=g*2\u001b[0m\n\u001b[0m    ^\u001b[0m\n\u001b[0;31mIndentationError\u001b[0m\u001b[0;31m:\u001b[0m unexpected indent\n"
          ]
        }
      ],
      "source": [
        "def guvi(g):\n",
        "  g=g+2\n",
        "    g=g*2\n",
        "  return g\n",
        "print guvi(2)"
      ]
    },
    {
      "cell_type": "code",
      "execution_count": null,
      "metadata": {
        "colab": {
          "base_uri": "https://localhost:8080/",
          "height": 210
        },
        "id": "sDFGboKzPjua",
        "outputId": "9f3d15ec-f484-44f6-a33c-8099f8b2f3ff"
      },
      "outputs": [
        {
          "ename": "TypeError",
          "evalue": "'str' object cannot be interpreted as an integer",
          "output_type": "error",
          "traceback": [
            "\u001b[0;31m---------------------------------------------------------------------------\u001b[0m",
            "\u001b[0;31mTypeError\u001b[0m                                 Traceback (most recent call last)",
            "\u001b[0;32m<ipython-input-4-38f3469d9364>\u001b[0m in \u001b[0;36m<cell line: 2>\u001b[0;34m()\u001b[0m\n\u001b[1;32m      1\u001b[0m \u001b[0mguvi\u001b[0m\u001b[0;34m=\u001b[0m\u001b[0;34m'guvigeek'\u001b[0m\u001b[0;34m\u001b[0m\u001b[0;34m\u001b[0m\u001b[0m\n\u001b[0;32m----> 2\u001b[0;31m \u001b[0;32mfor\u001b[0m \u001b[0mi\u001b[0m \u001b[0;32min\u001b[0m \u001b[0mrange\u001b[0m\u001b[0;34m(\u001b[0m\u001b[0mguvi\u001b[0m\u001b[0;34m)\u001b[0m\u001b[0;34m:\u001b[0m\u001b[0;34m\u001b[0m\u001b[0;34m\u001b[0m\u001b[0m\n\u001b[0m\u001b[1;32m      3\u001b[0m   \u001b[0mprint\u001b[0m\u001b[0;34m(\u001b[0m\u001b[0mi\u001b[0m\u001b[0;34m)\u001b[0m\u001b[0;34m\u001b[0m\u001b[0;34m\u001b[0m\u001b[0m\n",
            "\u001b[0;31mTypeError\u001b[0m: 'str' object cannot be interpreted as an integer"
          ]
        }
      ],
      "source": [
        "guvi='guvigeek'\n",
        "for i in range(guvi):\n",
        "  print(i)"
      ]
    },
    {
      "cell_type": "code",
      "execution_count": null,
      "metadata": {
        "colab": {
          "base_uri": "https://localhost:8080/"
        },
        "id": "2eErL0JWQGtG",
        "outputId": "92e3c396-05ea-493c-a7da-d24565ac2fc9"
      },
      "outputs": [
        {
          "name": "stdout",
          "output_type": "stream",
          "text": [
            "0\n",
            "1\n",
            "4\n",
            "5\n"
          ]
        }
      ],
      "source": [
        "for i in range(2):\n",
        "  print(i)\n",
        "for i in range(4,6):\n",
        "  print(i)"
      ]
    },
    {
      "cell_type": "code",
      "execution_count": null,
      "metadata": {
        "colab": {
          "base_uri": "https://localhost:8080/"
        },
        "id": "K36lydUkQoF9",
        "outputId": "f087deeb-3d46-4679-968c-33459b4bf21c"
      },
      "outputs": [
        {
          "name": "stdout",
          "output_type": "stream",
          "text": [
            "4\n",
            "7\n",
            "11\n",
            "15\n"
          ]
        }
      ],
      "source": [
        "arr=[[1,2,3,4],[4,5,6,7],[8,9,10,11],[12,13,14,15]]\n",
        "for i in range(0,4):\n",
        "  print(arr[i].pop())"
      ]
    },
    {
      "cell_type": "code",
      "execution_count": null,
      "metadata": {
        "colab": {
          "base_uri": "https://localhost:8080/"
        },
        "id": "PL0qRA81REZc",
        "outputId": "f5ef28b5-8727-467e-cfb1-7901b3732f55"
      },
      "outputs": [
        {
          "name": "stdout",
          "output_type": "stream",
          "text": [
            "{1, 2, 3, 4}\n"
          ]
        }
      ],
      "source": [
        "guvi={1,2,3,4,4}\n",
        "print(guvi)"
      ]
    },
    {
      "cell_type": "code",
      "execution_count": null,
      "metadata": {
        "colab": {
          "base_uri": "https://localhost:8080/",
          "height": 210
        },
        "id": "o3a1J9WDRRKr",
        "outputId": "189b0544-0465-4a01-c424-232ba45efd22"
      },
      "outputs": [
        {
          "ename": "TypeError",
          "evalue": "unsupported operand type(s) for +: 'set' and 'set'",
          "output_type": "error",
          "traceback": [
            "\u001b[0;31m---------------------------------------------------------------------------\u001b[0m",
            "\u001b[0;31mTypeError\u001b[0m                                 Traceback (most recent call last)",
            "\u001b[0;32m<ipython-input-9-78d833808ce9>\u001b[0m in \u001b[0;36m<cell line: 3>\u001b[0;34m()\u001b[0m\n\u001b[1;32m      1\u001b[0m \u001b[0mguvi1\u001b[0m\u001b[0;34m=\u001b[0m\u001b[0;34m{\u001b[0m\u001b[0;36m1\u001b[0m\u001b[0;34m,\u001b[0m\u001b[0;36m2\u001b[0m\u001b[0;34m,\u001b[0m\u001b[0;36m3\u001b[0m\u001b[0;34m}\u001b[0m\u001b[0;34m\u001b[0m\u001b[0;34m\u001b[0m\u001b[0m\n\u001b[1;32m      2\u001b[0m \u001b[0mguvi2\u001b[0m\u001b[0;34m=\u001b[0m\u001b[0;34m{\u001b[0m\u001b[0;36m4\u001b[0m\u001b[0;34m,\u001b[0m\u001b[0;36m5\u001b[0m\u001b[0;34m,\u001b[0m\u001b[0;36m6\u001b[0m\u001b[0;34m}\u001b[0m\u001b[0;34m\u001b[0m\u001b[0;34m\u001b[0m\u001b[0m\n\u001b[0;32m----> 3\u001b[0;31m \u001b[0mprint\u001b[0m\u001b[0;34m(\u001b[0m\u001b[0mlen\u001b[0m\u001b[0;34m(\u001b[0m\u001b[0mguvi1\u001b[0m\u001b[0;34m+\u001b[0m\u001b[0mguvi2\u001b[0m\u001b[0;34m)\u001b[0m\u001b[0;34m)\u001b[0m\u001b[0;34m\u001b[0m\u001b[0;34m\u001b[0m\u001b[0m\n\u001b[0m",
            "\u001b[0;31mTypeError\u001b[0m: unsupported operand type(s) for +: 'set' and 'set'"
          ]
        }
      ],
      "source": [
        "guvi1={1,2,3}\n",
        "guvi2={4,5,6}\n",
        "print(len(guvi1+guvi2))"
      ]
    },
    {
      "cell_type": "code",
      "execution_count": null,
      "metadata": {
        "colab": {
          "base_uri": "https://localhost:8080/"
        },
        "id": "8rURxbceSP5q",
        "outputId": "b0bdee3c-470d-4b6e-db21-73f366c5f136"
      },
      "outputs": [
        {
          "name": "stdout",
          "output_type": "stream",
          "text": [
            "Hello World!Hello World!\n"
          ]
        }
      ],
      "source": [
        "str_value = 'Hello World!'\n",
        "print(str_value * 2)\n"
      ]
    },
    {
      "cell_type": "code",
      "execution_count": null,
      "metadata": {
        "colab": {
          "base_uri": "https://localhost:8080/"
        },
        "id": "IL8p58-TSX2w",
        "outputId": "d0cbe4b9-0a5a-4387-e9c0-0ed017672c25"
      },
      "outputs": [
        {
          "name": "stdout",
          "output_type": "stream",
          "text": [
            "[11, 15, 19]\n"
          ]
        }
      ],
      "source": [
        "b=[11,13,15,17,19,21]\n",
        "print(b[::2])"
      ]
    },
    {
      "cell_type": "code",
      "execution_count": null,
      "metadata": {
        "colab": {
          "base_uri": "https://localhost:8080/"
        },
        "id": "JAtyWybnSnL4",
        "outputId": "508a3619-0e23-4d67-9721-b51abe50ae44"
      },
      "outputs": [
        {
          "name": "stdout",
          "output_type": "stream",
          "text": [
            "[0, 1, 2]\n"
          ]
        }
      ],
      "source": [
        "x=[i**+1 for i in range(3)];print(x)"
      ]
    },
    {
      "cell_type": "code",
      "execution_count": null,
      "metadata": {
        "colab": {
          "base_uri": "https://localhost:8080/"
        },
        "id": "ddjAXoDhaes-",
        "outputId": "6caef3d6-c863-4285-e402-f0f543cb129a"
      },
      "outputs": [
        {
          "name": "stdout",
          "output_type": "stream",
          "text": [
            "7\n",
            "3\n",
            "1 2 3 4 5 6 7\n",
            "5 6 7 1 2 3 4\n"
          ]
        }
      ],
      "source": [
        "\n",
        "def shuffle_candidates(n, k, candidates):\n",
        "    if k <= 0:\n",
        "        return candidates\n",
        "    else:\n",
        "        return candidates[-k:] + candidates[:-k]\n",
        "\n",
        "# Sample Input 1\n",
        "n1 = int(input())\n",
        "k1 = int(input())\n",
        "output1=[]\n",
        "candidates1 =list(map(int,input().split()))\n",
        "output1 = shuffle_candidates(n1, k1, candidates1)\n",
        "print(*output1)\n"
      ]
    },
    {
      "cell_type": "code",
      "execution_count": null,
      "metadata": {
        "colab": {
          "base_uri": "https://localhost:8080/"
        },
        "id": "TCN4Pb8Jig4D",
        "outputId": "13140858-3826-4dfd-820c-5c06889b26cc"
      },
      "outputs": [
        {
          "name": "stdout",
          "output_type": "stream",
          "text": [
            "10\n",
            "2 3 5 7\n"
          ]
        }
      ],
      "source": [
        "def is_prime(num):\n",
        "    if num < 2:\n",
        "        return False\n",
        "    for i in range(2, int(num**0.5) + 1):\n",
        "        if num % i == 0:\n",
        "            return False\n",
        "    return True\n",
        "\n",
        "def primes_less_than_n(N):\n",
        "    primes = [num for num in range(2, N) if is_prime(num)]\n",
        "    return primes\n",
        "\n",
        "# Example\n",
        "N = int(input())\n",
        "result = primes_less_than_n(N)\n",
        "print(' '.join(map(str, result)))"
      ]
    },
    {
      "cell_type": "code",
      "execution_count": null,
      "metadata": {
        "colab": {
          "base_uri": "https://localhost:8080/"
        },
        "id": "VMxxnIGBlgQa",
        "outputId": "3f6ef950-0126-4787-f7c5-a5bbd908f36c"
      },
      "outputs": [
        {
          "name": "stdout",
          "output_type": "stream",
          "text": [
            "test@gmail.com\n",
            "YES\n"
          ]
        }
      ],
      "source": [
        "\n",
        "import re\n",
        "def validate_email(email):\n",
        "  pattern=re.compile(r'^[a-zA-Z0-9%._+-]+@[a-zA-Z0-9.-]+\\.[a-zA-Z]{2,}$')\n",
        "  if pattern.match(email):\n",
        "    print('YES')\n",
        "  else:\n",
        "    print('NO')\n",
        "\n",
        "input_email=input()\n",
        "validate_email(input_email)"
      ]
    },
    {
      "cell_type": "code",
      "execution_count": null,
      "metadata": {
        "colab": {
          "base_uri": "https://localhost:8080/"
        },
        "id": "xp68QvQe_VN-",
        "outputId": "5495cbb5-923f-4579-9570-9f22e40acd0e"
      },
      "outputs": [
        {
          "name": "stdout",
          "output_type": "stream",
          "text": [
            "Enter your order: dfffff 4\n",
            "Sorry, Only recipes on the menu!\n",
            "Total Price (GST inclusive): Rs 0.00\n"
          ]
        }
      ],
      "source": [
        "menu_prices = {\n",
        "    \"oniondosa\": 80,\n",
        "    \"plaindosa\": 40,\n",
        "    \"ravadosa\": 75,\n",
        "    \"idli\": 10,\n",
        "    \"vada\": 5,\n",
        "    \"poori\": 30,\n",
        "    \"chapathi\": 30,\n",
        "    \"pongal\": 35,\n",
        "    \"tea\": 25,\n",
        "    \"coffee\": 35,\n",
        "    \"meais\": 75\n",
        "}\n",
        "\n",
        "GST_RATE = 0.05\n",
        "\n",
        "def calculate_total_bill(order):\n",
        "    total_price = 0\n",
        "    total_price_with_gst = 0  # Initialize the variable here\n",
        "\n",
        "    for item, count in order.items():\n",
        "        if item in menu_prices:\n",
        "            total_price += menu_prices[item] * count\n",
        "            total_price_with_gst = total_price + (total_price * GST_RATE)\n",
        "        else:\n",
        "            print(\"Sorry, Only recipes on the menu!\")\n",
        "            return 0.00  # Return 0.00 in case of an error\n",
        "\n",
        "    return total_price_with_gst\n",
        "\n",
        "# Example usage\n",
        "input_order = str(input(\"Enter your order: \")).split()\n",
        "order = {input_order[i]: int(input_order[i + 1]) for i in range(0, len(input_order), 2)}\n",
        "\n",
        "total_bill = calculate_total_bill(order)\n",
        "print(f\"Total Price (GST inclusive): Rs {total_bill:.2f}\")\n"
      ]
    },
    {
      "cell_type": "markdown",
      "metadata": {
        "id": "9O-ZK1mIrsXG"
      },
      "source": [
        "You are given an array. Your task is to sort the array in given manner. Print the elements in increasing order of the frequency. If frequency is same print smaller one first.\n",
        "\n",
        "Input Description:\n",
        "You are given a number ‘n’. Then in next line n space separated numbers.\n",
        "\n",
        "Output Description:\n",
        "Print the array as mentioned\n",
        "\n",
        "Sample Input :\n",
        "4\n",
        "1 1 3 2\n",
        "Sample Output :\n",
        "2 3 1"
      ]
    },
    {
      "cell_type": "code",
      "execution_count": null,
      "metadata": {
        "colab": {
          "base_uri": "https://localhost:8080/"
        },
        "id": "GKqiXq0-q6oI",
        "outputId": "b526142c-1fef-46d4-fa55-8269ecd3d95c"
      },
      "outputs": [
        {
          "name": "stdout",
          "output_type": "stream",
          "text": [
            "4\n",
            "1 1 3 2\n",
            "2 3 1\n"
          ]
        }
      ],
      "source": [
        "from collections import Counter\n",
        "\n",
        "def custom_sort(arr):\n",
        "    # Count the frequency of each element\n",
        "    frequency_counter = Counter(arr)\n",
        "\n",
        "    # Sort the array based on frequency and then value\n",
        "    sorted_arr = sorted(arr, key=lambda x: (frequency_counter[x], x))\n",
        "\n",
        "    # Remove duplicates while maintaining order\n",
        "    unique_sorted_arr = list(dict.fromkeys(sorted_arr))\n",
        "\n",
        "    return unique_sorted_arr\n",
        "\n",
        "# Input\n",
        "n = int(input())\n",
        "arr = list(map(int, input().split()))\n",
        "\n",
        "# Sorting and printing the result\n",
        "result = custom_sort(arr)\n",
        "print(\" \".join(map(str, result)))\n",
        "\n"
      ]
    },
    {
      "cell_type": "markdown",
      "metadata": {
        "id": "jbKYoJAEsZi7"
      },
      "source": [
        "Ramit is given a list of both positive and negative integers. He has to tell the maximum sum out of all subarrays in the given list. He got confused and requested help from you. Now it is your task to find the maximum sum out of all subarrays in the given list.\n",
        "\n",
        "Input Description:\n",
        "You are given a number 'n'. Next line contains n space separated numbers.\n",
        "\n",
        "Output Description:\n",
        "Print the max sum of subarray.\n",
        "\n",
        "Sample Input :\n",
        "5\n",
        "1 2 3 -2 5\n",
        "Sample Output :\n",
        "9"
      ]
    },
    {
      "cell_type": "code",
      "execution_count": null,
      "metadata": {
        "colab": {
          "base_uri": "https://localhost:8080/"
        },
        "id": "CVVGAYvwsZEc",
        "outputId": "9c69f6d4-76e0-4a9e-e806-a141755e1339"
      },
      "outputs": [
        {
          "name": "stdout",
          "output_type": "stream",
          "text": [
            "5\n",
            "1 2 3 -2 5\n",
            "9\n"
          ]
        }
      ],
      "source": [
        "def max_subarray_sum(arr):\n",
        "    max_current = max_global = arr[0]\n",
        "\n",
        "    for num in arr[1:]:\n",
        "        max_current = max(num, max_current + num)\n",
        "        max_global = max(max_global, max_current)\n",
        "\n",
        "    return max_global\n",
        "\n",
        "# Input\n",
        "n = int(input())\n",
        "arr = list(map(int, input().split()))\n",
        "\n",
        "# Calculate and print the maximum subarray sum\n",
        "result = max_subarray_sum(arr)\n",
        "print(result)\n"
      ]
    },
    {
      "cell_type": "markdown",
      "metadata": {
        "id": "mrKe4aVaszbO"
      },
      "source": [
        "Mr.Stark wants to order the employee ids, which are recorded in a 2D matrix, in ascending order. He wants to do it so as to allot a new id to a person who joins as a fresher. You are the CTO of the Stark industries and you are asked by Mr.Stark to sort the data.\n",
        "\n",
        "\n",
        "Input Description:\n",
        "Dimensions of the matrix m and n, followed by the elements of the matrix.\n",
        "\n",
        "Output Description:\n",
        "Matrix sorted in ascending order\n",
        "\n",
        "Sample Input :\n",
        "3 3\n",
        "87 21 34\n",
        "89 32 78\n",
        "12 23 45\n",
        "Sample Output :\n",
        "12 21 23\n",
        "32 34 45\n",
        "78 87 89"
      ]
    },
    {
      "cell_type": "code",
      "execution_count": null,
      "metadata": {
        "colab": {
          "base_uri": "https://localhost:8080/"
        },
        "id": "CMJ-NtY7s0oO",
        "outputId": "1fc64630-7429-4581-98fd-3ee4fb5321a5"
      },
      "outputs": [
        {
          "name": "stdout",
          "output_type": "stream",
          "text": [
            "3 3\n",
            "87 21 34\n",
            "89 32 78\n",
            "12 23 45\n",
            "12 21 23\n",
            "32 34 45\n",
            "78 87 89\n"
          ]
        }
      ],
      "source": [
        "# Input\n",
        "m, n = map(int, input().split())\n",
        "matrix = [list(map(int, input().split())) for _ in range(m)]\n",
        "\n",
        "# Flatten the matrix, sort the elements, and reshape the matrix\n",
        "flattened_matrix = sorted([element for row in matrix for element in row])\n",
        "sorted_matrix = [flattened_matrix[i:i + n] for i in range(0, len(flattened_matrix), n)]\n",
        "\n",
        "# Output\n",
        "for row in sorted_matrix:\n",
        "    print(\" \".join(map(str, row)))\n"
      ]
    },
    {
      "cell_type": "markdown",
      "metadata": {
        "id": "3phvatJ-th4y"
      },
      "source": [
        "Pk finds it difficult to judge the minimum element in the list of elements given to him. Your task is to develop the algorithm in order to find the minimum element.\n",
        "\n",
        "\n",
        "\n",
        "Note:Don’t use sorting\n",
        "\n",
        "\n",
        "Input Description:\n",
        "You are given ‘n’ number of elements. Next line contains n space separated numbers.\n",
        "\n",
        "Output Description:\n",
        "Print the minimum element\n",
        "\n",
        "Sample Input :\n",
        "5\n",
        "3 4 9 1 6\n",
        "Sample Output :\n",
        "1"
      ]
    },
    {
      "cell_type": "code",
      "execution_count": null,
      "metadata": {
        "colab": {
          "base_uri": "https://localhost:8080/"
        },
        "id": "9F0TGuEitl3i",
        "outputId": "74841486-5e08-4999-a5d7-fabd1d283737"
      },
      "outputs": [
        {
          "name": "stdout",
          "output_type": "stream",
          "text": [
            "5\n",
            "3 4 9 1 6\n",
            "1\n"
          ]
        }
      ],
      "source": [
        "# Input\n",
        "n = int(input())\n",
        "elements = list(map(int, input().split()))\n",
        "\n",
        "# Find the minimum element\n",
        "min_element = elements[0]\n",
        "for element in elements[1:]:\n",
        "    if element < min_element:\n",
        "        min_element = element\n",
        "\n",
        "# Output\n",
        "print(min_element)\n"
      ]
    },
    {
      "cell_type": "markdown",
      "metadata": {
        "id": "pxaalCYEul-n"
      },
      "source": [
        "Given a number n followed by n numbers print the number which is greater than 15 if there is no number exits print -1\n",
        "\n",
        "Input Description:\n",
        "0<n<100 Given a number n Followed by n number in next line\n",
        "\n",
        "Output Description:\n",
        "Print the number which is greater than 15 if there is no number exits print -1\n",
        "\n",
        "Sample Input :\n",
        "3\n",
        "5 7 4\n",
        "Sample Output :\n",
        "-1"
      ]
    },
    {
      "cell_type": "code",
      "execution_count": null,
      "metadata": {
        "colab": {
          "base_uri": "https://localhost:8080/"
        },
        "id": "-muxdUuwukmB",
        "outputId": "28c07371-7e00-4d62-f3cc-2ec48e8d4b96"
      },
      "outputs": [
        {
          "name": "stdout",
          "output_type": "stream",
          "text": [
            "3\n",
            "4 16 8\n",
            "16\n"
          ]
        }
      ],
      "source": [
        "# Input\n",
        "n = int(input())\n",
        "numbers = list(map(int, input().split()))\n",
        "\n",
        "# Find the number greater than 15\n",
        "found_number = -1\n",
        "for num in numbers:\n",
        "    if num > 15:\n",
        "        found_number = num\n",
        "        break\n",
        "\n",
        "# Output\n",
        "print(found_number)\n",
        "\n"
      ]
    },
    {
      "cell_type": "markdown",
      "metadata": {
        "id": "MQY_BEGTvJMN"
      },
      "source": [
        "Given a number m and k separated by a space print the numbers between m and k\n",
        "\n",
        "Input Description:\n",
        "number m and n separated by a space 0<m<1000 0<n<1000 m<n\n",
        "\n",
        "Output Description:\n",
        "print the numbers between this two numbers\n",
        "\n",
        "Sample Input :\n",
        "5 8\n",
        "Sample Output :\n",
        "6 7"
      ]
    },
    {
      "cell_type": "code",
      "execution_count": null,
      "metadata": {
        "colab": {
          "base_uri": "https://localhost:8080/"
        },
        "id": "AOtTCDUuvJ_O",
        "outputId": "52d35032-588c-4563-d000-b508b7a58a65"
      },
      "outputs": [
        {
          "name": "stdout",
          "output_type": "stream",
          "text": [
            "5 8\n",
            "6 7 "
          ]
        }
      ],
      "source": [
        "# Input\n",
        "m, n = map(int, input().split())\n",
        "\n",
        "# Print the numbers between m and n\n",
        "for i in range(m + 1, n):\n",
        "    print(i, end=\" \")\n"
      ]
    },
    {
      "cell_type": "markdown",
      "metadata": {
        "id": "EUb-qogbwA6y"
      },
      "source": [
        "Given a number n followed by n numbers find whether it is odd or even\n",
        "\n",
        "Input Description:\n",
        "0<n<100 Given a number n Followed by n number in next line\n",
        "\n",
        "Output Description:\n",
        "Print whether odd or even\n",
        "\n",
        "Sample Input :\n",
        "3\n",
        "5 7 4\n",
        "Sample Output :\n",
        "odd odd even"
      ]
    },
    {
      "cell_type": "code",
      "execution_count": null,
      "metadata": {
        "colab": {
          "base_uri": "https://localhost:8080/"
        },
        "id": "OTnc2s8GwCFU",
        "outputId": "3405fe01-7847-4a31-c60d-25d233457289"
      },
      "outputs": [
        {
          "name": "stdout",
          "output_type": "stream",
          "text": [
            "3\n",
            "21 26 28\n",
            "odd even even\n"
          ]
        }
      ],
      "source": [
        "# Input\n",
        "n = int(input())\n",
        "numbers = list(map(int, input().split()))\n",
        "\n",
        "# Determine whether each number is odd or even\n",
        "result = ['even' if num % 2 == 0 else 'odd' for num in numbers]\n",
        "\n",
        "# Output\n",
        "print(\" \".join(result))\n"
      ]
    },
    {
      "cell_type": "markdown",
      "metadata": {
        "id": "nmBguKEww6uy"
      },
      "source": [
        "Given a number n followed by n numbers print the number less than 15 if there is no number exits print -1\n",
        "\n",
        "Input Description:\n",
        "0<n<100 Given a number n Followed by n number in next line\n",
        "\n",
        "Output Description:\n",
        "Print the number which is less than 15 if there is no number exits print -1\n",
        "\n",
        "Sample Input :\n",
        "3\n",
        "5 7 4\n",
        "Sample Output :\n",
        "5 7 4"
      ]
    },
    {
      "cell_type": "code",
      "execution_count": null,
      "metadata": {
        "colab": {
          "base_uri": "https://localhost:8080/"
        },
        "id": "gvi3aaW-w7bk",
        "outputId": "d3d205f4-4867-481e-f3cc-b038de8cad64"
      },
      "outputs": [
        {
          "name": "stdout",
          "output_type": "stream",
          "text": [
            "3\n",
            "5 7 4\n",
            "5 7 4\n"
          ]
        }
      ],
      "source": [
        "# Input\n",
        "n = int(input())\n",
        "numbers = list(map(int, input().split()))\n",
        "\n",
        "# Find and print numbers less than 15\n",
        "result = [str(num) for num in numbers if num < 15]\n",
        "\n",
        "# Output\n",
        "if result:\n",
        "    print(\" \".join(result))\n",
        "else:\n",
        "    print(-1)\n"
      ]
    },
    {
      "cell_type": "markdown",
      "metadata": {
        "id": "xmRNIbSHxYZi"
      },
      "source": [
        "Given a number n followed by n numbers Print the smallest number in an array\n",
        "\n",
        "Input Description:\n",
        "0<n<100 Given a number n Followed by n number in next line\n",
        "\n",
        "Output Description:\n",
        "Print the smallest number in an array\n",
        "\n",
        "Sample Input :\n",
        "6\n",
        "5 7 4 4 6 8\n",
        "Sample Output :\n",
        "4"
      ]
    },
    {
      "cell_type": "code",
      "execution_count": null,
      "metadata": {
        "colab": {
          "base_uri": "https://localhost:8080/"
        },
        "id": "tmXgvn3dxZLw",
        "outputId": "5ba06aca-c006-4ae1-def2-b35411c13e37"
      },
      "outputs": [
        {
          "name": "stdout",
          "output_type": "stream",
          "text": [
            "6\n",
            "5 7 4 4 6 8\n",
            "4\n"
          ]
        }
      ],
      "source": [
        "# Input\n",
        "n = int(input())\n",
        "numbers = list(map(int, input().split()))\n",
        "\n",
        "# Find and print the smallest number\n",
        "min_number = min(numbers)\n",
        "print(min_number)\n"
      ]
    },
    {
      "cell_type": "markdown",
      "metadata": {
        "id": "QmJHrWClx1i2"
      },
      "source": [
        "Given a number n followed by n numbers Find the sum of the elements in an array\n",
        "\n",
        "Input Description:\n",
        "0<n<100 Given a number n Followed by n number in next line\n",
        "\n",
        "Output Description:\n",
        "Print the sum of the elements in an array\n",
        "\n",
        "Sample Input :\n",
        "3\n",
        "5 7 4\n",
        "Sample Output :\n",
        "16"
      ]
    },
    {
      "cell_type": "code",
      "execution_count": null,
      "metadata": {
        "colab": {
          "base_uri": "https://localhost:8080/"
        },
        "id": "P3rKm1s7x2H_",
        "outputId": "ffe3bceb-228e-4cba-cc47-b096d51160ea"
      },
      "outputs": [
        {
          "name": "stdout",
          "output_type": "stream",
          "text": [
            "3\n",
            "5 7 4\n",
            "16\n"
          ]
        }
      ],
      "source": [
        "# Input\n",
        "n = int(input())\n",
        "numbers = list(map(int, input().split()))\n",
        "\n",
        "# Find and print the sum of the elements\n",
        "sum_elements = sum(numbers)\n",
        "print(sum_elements)\n"
      ]
    },
    {
      "cell_type": "markdown",
      "metadata": {
        "id": "Sg7HgMaL2kPL"
      },
      "source": [
        "Given a number m and k separated by a space print n numbers which multiple of m\n",
        "\n",
        "Input Description:\n",
        "number m and k separated by a space 0<n<1000 0<m<1000\n",
        "\n",
        "Output Description:\n",
        "print n numbers which multiple of m\n",
        "\n",
        "Sample Input :\n",
        "5 4\n",
        "Sample Output :\n",
        "4 8 12 16 20"
      ]
    },
    {
      "cell_type": "code",
      "execution_count": null,
      "metadata": {
        "colab": {
          "base_uri": "https://localhost:8080/"
        },
        "id": "zOY4IRuI2lta",
        "outputId": "77850140-2b26-43fe-931a-ada1a19522e8"
      },
      "outputs": [
        {
          "name": "stdout",
          "output_type": "stream",
          "text": [
            "9 5\n",
            "9 18 27 36 45\n"
          ]
        }
      ],
      "source": [
        "# Input\n",
        "m, n = map(int, input().split())\n",
        "\n",
        "# Print the first n numbers which are multiples of m\n",
        "multiples = [m * i for i in range(1, n + 1)]\n",
        "print(\" \".join(map(str, multiples)))\n"
      ]
    },
    {
      "cell_type": "markdown",
      "metadata": {
        "id": "sGFPWeKV3uVV"
      },
      "source": [
        "Given a number n followed by n numbers Print the largest number in an array\n",
        "\n",
        "Input Description:\n",
        "0<n<100 Given a number n Followed by n number in next line\n",
        "\n",
        "Output Description:\n",
        "Print the largest number in an array\n",
        "\n",
        "Sample Input :\n",
        "6\n",
        "5 7 4 4 6 8\n",
        "Sample Output :\n",
        "8"
      ]
    },
    {
      "cell_type": "code",
      "execution_count": null,
      "metadata": {
        "colab": {
          "base_uri": "https://localhost:8080/"
        },
        "id": "VinOgcC13y5Q",
        "outputId": "3b2bac1c-e16c-4738-ba56-095794ee0e00"
      },
      "outputs": [
        {
          "name": "stdout",
          "output_type": "stream",
          "text": [
            "6\n",
            "5 7 4 4 6 8\n",
            "8\n"
          ]
        }
      ],
      "source": [
        "# Input\n",
        "n = int(input())\n",
        "numbers = list(map(int, input().split()))\n",
        "\n",
        "# Find and print the largest number\n",
        "max_number = max(numbers)\n",
        "print(max_number)\n"
      ]
    },
    {
      "cell_type": "markdown",
      "metadata": {
        "id": "3WVZZqa546Qv"
      },
      "source": [
        "Given a number n print the three prime number which comes next to number n\n",
        "\n",
        "Input Description:\n",
        "0<n<100 Given a number n\n",
        "\n",
        "Output Description:\n",
        "print the three prime number which comes next to number n\n",
        "\n",
        "Sample Input :\n",
        "3\n",
        "Sample Output :\n",
        "5 7 11"
      ]
    },
    {
      "cell_type": "code",
      "execution_count": null,
      "metadata": {
        "colab": {
          "base_uri": "https://localhost:8080/"
        },
        "id": "4u10T6mH47Ug",
        "outputId": "762b3cff-8242-4185-a8a9-247f0fce030c"
      },
      "outputs": [
        {
          "name": "stdout",
          "output_type": "stream",
          "text": [
            "3\n",
            "5 7 11\n"
          ]
        }
      ],
      "source": [
        "def is_prime(num):\n",
        "    if num < 2:\n",
        "        return False\n",
        "    for i in range(2, int(num**0.5) + 1):\n",
        "        if num % i == 0:\n",
        "            return False\n",
        "    return True\n",
        "\n",
        "# Input\n",
        "n = int(input())\n",
        "\n",
        "# Find and print the three prime numbers after n\n",
        "prime_numbers = []\n",
        "current_number = n + 1\n",
        "\n",
        "while len(prime_numbers) < 3:\n",
        "    if is_prime(current_number):\n",
        "        prime_numbers.append(current_number)\n",
        "    current_number += 1\n",
        "\n",
        "print(\" \".join(map(str, prime_numbers)))\n"
      ]
    },
    {
      "cell_type": "markdown",
      "metadata": {
        "id": "zUGbRy0H5xYc"
      },
      "source": [
        "Given a numbers n followed by x and y array of n number. Add the common number in the array x and y and print the numbers. If there is no such number print -1. A number is said to be a common number if x[i] == y[i].\n",
        "\n",
        "Input Description:\n",
        "0<n<100 Given a number n Followed by x number in next line Followed by y number in next line\n",
        "\n",
        "Output Description:\n",
        "Print added common numbers if their is no number print -1\n",
        "\n",
        "Sample Input :\n",
        "6\n",
        "5 7 4 4 6 8\n",
        "1 2 3 5 1 1\n",
        "Sample Output :\n",
        "-1"
      ]
    },
    {
      "cell_type": "code",
      "execution_count": null,
      "metadata": {
        "colab": {
          "base_uri": "https://localhost:8080/"
        },
        "id": "0iF-mcfP5yUD",
        "outputId": "3a40a15b-6cbb-4287-f7d2-07ea7b15e64c"
      },
      "outputs": [
        {
          "name": "stdout",
          "output_type": "stream",
          "text": [
            "6\n",
            "5 7 4 4 6 8\n",
            "1 2 3 5 1 1\n",
            "-1\n"
          ]
        }
      ],
      "source": [
        "# Input\n",
        "n = int(input())\n",
        "x = list(map(int, input().split()))\n",
        "y = list(map(int, input().split()))\n",
        "\n",
        "# Find and print the sum of common numbers\n",
        "common_sum = sum([xi + yi for xi, yi in zip(x, y) if xi == yi])\n",
        "\n",
        "# Output\n",
        "if common_sum != 0:\n",
        "    print(common_sum)\n",
        "else:\n",
        "    print(-1)\n"
      ]
    },
    {
      "cell_type": "markdown",
      "metadata": {
        "id": "nmkS8oIA6ZVR"
      },
      "source": [
        "Given a string print the vowels in the string\n",
        "\n",
        "Input Description:\n",
        "Given a string\n",
        "\n",
        "Output Description:\n",
        "Print the String\n",
        "\n",
        "Sample Input :\n",
        "guvi geek\n",
        "Sample Output :\n",
        "ui ee"
      ]
    },
    {
      "cell_type": "code",
      "execution_count": null,
      "metadata": {
        "colab": {
          "base_uri": "https://localhost:8080/"
        },
        "id": "C5u38aDq6iJn",
        "outputId": "b16f87fe-8338-4edc-f0c4-aed2ee160121"
      },
      "outputs": [
        {
          "name": "stdout",
          "output_type": "stream",
          "text": [
            "guvi geek\n",
            "uiee\n"
          ]
        }
      ],
      "source": [
        "# Input\n",
        "input_string = input()\n",
        "\n",
        "# Find and print the vowels in the string\n",
        "vowels = [char for char in input_string if char.lower() in 'aeiou']\n",
        "result = ''.join(vowels)\n",
        "\n",
        "# Output\n",
        "print(result)\n"
      ]
    },
    {
      "cell_type": "markdown",
      "metadata": {
        "id": "IxQW1OvlMbY_"
      },
      "source": [
        "give three numbers L,R,N print the count of numbers with occurrence of the number N in [L,R] input size :1<=L,R,N<=100000 : if input 10 130 11 output  11 ..Explanation 11,110,111,112,....119"
      ]
    },
    {
      "cell_type": "code",
      "execution_count": null,
      "metadata": {
        "colab": {
          "base_uri": "https://localhost:8080/"
        },
        "id": "A9LDjN3MMcjD",
        "outputId": "c9a61c8f-152a-4ee0-a8f0-f19e6b3c0a0b"
      },
      "outputs": [
        {
          "name": "stdout",
          "output_type": "stream",
          "text": [
            "10 130 11\n",
            "11\n"
          ]
        }
      ],
      "source": [
        "def count_occurrences(L, R, N):\n",
        "    count = 0\n",
        "    for i in range(L, R + 1):\n",
        "        count += str(i).count(str(N))\n",
        "    return count\n",
        "\n",
        "# Example usage:\n",
        "L, R, N = map(int, input().split())\n",
        "print(count_occurrences(L, R, N))\n"
      ]
    },
    {
      "cell_type": "code",
      "execution_count": null,
      "metadata": {
        "colab": {
          "base_uri": "https://localhost:8080/"
        },
        "id": "bi4UcNSPNyhC",
        "outputId": "35bf2aa7-ae4b-4744-8db7-fb77fe2ca325"
      },
      "outputs": [
        {
          "name": "stdout",
          "output_type": "stream",
          "text": [
            "5 2 5\n",
            "4 3 2 5 6\n",
            "YES\n"
          ]
        }
      ],
      "source": [
        "def find_k_numbers_with_sum(array, K, T):\n",
        "    # Sort the array to utilize two-pointer technique\n",
        "    array.sort()\n",
        "    left, right = 0, len(array) - 1\n",
        "\n",
        "    while left < right:\n",
        "        current_sum = array[left] + array[right]\n",
        "        if current_sum == T and K == 2:\n",
        "            return \"YES\"\n",
        "        elif current_sum < T:\n",
        "            left += 1\n",
        "        else:\n",
        "            right -= 1\n",
        "\n",
        "    return \"NO\"\n",
        "\n",
        "# Input processing\n",
        "N, K, T = map(int, input().split())\n",
        "array = list(map(int, input().split()))\n",
        "\n",
        "# Call the function and print the result\n",
        "print(find_k_numbers_with_sum(array, K, T))\n"
      ]
    },
    {
      "cell_type": "code",
      "execution_count": null,
      "metadata": {
        "colab": {
          "base_uri": "https://localhost:8080/"
        },
        "id": "k8F538NXRSSN",
        "outputId": "e46fe367-49d8-4141-f4a7-35b0cea7d88e"
      },
      "outputs": [
        {
          "name": "stdout",
          "output_type": "stream",
          "text": [
            "5 2 5\n",
            "4 3 2 5 6\n",
            "NO\n"
          ]
        }
      ],
      "source": [
        "def find_k_numbers_with_sum(array, K, T):\n",
        "    if K == 0 or (K == 1 and T not in array):\n",
        "        return \"NO\"\n",
        "\n",
        "    array.sort()\n",
        "    return find_k_numbers_with_sum_recursive(array, K, T, 0, [])\n",
        "\n",
        "def find_k_numbers_with_sum_recursive(array, K, T, start, current_set):\n",
        "    if K == 0:\n",
        "        return \"YES\" if sum(current_set) == T else \"NO\"\n",
        "\n",
        "    for i in range(start, len(array)):\n",
        "        if array[i] <= T:\n",
        "            current_set.append(array[i])\n",
        "            result = find_k_numbers_with_sum_recursive(array, K - 1, T - array[i], i + 1, current_set)\n",
        "            if result == \"YES\":\n",
        "                return \"YES\"\n",
        "            current_set.pop()\n",
        "\n",
        "    return \"NO\"\n",
        "\n",
        "# Input processing\n",
        "N, K, T = map(int, input().split())\n",
        "array = list(map(int, input().split()))\n",
        "\n",
        "# Call the function and print the result\n",
        "print(find_k_numbers_with_sum(array, K, T))\n",
        "\n"
      ]
    },
    {
      "cell_type": "code",
      "execution_count": null,
      "metadata": {
        "colab": {
          "base_uri": "https://localhost:8080/"
        },
        "id": "RJv5a2VocS92",
        "outputId": "6bb4c73b-f62a-43a3-f653-dd084a6e810e"
      },
      "outputs": [
        {
          "name": "stdout",
          "output_type": "stream",
          "text": [
            "Requirement already satisfied: pandas in /usr/local/lib/python3.10/dist-packages (1.5.3)\n",
            "Requirement already satisfied: python-dateutil>=2.8.1 in /usr/local/lib/python3.10/dist-packages (from pandas) (2.8.2)\n",
            "Requirement already satisfied: pytz>=2020.1 in /usr/local/lib/python3.10/dist-packages (from pandas) (2023.4)\n",
            "Requirement already satisfied: numpy>=1.21.0 in /usr/local/lib/python3.10/dist-packages (from pandas) (1.23.5)\n",
            "Requirement already satisfied: six>=1.5 in /usr/local/lib/python3.10/dist-packages (from python-dateutil>=2.8.1->pandas) (1.16.0)\n"
          ]
        }
      ],
      "source": [
        "pip install pandas"
      ]
    },
    {
      "cell_type": "code",
      "execution_count": null,
      "metadata": {
        "colab": {
          "base_uri": "https://localhost:8080/"
        },
        "id": "N2yoqAxkbLqy",
        "outputId": "46518e5b-1108-49d4-b752-12c91c5eed20"
      },
      "outputs": [
        {
          "name": "stdout",
          "output_type": "stream",
          "text": [
            "['c']\n"
          ]
        }
      ],
      "source": [
        "import pandas as pd\n",
        "s1=pd.Series([1,2,31,4],index=['a','b','c','d'])\n",
        "index_value_of_31 = s1.index[s1.eq(31)].tolist()\n",
        "print(index_value_of_31)\n"
      ]
    },
    {
      "cell_type": "code",
      "execution_count": null,
      "metadata": {
        "colab": {
          "base_uri": "https://localhost:8080/"
        },
        "id": "YaFoj8EreYxq",
        "outputId": "961ffbcf-1032-4253-a003-728195a823c2"
      },
      "outputs": [
        {
          "name": "stdout",
          "output_type": "stream",
          "text": [
            "1\n"
          ]
        }
      ],
      "source": [
        "import pandas as pd\n",
        "s1=pd.Series([1,2,3,4],index=['a','b','c','d'])\n",
        "print(s1['a'])"
      ]
    },
    {
      "cell_type": "code",
      "execution_count": null,
      "metadata": {
        "colab": {
          "base_uri": "https://localhost:8080/"
        },
        "id": "11ZZIfN0e0uW",
        "outputId": "30957e06-de1f-4559-d0b4-9ed976b01bcc"
      },
      "outputs": [
        {
          "data": {
            "text/plain": [
              "a    1\n",
              "b    2\n",
              "c    3\n",
              "d    4\n",
              "dtype: int64"
            ]
          },
          "execution_count": 11,
          "metadata": {},
          "output_type": "execute_result"
        }
      ],
      "source": [
        "import pandas as pd\n",
        "s1=pd.Series([1,2,3,4],index=['a','b','c','d'])\n",
        "s1.head()"
      ]
    },
    {
      "cell_type": "code",
      "execution_count": null,
      "metadata": {
        "colab": {
          "base_uri": "https://localhost:8080/",
          "height": 143
        },
        "id": "ZItnkdLjf9p7",
        "outputId": "e452c08a-33dd-49c3-9f4e-ed1dc59c8fc5"
      },
      "outputs": [
        {
          "data": {
            "text/html": [
              "\n",
              "  <div id=\"df-07392dca-2a1f-4ead-b7b8-effddca9e0da\" class=\"colab-df-container\">\n",
              "    <div>\n",
              "<style scoped>\n",
              "    .dataframe tbody tr th:only-of-type {\n",
              "        vertical-align: middle;\n",
              "    }\n",
              "\n",
              "    .dataframe tbody tr th {\n",
              "        vertical-align: top;\n",
              "    }\n",
              "\n",
              "    .dataframe thead th {\n",
              "        text-align: right;\n",
              "    }\n",
              "</style>\n",
              "<table border=\"1\" class=\"dataframe\">\n",
              "  <thead>\n",
              "    <tr style=\"text-align: right;\">\n",
              "      <th></th>\n",
              "      <th>Name</th>\n",
              "      <th>RollNo</th>\n",
              "    </tr>\n",
              "  </thead>\n",
              "  <tbody>\n",
              "    <tr>\n",
              "      <th>0</th>\n",
              "      <td>Amir</td>\n",
              "      <td>1</td>\n",
              "    </tr>\n",
              "    <tr>\n",
              "      <th>1</th>\n",
              "      <td>Anil</td>\n",
              "      <td>2</td>\n",
              "    </tr>\n",
              "    <tr>\n",
              "      <th>2</th>\n",
              "      <td>Ravi</td>\n",
              "      <td>3</td>\n",
              "    </tr>\n",
              "  </tbody>\n",
              "</table>\n",
              "</div>\n",
              "    <div class=\"colab-df-buttons\">\n",
              "\n",
              "  <div class=\"colab-df-container\">\n",
              "    <button class=\"colab-df-convert\" onclick=\"convertToInteractive('df-07392dca-2a1f-4ead-b7b8-effddca9e0da')\"\n",
              "            title=\"Convert this dataframe to an interactive table.\"\n",
              "            style=\"display:none;\">\n",
              "\n",
              "  <svg xmlns=\"http://www.w3.org/2000/svg\" height=\"24px\" viewBox=\"0 -960 960 960\">\n",
              "    <path d=\"M120-120v-720h720v720H120Zm60-500h600v-160H180v160Zm220 220h160v-160H400v160Zm0 220h160v-160H400v160ZM180-400h160v-160H180v160Zm440 0h160v-160H620v160ZM180-180h160v-160H180v160Zm440 0h160v-160H620v160Z\"/>\n",
              "  </svg>\n",
              "    </button>\n",
              "\n",
              "  <style>\n",
              "    .colab-df-container {\n",
              "      display:flex;\n",
              "      gap: 12px;\n",
              "    }\n",
              "\n",
              "    .colab-df-convert {\n",
              "      background-color: #E8F0FE;\n",
              "      border: none;\n",
              "      border-radius: 50%;\n",
              "      cursor: pointer;\n",
              "      display: none;\n",
              "      fill: #1967D2;\n",
              "      height: 32px;\n",
              "      padding: 0 0 0 0;\n",
              "      width: 32px;\n",
              "    }\n",
              "\n",
              "    .colab-df-convert:hover {\n",
              "      background-color: #E2EBFA;\n",
              "      box-shadow: 0px 1px 2px rgba(60, 64, 67, 0.3), 0px 1px 3px 1px rgba(60, 64, 67, 0.15);\n",
              "      fill: #174EA6;\n",
              "    }\n",
              "\n",
              "    .colab-df-buttons div {\n",
              "      margin-bottom: 4px;\n",
              "    }\n",
              "\n",
              "    [theme=dark] .colab-df-convert {\n",
              "      background-color: #3B4455;\n",
              "      fill: #D2E3FC;\n",
              "    }\n",
              "\n",
              "    [theme=dark] .colab-df-convert:hover {\n",
              "      background-color: #434B5C;\n",
              "      box-shadow: 0px 1px 3px 1px rgba(0, 0, 0, 0.15);\n",
              "      filter: drop-shadow(0px 1px 2px rgba(0, 0, 0, 0.3));\n",
              "      fill: #FFFFFF;\n",
              "    }\n",
              "  </style>\n",
              "\n",
              "    <script>\n",
              "      const buttonEl =\n",
              "        document.querySelector('#df-07392dca-2a1f-4ead-b7b8-effddca9e0da button.colab-df-convert');\n",
              "      buttonEl.style.display =\n",
              "        google.colab.kernel.accessAllowed ? 'block' : 'none';\n",
              "\n",
              "      async function convertToInteractive(key) {\n",
              "        const element = document.querySelector('#df-07392dca-2a1f-4ead-b7b8-effddca9e0da');\n",
              "        const dataTable =\n",
              "          await google.colab.kernel.invokeFunction('convertToInteractive',\n",
              "                                                    [key], {});\n",
              "        if (!dataTable) return;\n",
              "\n",
              "        const docLinkHtml = 'Like what you see? Visit the ' +\n",
              "          '<a target=\"_blank\" href=https://colab.research.google.com/notebooks/data_table.ipynb>data table notebook</a>'\n",
              "          + ' to learn more about interactive tables.';\n",
              "        element.innerHTML = '';\n",
              "        dataTable['output_type'] = 'display_data';\n",
              "        await google.colab.output.renderOutput(dataTable, element);\n",
              "        const docLink = document.createElement('div');\n",
              "        docLink.innerHTML = docLinkHtml;\n",
              "        element.appendChild(docLink);\n",
              "      }\n",
              "    </script>\n",
              "  </div>\n",
              "\n",
              "\n",
              "<div id=\"df-77022bad-bdb8-4825-a822-69811be9396e\">\n",
              "  <button class=\"colab-df-quickchart\" onclick=\"quickchart('df-77022bad-bdb8-4825-a822-69811be9396e')\"\n",
              "            title=\"Suggest charts\"\n",
              "            style=\"display:none;\">\n",
              "\n",
              "<svg xmlns=\"http://www.w3.org/2000/svg\" height=\"24px\"viewBox=\"0 0 24 24\"\n",
              "     width=\"24px\">\n",
              "    <g>\n",
              "        <path d=\"M19 3H5c-1.1 0-2 .9-2 2v14c0 1.1.9 2 2 2h14c1.1 0 2-.9 2-2V5c0-1.1-.9-2-2-2zM9 17H7v-7h2v7zm4 0h-2V7h2v10zm4 0h-2v-4h2v4z\"/>\n",
              "    </g>\n",
              "</svg>\n",
              "  </button>\n",
              "\n",
              "<style>\n",
              "  .colab-df-quickchart {\n",
              "      --bg-color: #E8F0FE;\n",
              "      --fill-color: #1967D2;\n",
              "      --hover-bg-color: #E2EBFA;\n",
              "      --hover-fill-color: #174EA6;\n",
              "      --disabled-fill-color: #AAA;\n",
              "      --disabled-bg-color: #DDD;\n",
              "  }\n",
              "\n",
              "  [theme=dark] .colab-df-quickchart {\n",
              "      --bg-color: #3B4455;\n",
              "      --fill-color: #D2E3FC;\n",
              "      --hover-bg-color: #434B5C;\n",
              "      --hover-fill-color: #FFFFFF;\n",
              "      --disabled-bg-color: #3B4455;\n",
              "      --disabled-fill-color: #666;\n",
              "  }\n",
              "\n",
              "  .colab-df-quickchart {\n",
              "    background-color: var(--bg-color);\n",
              "    border: none;\n",
              "    border-radius: 50%;\n",
              "    cursor: pointer;\n",
              "    display: none;\n",
              "    fill: var(--fill-color);\n",
              "    height: 32px;\n",
              "    padding: 0;\n",
              "    width: 32px;\n",
              "  }\n",
              "\n",
              "  .colab-df-quickchart:hover {\n",
              "    background-color: var(--hover-bg-color);\n",
              "    box-shadow: 0 1px 2px rgba(60, 64, 67, 0.3), 0 1px 3px 1px rgba(60, 64, 67, 0.15);\n",
              "    fill: var(--button-hover-fill-color);\n",
              "  }\n",
              "\n",
              "  .colab-df-quickchart-complete:disabled,\n",
              "  .colab-df-quickchart-complete:disabled:hover {\n",
              "    background-color: var(--disabled-bg-color);\n",
              "    fill: var(--disabled-fill-color);\n",
              "    box-shadow: none;\n",
              "  }\n",
              "\n",
              "  .colab-df-spinner {\n",
              "    border: 2px solid var(--fill-color);\n",
              "    border-color: transparent;\n",
              "    border-bottom-color: var(--fill-color);\n",
              "    animation:\n",
              "      spin 1s steps(1) infinite;\n",
              "  }\n",
              "\n",
              "  @keyframes spin {\n",
              "    0% {\n",
              "      border-color: transparent;\n",
              "      border-bottom-color: var(--fill-color);\n",
              "      border-left-color: var(--fill-color);\n",
              "    }\n",
              "    20% {\n",
              "      border-color: transparent;\n",
              "      border-left-color: var(--fill-color);\n",
              "      border-top-color: var(--fill-color);\n",
              "    }\n",
              "    30% {\n",
              "      border-color: transparent;\n",
              "      border-left-color: var(--fill-color);\n",
              "      border-top-color: var(--fill-color);\n",
              "      border-right-color: var(--fill-color);\n",
              "    }\n",
              "    40% {\n",
              "      border-color: transparent;\n",
              "      border-right-color: var(--fill-color);\n",
              "      border-top-color: var(--fill-color);\n",
              "    }\n",
              "    60% {\n",
              "      border-color: transparent;\n",
              "      border-right-color: var(--fill-color);\n",
              "    }\n",
              "    80% {\n",
              "      border-color: transparent;\n",
              "      border-right-color: var(--fill-color);\n",
              "      border-bottom-color: var(--fill-color);\n",
              "    }\n",
              "    90% {\n",
              "      border-color: transparent;\n",
              "      border-bottom-color: var(--fill-color);\n",
              "    }\n",
              "  }\n",
              "</style>\n",
              "\n",
              "  <script>\n",
              "    async function quickchart(key) {\n",
              "      const quickchartButtonEl =\n",
              "        document.querySelector('#' + key + ' button');\n",
              "      quickchartButtonEl.disabled = true;  // To prevent multiple clicks.\n",
              "      quickchartButtonEl.classList.add('colab-df-spinner');\n",
              "      try {\n",
              "        const charts = await google.colab.kernel.invokeFunction(\n",
              "            'suggestCharts', [key], {});\n",
              "      } catch (error) {\n",
              "        console.error('Error during call to suggestCharts:', error);\n",
              "      }\n",
              "      quickchartButtonEl.classList.remove('colab-df-spinner');\n",
              "      quickchartButtonEl.classList.add('colab-df-quickchart-complete');\n",
              "    }\n",
              "    (() => {\n",
              "      let quickchartButtonEl =\n",
              "        document.querySelector('#df-77022bad-bdb8-4825-a822-69811be9396e button');\n",
              "      quickchartButtonEl.style.display =\n",
              "        google.colab.kernel.accessAllowed ? 'block' : 'none';\n",
              "    })();\n",
              "  </script>\n",
              "</div>\n",
              "\n",
              "  <div id=\"id_87052412-cb7d-4242-9c7a-d05307460d63\">\n",
              "    <style>\n",
              "      .colab-df-generate {\n",
              "        background-color: #E8F0FE;\n",
              "        border: none;\n",
              "        border-radius: 50%;\n",
              "        cursor: pointer;\n",
              "        display: none;\n",
              "        fill: #1967D2;\n",
              "        height: 32px;\n",
              "        padding: 0 0 0 0;\n",
              "        width: 32px;\n",
              "      }\n",
              "\n",
              "      .colab-df-generate:hover {\n",
              "        background-color: #E2EBFA;\n",
              "        box-shadow: 0px 1px 2px rgba(60, 64, 67, 0.3), 0px 1px 3px 1px rgba(60, 64, 67, 0.15);\n",
              "        fill: #174EA6;\n",
              "      }\n",
              "\n",
              "      [theme=dark] .colab-df-generate {\n",
              "        background-color: #3B4455;\n",
              "        fill: #D2E3FC;\n",
              "      }\n",
              "\n",
              "      [theme=dark] .colab-df-generate:hover {\n",
              "        background-color: #434B5C;\n",
              "        box-shadow: 0px 1px 3px 1px rgba(0, 0, 0, 0.15);\n",
              "        filter: drop-shadow(0px 1px 2px rgba(0, 0, 0, 0.3));\n",
              "        fill: #FFFFFF;\n",
              "      }\n",
              "    </style>\n",
              "    <button class=\"colab-df-generate\" onclick=\"generateWithVariable('D1')\"\n",
              "            title=\"Generate code using this dataframe.\"\n",
              "            style=\"display:none;\">\n",
              "\n",
              "  <svg xmlns=\"http://www.w3.org/2000/svg\" height=\"24px\"viewBox=\"0 0 24 24\"\n",
              "       width=\"24px\">\n",
              "    <path d=\"M7,19H8.4L18.45,9,17,7.55,7,17.6ZM5,21V16.75L18.45,3.32a2,2,0,0,1,2.83,0l1.4,1.43a1.91,1.91,0,0,1,.58,1.4,1.91,1.91,0,0,1-.58,1.4L9.25,21ZM18.45,9,17,7.55Zm-12,3A5.31,5.31,0,0,0,4.9,8.1,5.31,5.31,0,0,0,1,6.5,5.31,5.31,0,0,0,4.9,4.9,5.31,5.31,0,0,0,6.5,1,5.31,5.31,0,0,0,8.1,4.9,5.31,5.31,0,0,0,12,6.5,5.46,5.46,0,0,0,6.5,12Z\"/>\n",
              "  </svg>\n",
              "    </button>\n",
              "    <script>\n",
              "      (() => {\n",
              "      const buttonEl =\n",
              "        document.querySelector('#id_87052412-cb7d-4242-9c7a-d05307460d63 button.colab-df-generate');\n",
              "      buttonEl.style.display =\n",
              "        google.colab.kernel.accessAllowed ? 'block' : 'none';\n",
              "\n",
              "      buttonEl.onclick = () => {\n",
              "        google.colab.notebook.generateWithVariable('D1');\n",
              "      }\n",
              "      })();\n",
              "    </script>\n",
              "  </div>\n",
              "\n",
              "    </div>\n",
              "  </div>\n"
            ],
            "text/plain": [
              "   Name  RollNo\n",
              "0  Amir       1\n",
              "1  Anil       2\n",
              "2  Ravi       3"
            ]
          },
          "execution_count": 13,
          "metadata": {},
          "output_type": "execute_result"
        }
      ],
      "source": [
        "import pandas as pd\n",
        "DF={\"Name\":[\"Amir\",\"Anil\",\"Ravi\"],\"RollNo\":[1,2,3]}\n",
        "D1=pd.DataFrame(DF)\n",
        "D1"
      ]
    },
    {
      "cell_type": "code",
      "execution_count": null,
      "metadata": {
        "colab": {
          "base_uri": "https://localhost:8080/",
          "height": 143
        },
        "id": "aBxhEhafgwPg",
        "outputId": "1cc23a5a-f686-469f-b2d9-3619f524b877"
      },
      "outputs": [
        {
          "data": {
            "text/html": [
              "\n",
              "  <div id=\"df-24b452fe-9bd6-4cab-98e3-90bb9618a3ad\" class=\"colab-df-container\">\n",
              "    <div>\n",
              "<style scoped>\n",
              "    .dataframe tbody tr th:only-of-type {\n",
              "        vertical-align: middle;\n",
              "    }\n",
              "\n",
              "    .dataframe tbody tr th {\n",
              "        vertical-align: top;\n",
              "    }\n",
              "\n",
              "    .dataframe thead th {\n",
              "        text-align: right;\n",
              "    }\n",
              "</style>\n",
              "<table border=\"1\" class=\"dataframe\">\n",
              "  <thead>\n",
              "    <tr style=\"text-align: right;\">\n",
              "      <th></th>\n",
              "      <th>a</th>\n",
              "      <th>b</th>\n",
              "      <th>c</th>\n",
              "      <th>d</th>\n",
              "      <th>e</th>\n",
              "    </tr>\n",
              "  </thead>\n",
              "  <tbody>\n",
              "    <tr>\n",
              "      <th>0</th>\n",
              "      <td>10</td>\n",
              "      <td>20.0</td>\n",
              "      <td>NaN</td>\n",
              "      <td>NaN</td>\n",
              "      <td>NaN</td>\n",
              "    </tr>\n",
              "    <tr>\n",
              "      <th>1</th>\n",
              "      <td>5</td>\n",
              "      <td>10.0</td>\n",
              "      <td>20.0</td>\n",
              "      <td>NaN</td>\n",
              "      <td>NaN</td>\n",
              "    </tr>\n",
              "    <tr>\n",
              "      <th>2</th>\n",
              "      <td>7</td>\n",
              "      <td>NaN</td>\n",
              "      <td>NaN</td>\n",
              "      <td>10.0</td>\n",
              "      <td>20.0</td>\n",
              "    </tr>\n",
              "  </tbody>\n",
              "</table>\n",
              "</div>\n",
              "    <div class=\"colab-df-buttons\">\n",
              "\n",
              "  <div class=\"colab-df-container\">\n",
              "    <button class=\"colab-df-convert\" onclick=\"convertToInteractive('df-24b452fe-9bd6-4cab-98e3-90bb9618a3ad')\"\n",
              "            title=\"Convert this dataframe to an interactive table.\"\n",
              "            style=\"display:none;\">\n",
              "\n",
              "  <svg xmlns=\"http://www.w3.org/2000/svg\" height=\"24px\" viewBox=\"0 -960 960 960\">\n",
              "    <path d=\"M120-120v-720h720v720H120Zm60-500h600v-160H180v160Zm220 220h160v-160H400v160Zm0 220h160v-160H400v160ZM180-400h160v-160H180v160Zm440 0h160v-160H620v160ZM180-180h160v-160H180v160Zm440 0h160v-160H620v160Z\"/>\n",
              "  </svg>\n",
              "    </button>\n",
              "\n",
              "  <style>\n",
              "    .colab-df-container {\n",
              "      display:flex;\n",
              "      gap: 12px;\n",
              "    }\n",
              "\n",
              "    .colab-df-convert {\n",
              "      background-color: #E8F0FE;\n",
              "      border: none;\n",
              "      border-radius: 50%;\n",
              "      cursor: pointer;\n",
              "      display: none;\n",
              "      fill: #1967D2;\n",
              "      height: 32px;\n",
              "      padding: 0 0 0 0;\n",
              "      width: 32px;\n",
              "    }\n",
              "\n",
              "    .colab-df-convert:hover {\n",
              "      background-color: #E2EBFA;\n",
              "      box-shadow: 0px 1px 2px rgba(60, 64, 67, 0.3), 0px 1px 3px 1px rgba(60, 64, 67, 0.15);\n",
              "      fill: #174EA6;\n",
              "    }\n",
              "\n",
              "    .colab-df-buttons div {\n",
              "      margin-bottom: 4px;\n",
              "    }\n",
              "\n",
              "    [theme=dark] .colab-df-convert {\n",
              "      background-color: #3B4455;\n",
              "      fill: #D2E3FC;\n",
              "    }\n",
              "\n",
              "    [theme=dark] .colab-df-convert:hover {\n",
              "      background-color: #434B5C;\n",
              "      box-shadow: 0px 1px 3px 1px rgba(0, 0, 0, 0.15);\n",
              "      filter: drop-shadow(0px 1px 2px rgba(0, 0, 0, 0.3));\n",
              "      fill: #FFFFFF;\n",
              "    }\n",
              "  </style>\n",
              "\n",
              "    <script>\n",
              "      const buttonEl =\n",
              "        document.querySelector('#df-24b452fe-9bd6-4cab-98e3-90bb9618a3ad button.colab-df-convert');\n",
              "      buttonEl.style.display =\n",
              "        google.colab.kernel.accessAllowed ? 'block' : 'none';\n",
              "\n",
              "      async function convertToInteractive(key) {\n",
              "        const element = document.querySelector('#df-24b452fe-9bd6-4cab-98e3-90bb9618a3ad');\n",
              "        const dataTable =\n",
              "          await google.colab.kernel.invokeFunction('convertToInteractive',\n",
              "                                                    [key], {});\n",
              "        if (!dataTable) return;\n",
              "\n",
              "        const docLinkHtml = 'Like what you see? Visit the ' +\n",
              "          '<a target=\"_blank\" href=https://colab.research.google.com/notebooks/data_table.ipynb>data table notebook</a>'\n",
              "          + ' to learn more about interactive tables.';\n",
              "        element.innerHTML = '';\n",
              "        dataTable['output_type'] = 'display_data';\n",
              "        await google.colab.output.renderOutput(dataTable, element);\n",
              "        const docLink = document.createElement('div');\n",
              "        docLink.innerHTML = docLinkHtml;\n",
              "        element.appendChild(docLink);\n",
              "      }\n",
              "    </script>\n",
              "  </div>\n",
              "\n",
              "\n",
              "<div id=\"df-95bf835e-4517-462b-961b-514e20bd3b74\">\n",
              "  <button class=\"colab-df-quickchart\" onclick=\"quickchart('df-95bf835e-4517-462b-961b-514e20bd3b74')\"\n",
              "            title=\"Suggest charts\"\n",
              "            style=\"display:none;\">\n",
              "\n",
              "<svg xmlns=\"http://www.w3.org/2000/svg\" height=\"24px\"viewBox=\"0 0 24 24\"\n",
              "     width=\"24px\">\n",
              "    <g>\n",
              "        <path d=\"M19 3H5c-1.1 0-2 .9-2 2v14c0 1.1.9 2 2 2h14c1.1 0 2-.9 2-2V5c0-1.1-.9-2-2-2zM9 17H7v-7h2v7zm4 0h-2V7h2v10zm4 0h-2v-4h2v4z\"/>\n",
              "    </g>\n",
              "</svg>\n",
              "  </button>\n",
              "\n",
              "<style>\n",
              "  .colab-df-quickchart {\n",
              "      --bg-color: #E8F0FE;\n",
              "      --fill-color: #1967D2;\n",
              "      --hover-bg-color: #E2EBFA;\n",
              "      --hover-fill-color: #174EA6;\n",
              "      --disabled-fill-color: #AAA;\n",
              "      --disabled-bg-color: #DDD;\n",
              "  }\n",
              "\n",
              "  [theme=dark] .colab-df-quickchart {\n",
              "      --bg-color: #3B4455;\n",
              "      --fill-color: #D2E3FC;\n",
              "      --hover-bg-color: #434B5C;\n",
              "      --hover-fill-color: #FFFFFF;\n",
              "      --disabled-bg-color: #3B4455;\n",
              "      --disabled-fill-color: #666;\n",
              "  }\n",
              "\n",
              "  .colab-df-quickchart {\n",
              "    background-color: var(--bg-color);\n",
              "    border: none;\n",
              "    border-radius: 50%;\n",
              "    cursor: pointer;\n",
              "    display: none;\n",
              "    fill: var(--fill-color);\n",
              "    height: 32px;\n",
              "    padding: 0;\n",
              "    width: 32px;\n",
              "  }\n",
              "\n",
              "  .colab-df-quickchart:hover {\n",
              "    background-color: var(--hover-bg-color);\n",
              "    box-shadow: 0 1px 2px rgba(60, 64, 67, 0.3), 0 1px 3px 1px rgba(60, 64, 67, 0.15);\n",
              "    fill: var(--button-hover-fill-color);\n",
              "  }\n",
              "\n",
              "  .colab-df-quickchart-complete:disabled,\n",
              "  .colab-df-quickchart-complete:disabled:hover {\n",
              "    background-color: var(--disabled-bg-color);\n",
              "    fill: var(--disabled-fill-color);\n",
              "    box-shadow: none;\n",
              "  }\n",
              "\n",
              "  .colab-df-spinner {\n",
              "    border: 2px solid var(--fill-color);\n",
              "    border-color: transparent;\n",
              "    border-bottom-color: var(--fill-color);\n",
              "    animation:\n",
              "      spin 1s steps(1) infinite;\n",
              "  }\n",
              "\n",
              "  @keyframes spin {\n",
              "    0% {\n",
              "      border-color: transparent;\n",
              "      border-bottom-color: var(--fill-color);\n",
              "      border-left-color: var(--fill-color);\n",
              "    }\n",
              "    20% {\n",
              "      border-color: transparent;\n",
              "      border-left-color: var(--fill-color);\n",
              "      border-top-color: var(--fill-color);\n",
              "    }\n",
              "    30% {\n",
              "      border-color: transparent;\n",
              "      border-left-color: var(--fill-color);\n",
              "      border-top-color: var(--fill-color);\n",
              "      border-right-color: var(--fill-color);\n",
              "    }\n",
              "    40% {\n",
              "      border-color: transparent;\n",
              "      border-right-color: var(--fill-color);\n",
              "      border-top-color: var(--fill-color);\n",
              "    }\n",
              "    60% {\n",
              "      border-color: transparent;\n",
              "      border-right-color: var(--fill-color);\n",
              "    }\n",
              "    80% {\n",
              "      border-color: transparent;\n",
              "      border-right-color: var(--fill-color);\n",
              "      border-bottom-color: var(--fill-color);\n",
              "    }\n",
              "    90% {\n",
              "      border-color: transparent;\n",
              "      border-bottom-color: var(--fill-color);\n",
              "    }\n",
              "  }\n",
              "</style>\n",
              "\n",
              "  <script>\n",
              "    async function quickchart(key) {\n",
              "      const quickchartButtonEl =\n",
              "        document.querySelector('#' + key + ' button');\n",
              "      quickchartButtonEl.disabled = true;  // To prevent multiple clicks.\n",
              "      quickchartButtonEl.classList.add('colab-df-spinner');\n",
              "      try {\n",
              "        const charts = await google.colab.kernel.invokeFunction(\n",
              "            'suggestCharts', [key], {});\n",
              "      } catch (error) {\n",
              "        console.error('Error during call to suggestCharts:', error);\n",
              "      }\n",
              "      quickchartButtonEl.classList.remove('colab-df-spinner');\n",
              "      quickchartButtonEl.classList.add('colab-df-quickchart-complete');\n",
              "    }\n",
              "    (() => {\n",
              "      let quickchartButtonEl =\n",
              "        document.querySelector('#df-95bf835e-4517-462b-961b-514e20bd3b74 button');\n",
              "      quickchartButtonEl.style.display =\n",
              "        google.colab.kernel.accessAllowed ? 'block' : 'none';\n",
              "    })();\n",
              "  </script>\n",
              "</div>\n",
              "\n",
              "  <div id=\"id_0da953b0-5f8d-4836-9d83-4afca7ab9df8\">\n",
              "    <style>\n",
              "      .colab-df-generate {\n",
              "        background-color: #E8F0FE;\n",
              "        border: none;\n",
              "        border-radius: 50%;\n",
              "        cursor: pointer;\n",
              "        display: none;\n",
              "        fill: #1967D2;\n",
              "        height: 32px;\n",
              "        padding: 0 0 0 0;\n",
              "        width: 32px;\n",
              "      }\n",
              "\n",
              "      .colab-df-generate:hover {\n",
              "        background-color: #E2EBFA;\n",
              "        box-shadow: 0px 1px 2px rgba(60, 64, 67, 0.3), 0px 1px 3px 1px rgba(60, 64, 67, 0.15);\n",
              "        fill: #174EA6;\n",
              "      }\n",
              "\n",
              "      [theme=dark] .colab-df-generate {\n",
              "        background-color: #3B4455;\n",
              "        fill: #D2E3FC;\n",
              "      }\n",
              "\n",
              "      [theme=dark] .colab-df-generate:hover {\n",
              "        background-color: #434B5C;\n",
              "        box-shadow: 0px 1px 3px 1px rgba(0, 0, 0, 0.15);\n",
              "        filter: drop-shadow(0px 1px 2px rgba(0, 0, 0, 0.3));\n",
              "        fill: #FFFFFF;\n",
              "      }\n",
              "    </style>\n",
              "    <button class=\"colab-df-generate\" onclick=\"generateWithVariable('D1')\"\n",
              "            title=\"Generate code using this dataframe.\"\n",
              "            style=\"display:none;\">\n",
              "\n",
              "  <svg xmlns=\"http://www.w3.org/2000/svg\" height=\"24px\"viewBox=\"0 0 24 24\"\n",
              "       width=\"24px\">\n",
              "    <path d=\"M7,19H8.4L18.45,9,17,7.55,7,17.6ZM5,21V16.75L18.45,3.32a2,2,0,0,1,2.83,0l1.4,1.43a1.91,1.91,0,0,1,.58,1.4,1.91,1.91,0,0,1-.58,1.4L9.25,21ZM18.45,9,17,7.55Zm-12,3A5.31,5.31,0,0,0,4.9,8.1,5.31,5.31,0,0,0,1,6.5,5.31,5.31,0,0,0,4.9,4.9,5.31,5.31,0,0,0,6.5,1,5.31,5.31,0,0,0,8.1,4.9,5.31,5.31,0,0,0,12,6.5,5.46,5.46,0,0,0,6.5,12Z\"/>\n",
              "  </svg>\n",
              "    </button>\n",
              "    <script>\n",
              "      (() => {\n",
              "      const buttonEl =\n",
              "        document.querySelector('#id_0da953b0-5f8d-4836-9d83-4afca7ab9df8 button.colab-df-generate');\n",
              "      buttonEl.style.display =\n",
              "        google.colab.kernel.accessAllowed ? 'block' : 'none';\n",
              "\n",
              "      buttonEl.onclick = () => {\n",
              "        google.colab.notebook.generateWithVariable('D1');\n",
              "      }\n",
              "      })();\n",
              "    </script>\n",
              "  </div>\n",
              "\n",
              "    </div>\n",
              "  </div>\n"
            ],
            "text/plain": [
              "    a     b     c     d     e\n",
              "0  10  20.0   NaN   NaN   NaN\n",
              "1   5  10.0  20.0   NaN   NaN\n",
              "2   7   NaN   NaN  10.0  20.0"
            ]
          },
          "execution_count": 14,
          "metadata": {},
          "output_type": "execute_result"
        }
      ],
      "source": [
        "import pandas as pd\n",
        "DF=[{'a':10,'b':20},{'a':5,'b':10,'c':20},{'a':7,'d':10,'e':20}]\n",
        "D1=pd.DataFrame(DF)\n",
        "D1"
      ]
    },
    {
      "cell_type": "code",
      "execution_count": null,
      "metadata": {
        "colab": {
          "base_uri": "https://localhost:8080/",
          "height": 125
        },
        "id": "dOLk0aAILBU7",
        "outputId": "196067c3-f635-4e42-d346-a0cea3d22f8d"
      },
      "outputs": [
        {
          "data": {
            "text/html": [
              "\n",
              "  <div id=\"df-57ebc42d-7fcc-472a-a54d-d3858ae0bbcc\" class=\"colab-df-container\">\n",
              "    <div>\n",
              "<style scoped>\n",
              "    .dataframe tbody tr th:only-of-type {\n",
              "        vertical-align: middle;\n",
              "    }\n",
              "\n",
              "    .dataframe tbody tr th {\n",
              "        vertical-align: top;\n",
              "    }\n",
              "\n",
              "    .dataframe thead th {\n",
              "        text-align: right;\n",
              "    }\n",
              "</style>\n",
              "<table border=\"1\" class=\"dataframe\">\n",
              "  <thead>\n",
              "    <tr style=\"text-align: right;\">\n",
              "      <th></th>\n",
              "      <th>a</th>\n",
              "      <th>b</th>\n",
              "      <th>c</th>\n",
              "    </tr>\n",
              "  </thead>\n",
              "  <tbody>\n",
              "    <tr>\n",
              "      <th>0</th>\n",
              "      <td>10</td>\n",
              "      <td>20</td>\n",
              "      <td>NaN</td>\n",
              "    </tr>\n",
              "    <tr>\n",
              "      <th>1</th>\n",
              "      <td>5</td>\n",
              "      <td>10</td>\n",
              "      <td>20.0</td>\n",
              "    </tr>\n",
              "  </tbody>\n",
              "</table>\n",
              "</div>\n",
              "    <div class=\"colab-df-buttons\">\n",
              "\n",
              "  <div class=\"colab-df-container\">\n",
              "    <button class=\"colab-df-convert\" onclick=\"convertToInteractive('df-57ebc42d-7fcc-472a-a54d-d3858ae0bbcc')\"\n",
              "            title=\"Convert this dataframe to an interactive table.\"\n",
              "            style=\"display:none;\">\n",
              "\n",
              "  <svg xmlns=\"http://www.w3.org/2000/svg\" height=\"24px\" viewBox=\"0 -960 960 960\">\n",
              "    <path d=\"M120-120v-720h720v720H120Zm60-500h600v-160H180v160Zm220 220h160v-160H400v160Zm0 220h160v-160H400v160ZM180-400h160v-160H180v160Zm440 0h160v-160H620v160ZM180-180h160v-160H180v160Zm440 0h160v-160H620v160Z\"/>\n",
              "  </svg>\n",
              "    </button>\n",
              "\n",
              "  <style>\n",
              "    .colab-df-container {\n",
              "      display:flex;\n",
              "      gap: 12px;\n",
              "    }\n",
              "\n",
              "    .colab-df-convert {\n",
              "      background-color: #E8F0FE;\n",
              "      border: none;\n",
              "      border-radius: 50%;\n",
              "      cursor: pointer;\n",
              "      display: none;\n",
              "      fill: #1967D2;\n",
              "      height: 32px;\n",
              "      padding: 0 0 0 0;\n",
              "      width: 32px;\n",
              "    }\n",
              "\n",
              "    .colab-df-convert:hover {\n",
              "      background-color: #E2EBFA;\n",
              "      box-shadow: 0px 1px 2px rgba(60, 64, 67, 0.3), 0px 1px 3px 1px rgba(60, 64, 67, 0.15);\n",
              "      fill: #174EA6;\n",
              "    }\n",
              "\n",
              "    .colab-df-buttons div {\n",
              "      margin-bottom: 4px;\n",
              "    }\n",
              "\n",
              "    [theme=dark] .colab-df-convert {\n",
              "      background-color: #3B4455;\n",
              "      fill: #D2E3FC;\n",
              "    }\n",
              "\n",
              "    [theme=dark] .colab-df-convert:hover {\n",
              "      background-color: #434B5C;\n",
              "      box-shadow: 0px 1px 3px 1px rgba(0, 0, 0, 0.15);\n",
              "      filter: drop-shadow(0px 1px 2px rgba(0, 0, 0, 0.3));\n",
              "      fill: #FFFFFF;\n",
              "    }\n",
              "  </style>\n",
              "\n",
              "    <script>\n",
              "      const buttonEl =\n",
              "        document.querySelector('#df-57ebc42d-7fcc-472a-a54d-d3858ae0bbcc button.colab-df-convert');\n",
              "      buttonEl.style.display =\n",
              "        google.colab.kernel.accessAllowed ? 'block' : 'none';\n",
              "\n",
              "      async function convertToInteractive(key) {\n",
              "        const element = document.querySelector('#df-57ebc42d-7fcc-472a-a54d-d3858ae0bbcc');\n",
              "        const dataTable =\n",
              "          await google.colab.kernel.invokeFunction('convertToInteractive',\n",
              "                                                    [key], {});\n",
              "        if (!dataTable) return;\n",
              "\n",
              "        const docLinkHtml = 'Like what you see? Visit the ' +\n",
              "          '<a target=\"_blank\" href=https://colab.research.google.com/notebooks/data_table.ipynb>data table notebook</a>'\n",
              "          + ' to learn more about interactive tables.';\n",
              "        element.innerHTML = '';\n",
              "        dataTable['output_type'] = 'display_data';\n",
              "        await google.colab.output.renderOutput(dataTable, element);\n",
              "        const docLink = document.createElement('div');\n",
              "        docLink.innerHTML = docLinkHtml;\n",
              "        element.appendChild(docLink);\n",
              "      }\n",
              "    </script>\n",
              "  </div>\n",
              "\n",
              "\n",
              "<div id=\"df-856a7e0f-8895-4ab9-84c4-d84f4a8a96e3\">\n",
              "  <button class=\"colab-df-quickchart\" onclick=\"quickchart('df-856a7e0f-8895-4ab9-84c4-d84f4a8a96e3')\"\n",
              "            title=\"Suggest charts\"\n",
              "            style=\"display:none;\">\n",
              "\n",
              "<svg xmlns=\"http://www.w3.org/2000/svg\" height=\"24px\"viewBox=\"0 0 24 24\"\n",
              "     width=\"24px\">\n",
              "    <g>\n",
              "        <path d=\"M19 3H5c-1.1 0-2 .9-2 2v14c0 1.1.9 2 2 2h14c1.1 0 2-.9 2-2V5c0-1.1-.9-2-2-2zM9 17H7v-7h2v7zm4 0h-2V7h2v10zm4 0h-2v-4h2v4z\"/>\n",
              "    </g>\n",
              "</svg>\n",
              "  </button>\n",
              "\n",
              "<style>\n",
              "  .colab-df-quickchart {\n",
              "      --bg-color: #E8F0FE;\n",
              "      --fill-color: #1967D2;\n",
              "      --hover-bg-color: #E2EBFA;\n",
              "      --hover-fill-color: #174EA6;\n",
              "      --disabled-fill-color: #AAA;\n",
              "      --disabled-bg-color: #DDD;\n",
              "  }\n",
              "\n",
              "  [theme=dark] .colab-df-quickchart {\n",
              "      --bg-color: #3B4455;\n",
              "      --fill-color: #D2E3FC;\n",
              "      --hover-bg-color: #434B5C;\n",
              "      --hover-fill-color: #FFFFFF;\n",
              "      --disabled-bg-color: #3B4455;\n",
              "      --disabled-fill-color: #666;\n",
              "  }\n",
              "\n",
              "  .colab-df-quickchart {\n",
              "    background-color: var(--bg-color);\n",
              "    border: none;\n",
              "    border-radius: 50%;\n",
              "    cursor: pointer;\n",
              "    display: none;\n",
              "    fill: var(--fill-color);\n",
              "    height: 32px;\n",
              "    padding: 0;\n",
              "    width: 32px;\n",
              "  }\n",
              "\n",
              "  .colab-df-quickchart:hover {\n",
              "    background-color: var(--hover-bg-color);\n",
              "    box-shadow: 0 1px 2px rgba(60, 64, 67, 0.3), 0 1px 3px 1px rgba(60, 64, 67, 0.15);\n",
              "    fill: var(--button-hover-fill-color);\n",
              "  }\n",
              "\n",
              "  .colab-df-quickchart-complete:disabled,\n",
              "  .colab-df-quickchart-complete:disabled:hover {\n",
              "    background-color: var(--disabled-bg-color);\n",
              "    fill: var(--disabled-fill-color);\n",
              "    box-shadow: none;\n",
              "  }\n",
              "\n",
              "  .colab-df-spinner {\n",
              "    border: 2px solid var(--fill-color);\n",
              "    border-color: transparent;\n",
              "    border-bottom-color: var(--fill-color);\n",
              "    animation:\n",
              "      spin 1s steps(1) infinite;\n",
              "  }\n",
              "\n",
              "  @keyframes spin {\n",
              "    0% {\n",
              "      border-color: transparent;\n",
              "      border-bottom-color: var(--fill-color);\n",
              "      border-left-color: var(--fill-color);\n",
              "    }\n",
              "    20% {\n",
              "      border-color: transparent;\n",
              "      border-left-color: var(--fill-color);\n",
              "      border-top-color: var(--fill-color);\n",
              "    }\n",
              "    30% {\n",
              "      border-color: transparent;\n",
              "      border-left-color: var(--fill-color);\n",
              "      border-top-color: var(--fill-color);\n",
              "      border-right-color: var(--fill-color);\n",
              "    }\n",
              "    40% {\n",
              "      border-color: transparent;\n",
              "      border-right-color: var(--fill-color);\n",
              "      border-top-color: var(--fill-color);\n",
              "    }\n",
              "    60% {\n",
              "      border-color: transparent;\n",
              "      border-right-color: var(--fill-color);\n",
              "    }\n",
              "    80% {\n",
              "      border-color: transparent;\n",
              "      border-right-color: var(--fill-color);\n",
              "      border-bottom-color: var(--fill-color);\n",
              "    }\n",
              "    90% {\n",
              "      border-color: transparent;\n",
              "      border-bottom-color: var(--fill-color);\n",
              "    }\n",
              "  }\n",
              "</style>\n",
              "\n",
              "  <script>\n",
              "    async function quickchart(key) {\n",
              "      const quickchartButtonEl =\n",
              "        document.querySelector('#' + key + ' button');\n",
              "      quickchartButtonEl.disabled = true;  // To prevent multiple clicks.\n",
              "      quickchartButtonEl.classList.add('colab-df-spinner');\n",
              "      try {\n",
              "        const charts = await google.colab.kernel.invokeFunction(\n",
              "            'suggestCharts', [key], {});\n",
              "      } catch (error) {\n",
              "        console.error('Error during call to suggestCharts:', error);\n",
              "      }\n",
              "      quickchartButtonEl.classList.remove('colab-df-spinner');\n",
              "      quickchartButtonEl.classList.add('colab-df-quickchart-complete');\n",
              "    }\n",
              "    (() => {\n",
              "      let quickchartButtonEl =\n",
              "        document.querySelector('#df-856a7e0f-8895-4ab9-84c4-d84f4a8a96e3 button');\n",
              "      quickchartButtonEl.style.display =\n",
              "        google.colab.kernel.accessAllowed ? 'block' : 'none';\n",
              "    })();\n",
              "  </script>\n",
              "</div>\n",
              "\n",
              "  <div id=\"id_feb7c946-367e-485a-a880-1bd284bc6490\">\n",
              "    <style>\n",
              "      .colab-df-generate {\n",
              "        background-color: #E8F0FE;\n",
              "        border: none;\n",
              "        border-radius: 50%;\n",
              "        cursor: pointer;\n",
              "        display: none;\n",
              "        fill: #1967D2;\n",
              "        height: 32px;\n",
              "        padding: 0 0 0 0;\n",
              "        width: 32px;\n",
              "      }\n",
              "\n",
              "      .colab-df-generate:hover {\n",
              "        background-color: #E2EBFA;\n",
              "        box-shadow: 0px 1px 2px rgba(60, 64, 67, 0.3), 0px 1px 3px 1px rgba(60, 64, 67, 0.15);\n",
              "        fill: #174EA6;\n",
              "      }\n",
              "\n",
              "      [theme=dark] .colab-df-generate {\n",
              "        background-color: #3B4455;\n",
              "        fill: #D2E3FC;\n",
              "      }\n",
              "\n",
              "      [theme=dark] .colab-df-generate:hover {\n",
              "        background-color: #434B5C;\n",
              "        box-shadow: 0px 1px 3px 1px rgba(0, 0, 0, 0.15);\n",
              "        filter: drop-shadow(0px 1px 2px rgba(0, 0, 0, 0.3));\n",
              "        fill: #FFFFFF;\n",
              "      }\n",
              "    </style>\n",
              "    <button class=\"colab-df-generate\" onclick=\"generateWithVariable('D1')\"\n",
              "            title=\"Generate code using this dataframe.\"\n",
              "            style=\"display:none;\">\n",
              "\n",
              "  <svg xmlns=\"http://www.w3.org/2000/svg\" height=\"24px\"viewBox=\"0 0 24 24\"\n",
              "       width=\"24px\">\n",
              "    <path d=\"M7,19H8.4L18.45,9,17,7.55,7,17.6ZM5,21V16.75L18.45,3.32a2,2,0,0,1,2.83,0l1.4,1.43a1.91,1.91,0,0,1,.58,1.4,1.91,1.91,0,0,1-.58,1.4L9.25,21ZM18.45,9,17,7.55Zm-12,3A5.31,5.31,0,0,0,4.9,8.1,5.31,5.31,0,0,0,1,6.5,5.31,5.31,0,0,0,4.9,4.9,5.31,5.31,0,0,0,6.5,1,5.31,5.31,0,0,0,8.1,4.9,5.31,5.31,0,0,0,12,6.5,5.46,5.46,0,0,0,6.5,12Z\"/>\n",
              "  </svg>\n",
              "    </button>\n",
              "    <script>\n",
              "      (() => {\n",
              "      const buttonEl =\n",
              "        document.querySelector('#id_feb7c946-367e-485a-a880-1bd284bc6490 button.colab-df-generate');\n",
              "      buttonEl.style.display =\n",
              "        google.colab.kernel.accessAllowed ? 'block' : 'none';\n",
              "\n",
              "      buttonEl.onclick = () => {\n",
              "        google.colab.notebook.generateWithVariable('D1');\n",
              "      }\n",
              "      })();\n",
              "    </script>\n",
              "  </div>\n",
              "\n",
              "    </div>\n",
              "  </div>\n"
            ],
            "text/plain": [
              "    a   b     c\n",
              "0  10  20   NaN\n",
              "1   5  10  20.0"
            ]
          },
          "execution_count": 15,
          "metadata": {},
          "output_type": "execute_result"
        }
      ],
      "source": [
        "import pandas as pd\n",
        "DF=[{'a':10,'b':20},{'a':5,'b':10,'c':20}]\n",
        "D1=pd.DataFrame(DF)\n",
        "D1"
      ]
    },
    {
      "cell_type": "code",
      "execution_count": null,
      "metadata": {
        "colab": {
          "base_uri": "https://localhost:8080/",
          "height": 175
        },
        "id": "6XdZYP4lhj-2",
        "outputId": "28b8f309-c7c2-4cc9-b241-c8c6ba960228"
      },
      "outputs": [
        {
          "data": {
            "text/html": [
              "\n",
              "  <div id=\"df-6b67abb0-017d-4bb4-a951-b1ee3cc6acec\" class=\"colab-df-container\">\n",
              "    <div>\n",
              "<style scoped>\n",
              "    .dataframe tbody tr th:only-of-type {\n",
              "        vertical-align: middle;\n",
              "    }\n",
              "\n",
              "    .dataframe tbody tr th {\n",
              "        vertical-align: top;\n",
              "    }\n",
              "\n",
              "    .dataframe thead th {\n",
              "        text-align: right;\n",
              "    }\n",
              "</style>\n",
              "<table border=\"1\" class=\"dataframe\">\n",
              "  <thead>\n",
              "    <tr style=\"text-align: right;\">\n",
              "      <th></th>\n",
              "      <th>0</th>\n",
              "    </tr>\n",
              "  </thead>\n",
              "  <tbody>\n",
              "    <tr>\n",
              "      <th>A</th>\n",
              "      <td>Newdelhi</td>\n",
              "    </tr>\n",
              "    <tr>\n",
              "      <th>B</th>\n",
              "      <td>ND</td>\n",
              "    </tr>\n",
              "    <tr>\n",
              "      <th>C</th>\n",
              "      <td>ND</td>\n",
              "    </tr>\n",
              "    <tr>\n",
              "      <th>D</th>\n",
              "      <td>Paries</td>\n",
              "    </tr>\n",
              "  </tbody>\n",
              "</table>\n",
              "</div>\n",
              "    <div class=\"colab-df-buttons\">\n",
              "\n",
              "  <div class=\"colab-df-container\">\n",
              "    <button class=\"colab-df-convert\" onclick=\"convertToInteractive('df-6b67abb0-017d-4bb4-a951-b1ee3cc6acec')\"\n",
              "            title=\"Convert this dataframe to an interactive table.\"\n",
              "            style=\"display:none;\">\n",
              "\n",
              "  <svg xmlns=\"http://www.w3.org/2000/svg\" height=\"24px\" viewBox=\"0 -960 960 960\">\n",
              "    <path d=\"M120-120v-720h720v720H120Zm60-500h600v-160H180v160Zm220 220h160v-160H400v160Zm0 220h160v-160H400v160ZM180-400h160v-160H180v160Zm440 0h160v-160H620v160ZM180-180h160v-160H180v160Zm440 0h160v-160H620v160Z\"/>\n",
              "  </svg>\n",
              "    </button>\n",
              "\n",
              "  <style>\n",
              "    .colab-df-container {\n",
              "      display:flex;\n",
              "      gap: 12px;\n",
              "    }\n",
              "\n",
              "    .colab-df-convert {\n",
              "      background-color: #E8F0FE;\n",
              "      border: none;\n",
              "      border-radius: 50%;\n",
              "      cursor: pointer;\n",
              "      display: none;\n",
              "      fill: #1967D2;\n",
              "      height: 32px;\n",
              "      padding: 0 0 0 0;\n",
              "      width: 32px;\n",
              "    }\n",
              "\n",
              "    .colab-df-convert:hover {\n",
              "      background-color: #E2EBFA;\n",
              "      box-shadow: 0px 1px 2px rgba(60, 64, 67, 0.3), 0px 1px 3px 1px rgba(60, 64, 67, 0.15);\n",
              "      fill: #174EA6;\n",
              "    }\n",
              "\n",
              "    .colab-df-buttons div {\n",
              "      margin-bottom: 4px;\n",
              "    }\n",
              "\n",
              "    [theme=dark] .colab-df-convert {\n",
              "      background-color: #3B4455;\n",
              "      fill: #D2E3FC;\n",
              "    }\n",
              "\n",
              "    [theme=dark] .colab-df-convert:hover {\n",
              "      background-color: #434B5C;\n",
              "      box-shadow: 0px 1px 3px 1px rgba(0, 0, 0, 0.15);\n",
              "      filter: drop-shadow(0px 1px 2px rgba(0, 0, 0, 0.3));\n",
              "      fill: #FFFFFF;\n",
              "    }\n",
              "  </style>\n",
              "\n",
              "    <script>\n",
              "      const buttonEl =\n",
              "        document.querySelector('#df-6b67abb0-017d-4bb4-a951-b1ee3cc6acec button.colab-df-convert');\n",
              "      buttonEl.style.display =\n",
              "        google.colab.kernel.accessAllowed ? 'block' : 'none';\n",
              "\n",
              "      async function convertToInteractive(key) {\n",
              "        const element = document.querySelector('#df-6b67abb0-017d-4bb4-a951-b1ee3cc6acec');\n",
              "        const dataTable =\n",
              "          await google.colab.kernel.invokeFunction('convertToInteractive',\n",
              "                                                    [key], {});\n",
              "        if (!dataTable) return;\n",
              "\n",
              "        const docLinkHtml = 'Like what you see? Visit the ' +\n",
              "          '<a target=\"_blank\" href=https://colab.research.google.com/notebooks/data_table.ipynb>data table notebook</a>'\n",
              "          + ' to learn more about interactive tables.';\n",
              "        element.innerHTML = '';\n",
              "        dataTable['output_type'] = 'display_data';\n",
              "        await google.colab.output.renderOutput(dataTable, element);\n",
              "        const docLink = document.createElement('div');\n",
              "        docLink.innerHTML = docLinkHtml;\n",
              "        element.appendChild(docLink);\n",
              "      }\n",
              "    </script>\n",
              "  </div>\n",
              "\n",
              "\n",
              "<div id=\"df-a6f7c4aa-3bed-4188-b79b-077398f60433\">\n",
              "  <button class=\"colab-df-quickchart\" onclick=\"quickchart('df-a6f7c4aa-3bed-4188-b79b-077398f60433')\"\n",
              "            title=\"Suggest charts\"\n",
              "            style=\"display:none;\">\n",
              "\n",
              "<svg xmlns=\"http://www.w3.org/2000/svg\" height=\"24px\"viewBox=\"0 0 24 24\"\n",
              "     width=\"24px\">\n",
              "    <g>\n",
              "        <path d=\"M19 3H5c-1.1 0-2 .9-2 2v14c0 1.1.9 2 2 2h14c1.1 0 2-.9 2-2V5c0-1.1-.9-2-2-2zM9 17H7v-7h2v7zm4 0h-2V7h2v10zm4 0h-2v-4h2v4z\"/>\n",
              "    </g>\n",
              "</svg>\n",
              "  </button>\n",
              "\n",
              "<style>\n",
              "  .colab-df-quickchart {\n",
              "      --bg-color: #E8F0FE;\n",
              "      --fill-color: #1967D2;\n",
              "      --hover-bg-color: #E2EBFA;\n",
              "      --hover-fill-color: #174EA6;\n",
              "      --disabled-fill-color: #AAA;\n",
              "      --disabled-bg-color: #DDD;\n",
              "  }\n",
              "\n",
              "  [theme=dark] .colab-df-quickchart {\n",
              "      --bg-color: #3B4455;\n",
              "      --fill-color: #D2E3FC;\n",
              "      --hover-bg-color: #434B5C;\n",
              "      --hover-fill-color: #FFFFFF;\n",
              "      --disabled-bg-color: #3B4455;\n",
              "      --disabled-fill-color: #666;\n",
              "  }\n",
              "\n",
              "  .colab-df-quickchart {\n",
              "    background-color: var(--bg-color);\n",
              "    border: none;\n",
              "    border-radius: 50%;\n",
              "    cursor: pointer;\n",
              "    display: none;\n",
              "    fill: var(--fill-color);\n",
              "    height: 32px;\n",
              "    padding: 0;\n",
              "    width: 32px;\n",
              "  }\n",
              "\n",
              "  .colab-df-quickchart:hover {\n",
              "    background-color: var(--hover-bg-color);\n",
              "    box-shadow: 0 1px 2px rgba(60, 64, 67, 0.3), 0 1px 3px 1px rgba(60, 64, 67, 0.15);\n",
              "    fill: var(--button-hover-fill-color);\n",
              "  }\n",
              "\n",
              "  .colab-df-quickchart-complete:disabled,\n",
              "  .colab-df-quickchart-complete:disabled:hover {\n",
              "    background-color: var(--disabled-bg-color);\n",
              "    fill: var(--disabled-fill-color);\n",
              "    box-shadow: none;\n",
              "  }\n",
              "\n",
              "  .colab-df-spinner {\n",
              "    border: 2px solid var(--fill-color);\n",
              "    border-color: transparent;\n",
              "    border-bottom-color: var(--fill-color);\n",
              "    animation:\n",
              "      spin 1s steps(1) infinite;\n",
              "  }\n",
              "\n",
              "  @keyframes spin {\n",
              "    0% {\n",
              "      border-color: transparent;\n",
              "      border-bottom-color: var(--fill-color);\n",
              "      border-left-color: var(--fill-color);\n",
              "    }\n",
              "    20% {\n",
              "      border-color: transparent;\n",
              "      border-left-color: var(--fill-color);\n",
              "      border-top-color: var(--fill-color);\n",
              "    }\n",
              "    30% {\n",
              "      border-color: transparent;\n",
              "      border-left-color: var(--fill-color);\n",
              "      border-top-color: var(--fill-color);\n",
              "      border-right-color: var(--fill-color);\n",
              "    }\n",
              "    40% {\n",
              "      border-color: transparent;\n",
              "      border-right-color: var(--fill-color);\n",
              "      border-top-color: var(--fill-color);\n",
              "    }\n",
              "    60% {\n",
              "      border-color: transparent;\n",
              "      border-right-color: var(--fill-color);\n",
              "    }\n",
              "    80% {\n",
              "      border-color: transparent;\n",
              "      border-right-color: var(--fill-color);\n",
              "      border-bottom-color: var(--fill-color);\n",
              "    }\n",
              "    90% {\n",
              "      border-color: transparent;\n",
              "      border-bottom-color: var(--fill-color);\n",
              "    }\n",
              "  }\n",
              "</style>\n",
              "\n",
              "  <script>\n",
              "    async function quickchart(key) {\n",
              "      const quickchartButtonEl =\n",
              "        document.querySelector('#' + key + ' button');\n",
              "      quickchartButtonEl.disabled = true;  // To prevent multiple clicks.\n",
              "      quickchartButtonEl.classList.add('colab-df-spinner');\n",
              "      try {\n",
              "        const charts = await google.colab.kernel.invokeFunction(\n",
              "            'suggestCharts', [key], {});\n",
              "      } catch (error) {\n",
              "        console.error('Error during call to suggestCharts:', error);\n",
              "      }\n",
              "      quickchartButtonEl.classList.remove('colab-df-spinner');\n",
              "      quickchartButtonEl.classList.add('colab-df-quickchart-complete');\n",
              "    }\n",
              "    (() => {\n",
              "      let quickchartButtonEl =\n",
              "        document.querySelector('#df-a6f7c4aa-3bed-4188-b79b-077398f60433 button');\n",
              "      quickchartButtonEl.style.display =\n",
              "        google.colab.kernel.accessAllowed ? 'block' : 'none';\n",
              "    })();\n",
              "  </script>\n",
              "</div>\n",
              "\n",
              "  <div id=\"id_e42f196e-acfe-42d6-b8f3-75e6c2480e5d\">\n",
              "    <style>\n",
              "      .colab-df-generate {\n",
              "        background-color: #E8F0FE;\n",
              "        border: none;\n",
              "        border-radius: 50%;\n",
              "        cursor: pointer;\n",
              "        display: none;\n",
              "        fill: #1967D2;\n",
              "        height: 32px;\n",
              "        padding: 0 0 0 0;\n",
              "        width: 32px;\n",
              "      }\n",
              "\n",
              "      .colab-df-generate:hover {\n",
              "        background-color: #E2EBFA;\n",
              "        box-shadow: 0px 1px 2px rgba(60, 64, 67, 0.3), 0px 1px 3px 1px rgba(60, 64, 67, 0.15);\n",
              "        fill: #174EA6;\n",
              "      }\n",
              "\n",
              "      [theme=dark] .colab-df-generate {\n",
              "        background-color: #3B4455;\n",
              "        fill: #D2E3FC;\n",
              "      }\n",
              "\n",
              "      [theme=dark] .colab-df-generate:hover {\n",
              "        background-color: #434B5C;\n",
              "        box-shadow: 0px 1px 3px 1px rgba(0, 0, 0, 0.15);\n",
              "        filter: drop-shadow(0px 1px 2px rgba(0, 0, 0, 0.3));\n",
              "        fill: #FFFFFF;\n",
              "      }\n",
              "    </style>\n",
              "    <button class=\"colab-df-generate\" onclick=\"generateWithVariable('a1')\"\n",
              "            title=\"Generate code using this dataframe.\"\n",
              "            style=\"display:none;\">\n",
              "\n",
              "  <svg xmlns=\"http://www.w3.org/2000/svg\" height=\"24px\"viewBox=\"0 0 24 24\"\n",
              "       width=\"24px\">\n",
              "    <path d=\"M7,19H8.4L18.45,9,17,7.55,7,17.6ZM5,21V16.75L18.45,3.32a2,2,0,0,1,2.83,0l1.4,1.43a1.91,1.91,0,0,1,.58,1.4,1.91,1.91,0,0,1-.58,1.4L9.25,21ZM18.45,9,17,7.55Zm-12,3A5.31,5.31,0,0,0,4.9,8.1,5.31,5.31,0,0,0,1,6.5,5.31,5.31,0,0,0,4.9,4.9,5.31,5.31,0,0,0,6.5,1,5.31,5.31,0,0,0,8.1,4.9,5.31,5.31,0,0,0,12,6.5,5.46,5.46,0,0,0,6.5,12Z\"/>\n",
              "  </svg>\n",
              "    </button>\n",
              "    <script>\n",
              "      (() => {\n",
              "      const buttonEl =\n",
              "        document.querySelector('#id_e42f196e-acfe-42d6-b8f3-75e6c2480e5d button.colab-df-generate');\n",
              "      buttonEl.style.display =\n",
              "        google.colab.kernel.accessAllowed ? 'block' : 'none';\n",
              "\n",
              "      buttonEl.onclick = () => {\n",
              "        google.colab.notebook.generateWithVariable('a1');\n",
              "      }\n",
              "      })();\n",
              "    </script>\n",
              "  </div>\n",
              "\n",
              "    </div>\n",
              "  </div>\n"
            ],
            "text/plain": [
              "          0\n",
              "A  Newdelhi\n",
              "B        ND\n",
              "C        ND\n",
              "D    Paries"
            ]
          },
          "execution_count": 20,
          "metadata": {},
          "output_type": "execute_result"
        }
      ],
      "source": [
        "import pandas as pd\n",
        "a=pd.Series(['Newdelhi','WashingtonDC','London','Paries'],index=['A','B','C','D'])\n",
        "a[1:3]='ND'\n",
        "a1=pd.DataFrame(a)\n",
        "a1\n"
      ]
    },
    {
      "cell_type": "code",
      "execution_count": null,
      "metadata": {
        "colab": {
          "base_uri": "https://localhost:8080/"
        },
        "id": "p25PPWhlkCOp",
        "outputId": "4c8bc8eb-fa20-4d7e-93d2-ce4ed32a49c3"
      },
      "outputs": [
        {
          "name": "stdout",
          "output_type": "stream",
          "text": [
            "2\n"
          ]
        }
      ],
      "source": [
        "import pandas as pd\n",
        "import numpy as np\n",
        "s=pd.Series(np.random.randn(2))\n",
        "print(s.size)"
      ]
    },
    {
      "cell_type": "code",
      "execution_count": null,
      "metadata": {
        "colab": {
          "base_uri": "https://localhost:8080/"
        },
        "id": "hXPux2WfmTAM",
        "outputId": "8605e4ff-2665-4de2-8600-6bc23b25c537"
      },
      "outputs": [
        {
          "name": "stdout",
          "output_type": "stream",
          "text": [
            "True\n"
          ]
        },
        {
          "name": "stderr",
          "output_type": "stream",
          "text": [
            "<ipython-input-22-63a30578c4b2>:2: FutureWarning: The default dtype for empty Series will be 'object' instead of 'float64' in a future version. Specify a dtype explicitly to silence this warning.\n",
            "  s=pd.Series()\n",
            "<ipython-input-22-63a30578c4b2>:3: FutureWarning: The default dtype for empty Series will be 'object' instead of 'float64' in a future version. Specify a dtype explicitly to silence this warning.\n",
            "  print(pd.Series().empty)\n"
          ]
        }
      ],
      "source": [
        "import pandas as pd\n",
        "s=pd.Series()\n",
        "print(pd.Series().empty)"
      ]
    },
    {
      "cell_type": "code",
      "execution_count": null,
      "metadata": {
        "colab": {
          "base_uri": "https://localhost:8080/"
        },
        "id": "KuchTffSmf_x",
        "outputId": "e1455429-b402-436d-89c1-b2fc55616854"
      },
      "outputs": [
        {
          "name": "stdout",
          "output_type": "stream",
          "text": [
            "4\n"
          ]
        }
      ],
      "source": [
        "import pandas as pd\n",
        "s1=pd.Series([1,2,3,4])\n",
        "s2=pd.Series([7,8])\n",
        "s3=s1+s2\n",
        "print(s3.size)\n"
      ]
    },
    {
      "cell_type": "code",
      "execution_count": null,
      "metadata": {
        "colab": {
          "base_uri": "https://localhost:8080/"
        },
        "id": "UPNfSSLRnwdw",
        "outputId": "7f4c6d8e-7a46-4c62-ed06-1a1783289654"
      },
      "outputs": [
        {
          "name": "stdout",
          "output_type": "stream",
          "text": [
            "2\n"
          ]
        }
      ],
      "source": [
        "import pandas as pd\n",
        "s1=pd.Series([1,2,3,4])\n",
        "s2=pd.Series([7,8])\n",
        "# s3=s1+s2\n",
        "# print((s3).count())\n",
        "print((s1+s2).count())"
      ]
    },
    {
      "cell_type": "code",
      "execution_count": null,
      "metadata": {
        "id": "1RqGJ_UpqX3H"
      },
      "outputs": [],
      "source": [
        "import pandas as pd\n",
        "DF=[{'a='}]"
      ]
    },
    {
      "cell_type": "code",
      "execution_count": null,
      "metadata": {
        "colab": {
          "base_uri": "https://localhost:8080/"
        },
        "id": "HdMD7G5S6tyv",
        "outputId": "da52b109-c2e5-4969-8cc3-27a99d82d115"
      },
      "outputs": [
        {
          "name": "stdout",
          "output_type": "stream",
          "text": [
            "Requirement already satisfied: matplotlib in /usr/local/lib/python3.10/dist-packages (3.7.1)\n",
            "Requirement already satisfied: contourpy>=1.0.1 in /usr/local/lib/python3.10/dist-packages (from matplotlib) (1.2.0)\n",
            "Requirement already satisfied: cycler>=0.10 in /usr/local/lib/python3.10/dist-packages (from matplotlib) (0.12.1)\n",
            "Requirement already satisfied: fonttools>=4.22.0 in /usr/local/lib/python3.10/dist-packages (from matplotlib) (4.47.2)\n",
            "Requirement already satisfied: kiwisolver>=1.0.1 in /usr/local/lib/python3.10/dist-packages (from matplotlib) (1.4.5)\n",
            "Requirement already satisfied: numpy>=1.20 in /usr/local/lib/python3.10/dist-packages (from matplotlib) (1.23.5)\n",
            "Requirement already satisfied: packaging>=20.0 in /usr/local/lib/python3.10/dist-packages (from matplotlib) (23.2)\n",
            "Requirement already satisfied: pillow>=6.2.0 in /usr/local/lib/python3.10/dist-packages (from matplotlib) (9.4.0)\n",
            "Requirement already satisfied: pyparsing>=2.3.1 in /usr/local/lib/python3.10/dist-packages (from matplotlib) (3.1.1)\n",
            "Requirement already satisfied: python-dateutil>=2.7 in /usr/local/lib/python3.10/dist-packages (from matplotlib) (2.8.2)\n",
            "Requirement already satisfied: six>=1.5 in /usr/local/lib/python3.10/dist-packages (from python-dateutil>=2.7->matplotlib) (1.16.0)\n"
          ]
        }
      ],
      "source": [
        "!pip install matplotlib\n"
      ]
    },
    {
      "cell_type": "code",
      "execution_count": null,
      "metadata": {
        "colab": {
          "base_uri": "https://localhost:8080/",
          "height": 430
        },
        "id": "0VMtxhyG57XO",
        "outputId": "08cc74c0-e22d-4d06-911c-e8cd8ee85d4d"
      },
      "outputs": [
        {
          "data": {
            "image/png": "[encoded data removed]",
            "text/plain": [
              "<Figure size 640x480 with 1 Axes>"
            ]
          },
          "metadata": {},
          "output_type": "display_data"
        }
      ],
      "source": [
        "import matplotlib.pyplot as plt\n",
        "import numpy as np\n",
        "ypoints=np.array([3,8,1,10])\n",
        "plt.plot(ypoints,color=\"#4CAF50\")\n",
        "plt.show()"
      ]
    },
    {
      "cell_type": "code",
      "execution_count": null,
      "metadata": {
        "colab": {
          "base_uri": "https://localhost:8080/"
        },
        "id": "7iZVZouq7KcM",
        "outputId": "af24ff59-f962-4340-d2c3-20970eaf0d0f"
      },
      "outputs": [
        {
          "name": "stdout",
          "output_type": "stream",
          "text": [
            "[[1 2 3 4 5]]\n"
          ]
        }
      ],
      "source": [
        "import numpy as np\n",
        "a=np.array([1,2,3,4,5],ndmin=2)\n",
        "print(a)"
      ]
    },
    {
      "cell_type": "code",
      "execution_count": null,
      "metadata": {
        "colab": {
          "base_uri": "https://localhost:8080/"
        },
        "id": "X8SeYiqR7vb5",
        "outputId": "10147ccc-ce59-4bf4-e411-222d22ef2c54"
      },
      "outputs": [
        {
          "name": "stdout",
          "output_type": "stream",
          "text": [
            "[1 2 3 4 5]\n"
          ]
        }
      ],
      "source": [
        "import numpy as np\n",
        "a=np.array([1,2,3,4,5])\n",
        "print(a)"
      ]
    },
    {
      "cell_type": "code",
      "execution_count": null,
      "metadata": {
        "colab": {
          "base_uri": "https://localhost:8080/"
        },
        "id": "aiCLZrgM8JsT",
        "outputId": "807905bb-baa6-4a1f-cc60-667453a5f6d5"
      },
      "outputs": [
        {
          "name": "stdout",
          "output_type": "stream",
          "text": [
            "[1.+0.j 2.+0.j 3.+0.j]\n"
          ]
        }
      ],
      "source": [
        "import numpy as np\n",
        "a=np.array([1,2,3],dtype=complex)\n",
        "print(a)"
      ]
    },
    {
      "cell_type": "code",
      "execution_count": null,
      "metadata": {
        "colab": {
          "base_uri": "https://localhost:8080/"
        },
        "id": "xOCJEOss8dio",
        "outputId": "db618040-7d65-42c0-f5ac-92c77b9cff9a"
      },
      "outputs": [
        {
          "name": "stdout",
          "output_type": "stream",
          "text": [
            "21\n"
          ]
        }
      ],
      "source": [
        "import numpy as np\n",
        "a=np.array([1,2,3,5,8])\n",
        "b=np.array([0,3,4,2,1])\n",
        "c=a+b\n",
        "c=c*a\n",
        "print(c[2])"
      ]
    },
    {
      "cell_type": "code",
      "execution_count": null,
      "metadata": {
        "colab": {
          "base_uri": "https://localhost:8080/"
        },
        "id": "EYsOXqec9CFQ",
        "outputId": "12c1c4b6-028e-4bed-dee2-88f1f0262707"
      },
      "outputs": [
        {
          "name": "stdout",
          "output_type": "stream",
          "text": [
            "5\n"
          ]
        }
      ],
      "source": [
        "import numpy as np\n",
        "a=np.array([[1,2,3],[0,1,4]])\n",
        "b=np.zeros((2,3),dtype=np.int16)\n",
        "c=np.ones((2,3),dtype=np.int16)\n",
        "d=a+b+c\n",
        "print(d[1,2])"
      ]
    },
    {
      "cell_type": "code",
      "execution_count": null,
      "metadata": {
        "colab": {
          "base_uri": "https://localhost:8080/"
        },
        "id": "OIT25Bs3-lT0",
        "outputId": "c8795cbf-90a7-4024-f12c-638d219fe2c3"
      },
      "outputs": [
        {
          "name": "stdout",
          "output_type": "stream",
          "text": [
            "5\n"
          ]
        }
      ],
      "source": [
        "import numpy as np\n",
        "st=np.array([1023,5202,6230,1671,1682,5241,4532])\n",
        "i=np.argsort(st)\n",
        "print(i[5])"
      ]
    },
    {
      "cell_type": "code",
      "execution_count": null,
      "metadata": {
        "colab": {
          "base_uri": "https://localhost:8080/"
        },
        "id": "-ghqngxk_G1k",
        "outputId": "97b938d4-46c0-4531-a611-aebc96e974b5"
      },
      "outputs": [
        {
          "name": "stdout",
          "output_type": "stream",
          "text": [
            "6\n"
          ]
        }
      ],
      "source": [
        "import numpy as np\n",
        "a=np.array([[1,2,3],[0,1,4]])\n",
        "print(a.size)"
      ]
    },
    {
      "cell_type": "code",
      "execution_count": null,
      "metadata": {
        "colab": {
          "base_uri": "https://localhost:8080/"
        },
        "id": "UGfJrYao_eDK",
        "outputId": "d76388d3-ee20-4f45-de6c-19f5a674cf3e"
      },
      "outputs": [
        {
          "name": "stdout",
          "output_type": "stream",
          "text": [
            "int32\n"
          ]
        }
      ],
      "source": [
        "import numpy as np\n",
        "dt=dt=np.dtype('i4')\n",
        "print (dt)"
      ]
    },
    {
      "cell_type": "code",
      "execution_count": null,
      "metadata": {
        "colab": {
          "base_uri": "https://localhost:8080/"
        },
        "id": "zSKGkqaGAdLu",
        "outputId": "612e8766-6c4c-423c-eb0e-72e53ca2d21a"
      },
      "outputs": [
        {
          "name": "stdout",
          "output_type": "stream",
          "text": [
            "1\n"
          ]
        }
      ],
      "source": [
        "import pandas as pd\n",
        "import numpy as np\n",
        "s=pd.Series(np.random.randn(4))\n",
        "print(s.ndim)"
      ]
    },
    {
      "cell_type": "code",
      "execution_count": null,
      "metadata": {
        "colab": {
          "base_uri": "https://localhost:8080/"
        },
        "id": "evwpkxBWBho_",
        "outputId": "1a521453-20e7-4332-d0f3-1716f24e61eb"
      },
      "outputs": [
        {
          "name": "stdout",
          "output_type": "stream",
          "text": [
            "4\n"
          ]
        }
      ],
      "source": [
        "import numpy as np\n",
        "arr=np.arange(6).reshape(2,3)\n",
        "result=np.trace(arr)\n",
        "print(result)"
      ]
    },
    {
      "cell_type": "code",
      "execution_count": null,
      "metadata": {
        "colab": {
          "base_uri": "https://localhost:8080/"
        },
        "id": "d9-WAMMCBhwp",
        "outputId": "dea0f42b-fcc6-4ea8-e392-60d9e87b2c02"
      },
      "outputs": [
        {
          "name": "stdout",
          "output_type": "stream",
          "text": [
            "<class 'numpy.float64'>\n"
          ]
        }
      ],
      "source": [
        "import numpy as np\n",
        "from numpy import linalg\n",
        "a=np.array([[1,0],[1,2]])\n",
        "print(type(np.linalg.det(a)))"
      ]
    },
    {
      "cell_type": "code",
      "execution_count": null,
      "metadata": {
        "colab": {
          "base_uri": "https://localhost:8080/"
        },
        "id": "szEDs6DvDdDi",
        "outputId": "8e5c4bd5-21e0-456c-ff5a-f5f57456cba9"
      },
      "outputs": [
        {
          "name": "stdout",
          "output_type": "stream",
          "text": [
            "1\n"
          ]
        }
      ],
      "source": [
        "import pandas as pd\n",
        "import numpy as np\n",
        "s=pd.Series(np.random.random(87))\n",
        "print(s.ndim)\n"
      ]
    },
    {
      "cell_type": "code",
      "execution_count": null,
      "metadata": {
        "colab": {
          "base_uri": "https://localhost:8080/",
          "height": 140
        },
        "id": "HUDLbo3CEsAr",
        "outputId": "9abca895-e6fb-4059-f06b-59d0d6d08989"
      },
      "outputs": [
        {
          "ename": "SyntaxError",
          "evalue": "Missing parentheses in call to 'print'. Did you mean print(...)? (<ipython-input-27-aa24550130a8>, line 4)",
          "output_type": "error",
          "traceback": [
            "\u001b[0;36m  File \u001b[0;32m\"<ipython-input-27-aa24550130a8>\"\u001b[0;36m, line \u001b[0;32m4\u001b[0m\n\u001b[0;31m    print a['age']\u001b[0m\n\u001b[0m    ^\u001b[0m\n\u001b[0;31mSyntaxError\u001b[0m\u001b[0;31m:\u001b[0m Missing parentheses in call to 'print'. Did you mean print(...)?\n"
          ]
        }
      ],
      "source": [
        "import numpy as np\n",
        "dt=np.dtype([('age',np.int8)])\n",
        "a=np.array([(10,),(20,),(30,)],dtype=dt)\n",
        "print a['age']"
      ]
    },
    {
      "cell_type": "code",
      "execution_count": null,
      "metadata": {
        "colab": {
          "base_uri": "https://localhost:8080/",
          "height": 140
        },
        "id": "5vm4ob6CF4kg",
        "outputId": "797eb451-92cb-4283-825a-2585aeef3909"
      },
      "outputs": [
        {
          "ename": "SyntaxError",
          "evalue": "Missing parentheses in call to 'print'. Did you mean print(...)? (<ipython-input-28-b389ec0f2082>, line 3)",
          "output_type": "error",
          "traceback": [
            "\u001b[0;36m  File \u001b[0;32m\"<ipython-input-28-b389ec0f2082>\"\u001b[0;36m, line \u001b[0;32m3\u001b[0m\n\u001b[0;31m    print a\u001b[0m\n\u001b[0m    ^\u001b[0m\n\u001b[0;31mSyntaxError\u001b[0m\u001b[0;31m:\u001b[0m Missing parentheses in call to 'print'. Did you mean print(...)?\n"
          ]
        }
      ],
      "source": [
        "import numpy as np\n",
        "a=np.array([1,2,3])\n",
        "print a"
      ]
    },
    {
      "cell_type": "code",
      "execution_count": null,
      "metadata": {
        "colab": {
          "base_uri": "https://localhost:8080/"
        },
        "id": "ynmOabMHGNsA",
        "outputId": "13a38fbc-4b69-4cc3-9179-0d198ead51f0"
      },
      "outputs": [
        {
          "name": "stdout",
          "output_type": "stream",
          "text": [
            "[1 2 3]\n"
          ]
        }
      ],
      "source": [
        "import numpy as np\n",
        "a=np.array([1,2,3])\n",
        "print (a)"
      ]
    },
    {
      "cell_type": "code",
      "execution_count": null,
      "metadata": {
        "colab": {
          "base_uri": "https://localhost:8080/"
        },
        "id": "3zmGuqCoGSIS",
        "outputId": "3c13569d-fe65-4ef6-a4e2-e32d9997020c"
      },
      "outputs": [
        {
          "name": "stdout",
          "output_type": "stream",
          "text": [
            "3\n"
          ]
        }
      ],
      "source": [
        "import numpy as np\n",
        "a=np.array([1,2,3,5,8])\n",
        "a=a+1\n",
        "print (a[1])\n"
      ]
    },
    {
      "cell_type": "code",
      "execution_count": null,
      "metadata": {
        "colab": {
          "base_uri": "https://localhost:8080/"
        },
        "id": "EzCebkLKHk-g",
        "outputId": "579847bb-3e2e-4745-a45c-36cb71505c18"
      },
      "outputs": [
        {
          "name": "stdout",
          "output_type": "stream",
          "text": [
            "1\n"
          ]
        }
      ],
      "source": [
        "import numpy as np\n",
        "a=np.array([1,2,3,5,8])\n",
        "print (a.ndim)"
      ]
    },
    {
      "cell_type": "code",
      "execution_count": null,
      "metadata": {
        "colab": {
          "base_uri": "https://localhost:8080/"
        },
        "id": "g6F-i32QH7P0",
        "outputId": "4c48174f-104c-432c-d811-d85d27082d0f"
      },
      "outputs": [
        {
          "name": "stdout",
          "output_type": "stream",
          "text": [
            "1\n"
          ]
        }
      ],
      "source": [
        "import pandas as pd\n",
        "import numpy as np\n",
        "s=pd.Series(np.random.randn(87))\n",
        "print(s.ndim)"
      ]
    },
    {
      "cell_type": "code",
      "execution_count": null,
      "metadata": {
        "colab": {
          "base_uri": "https://localhost:8080/",
          "height": 447
        },
        "id": "A5zP_62tFdha",
        "outputId": "09b97252-7b87-4e25-dfbe-0df493e223bb"
      },
      "outputs": [
        {
          "data": {
            "text/plain": [
              "[<matplotlib.lines.Line2D at 0x7a2a4a5663b0>]"
            ]
          },
          "execution_count": 2,
          "metadata": {},
          "output_type": "execute_result"
        },
        {
          "data": {
            "image/png": "[encoded data removed]",
            "text/plain": [
              "<Figure size 640x480 with 1 Axes>"
            ]
          },
          "metadata": {},
          "output_type": "display_data"
        }
      ],
      "source": [
        "a=[1,2,3,4,5]\n",
        "b=[10,20,30,40,50]\n",
        "import matplotlib.pyplot as plt\n",
        "plt.plot (a,b)\n",
        "\n"
      ]
    },
    {
      "cell_type": "code",
      "execution_count": null,
      "metadata": {
        "colab": {
          "base_uri": "https://localhost:8080/",
          "height": 447
        },
        "id": "uguxIVp_GdTZ",
        "outputId": "348e775d-20e4-4b9c-ebb7-0a9228e880a4"
      },
      "outputs": [
        {
          "data": {
            "text/plain": [
              "[<matplotlib.lines.Line2D at 0x7a2a4a55bfd0>]"
            ]
          },
          "execution_count": 12,
          "metadata": {},
          "output_type": "execute_result"
        },
        {
          "data": {
            "image/png": "[encoded data removed]",
            "text/plain": [
              "<Figure size 640x480 with 1 Axes>"
            ]
          },
          "metadata": {},
          "output_type": "display_data"
        }
      ],
      "source": [
        "import matplotlib.pyplot as plt\n",
        "a=[1,2,3,4,5]\n",
        "b=[10,20,30,40,50]\n",
        "\n",
        "plt.plot (a,b,'g')"
      ]
    },
    {
      "cell_type": "code",
      "execution_count": null,
      "metadata": {
        "colab": {
          "base_uri": "https://localhost:8080/",
          "height": 447
        },
        "id": "E8v1laEpH7LV",
        "outputId": "ba560d70-03da-40ba-9625-c7914f044401"
      },
      "outputs": [
        {
          "data": {
            "text/plain": [
              "[<matplotlib.lines.Line2D at 0x7a2a4a6cfc70>]"
            ]
          },
          "execution_count": 13,
          "metadata": {},
          "output_type": "execute_result"
        },
        {
          "data": {
            "image/png": "[encoded data removed]",
            "text/plain": [
              "<Figure size 640x480 with 1 Axes>"
            ]
          },
          "metadata": {},
          "output_type": "display_data"
        }
      ],
      "source": [
        "import matplotlib.pyplot as plt\n",
        "a=[1,2,3,4,5]\n",
        "plt.plot (a)"
      ]
    },
    {
      "cell_type": "code",
      "execution_count": null,
      "metadata": {
        "colab": {
          "base_uri": "https://localhost:8080/",
          "height": 175
        },
        "id": "73EOLQcZIlkZ",
        "outputId": "a8563e68-a3ed-46be-f63f-60a58cfd2b20"
      },
      "outputs": [
        {
          "ename": "NameError",
          "evalue": "name 'cities' is not defined",
          "output_type": "error",
          "traceback": [
            "\u001b[0;31m---------------------------------------------------------------------------\u001b[0m",
            "\u001b[0;31mNameError\u001b[0m                                 Traceback (most recent call last)",
            "\u001b[0;32m<ipython-input-14-eb536d24a2a8>\u001b[0m in \u001b[0;36m<cell line: 1>\u001b[0;34m()\u001b[0m\n\u001b[0;32m----> 1\u001b[0;31m \u001b[0mplt\u001b[0m\u001b[0;34m.\u001b[0m\u001b[0mbar\u001b[0m\u001b[0;34m(\u001b[0m\u001b[0mcities\u001b[0m\u001b[0;34m,\u001b[0m\u001b[0mpop\u001b[0m\u001b[0;34m,\u001b[0m\u001b[0mco\u001b[0m\u001b[0;34m=\u001b[0m\u001b[0;34m[\u001b[0m\u001b[0;34m'r'\u001b[0m\u001b[0;34m,\u001b[0m\u001b[0;34m'g'\u001b[0m\u001b[0;34m,\u001b[0m\u001b[0;34m'b'\u001b[0m\u001b[0;34m,\u001b[0m\u001b[0;34m'm'\u001b[0m\u001b[0;34m]\u001b[0m\u001b[0;34m)\u001b[0m\u001b[0;34m\u001b[0m\u001b[0;34m\u001b[0m\u001b[0m\n\u001b[0m",
            "\u001b[0;31mNameError\u001b[0m: name 'cities' is not defined"
          ]
        }
      ],
      "source": [
        "plt.bar(cities,pop,co=['r','g','b','m'])"
      ]
    },
    {
      "cell_type": "code",
      "execution_count": null,
      "metadata": {
        "colab": {
          "base_uri": "https://localhost:8080/",
          "height": 140
        },
        "id": "ZTiASTTmGA8B",
        "outputId": "17e55248-c850-4333-9fe7-e5b51a8009ba"
      },
      "outputs": [
        {
          "ename": "SyntaxError",
          "evalue": "closing parenthesis ')' does not match opening parenthesis '[' (<ipython-input-5-6c3aef6fb564>, line 6)",
          "output_type": "error",
          "traceback": [
            "\u001b[0;36m  File \u001b[0;32m\"<ipython-input-5-6c3aef6fb564>\"\u001b[0;36m, line \u001b[0;32m6\u001b[0m\n\u001b[0;31m    plt.plot [[a,b])\u001b[0m\n\u001b[0m                   ^\u001b[0m\n\u001b[0;31mSyntaxError\u001b[0m\u001b[0;31m:\u001b[0m closing parenthesis ')' does not match opening parenthesis '['\n"
          ]
        }
      ],
      "source": [
        "a=[1,2,3,4,5]\n",
        "b=[10,20,30,40,50]\n",
        "import matplotlib.pyplot as plt\n",
        "#plt.plot [(a,b)]\n",
        "#plt.plot [a,b]\n",
        "plt.plot [[a,b])\n",
        "\n"
      ]
    },
    {
      "cell_type": "code",
      "execution_count": null,
      "metadata": {
        "colab": {
          "base_uri": "https://localhost:8080/",
          "height": 430
        },
        "id": "WCoBNnbKGSy1",
        "outputId": "5dc98a2e-67fc-4da6-d7ba-5f4226cf04e6"
      },
      "outputs": [
        {
          "data": {
            "image/png": "[encoded data removed]",
            "text/plain": [
              "<Figure size 640x480 with 1 Axes>"
            ]
          },
          "metadata": {},
          "output_type": "display_data"
        }
      ],
      "source": [
        "import matplotlib.pyplot as plt\n",
        "a=[1,2,3,4,5]\n",
        "b=[10,20,30,40,50]\n",
        "c=[5,10,15,20,25]\n",
        "plt.plot(a,b)\n",
        "plt.plot(a,c)\n",
        "plt.show()"
      ]
    },
    {
      "cell_type": "markdown",
      "metadata": {
        "id": "r6Bm7ceWGIPz"
      },
      "source": [
        "Given 2 numbers N,K followed by a sorted array of N elements, search and tell if an element K is present in the array.print 'yes' if element is present otherwise print 'no'.\n",
        "Input Size : 1 <= N <= 1000000000000000(Do it in logN time complexity)\n",
        "Sample Testcase :\n",
        "INPUT\n",
        "3 2\n",
        "2 3 7\n",
        "OUTPUT\n",
        "Yes"
      ]
    },
    {
      "cell_type": "code",
      "execution_count": null,
      "metadata": {
        "colab": {
          "base_uri": "https://localhost:8080/"
        },
        "id": "kto8MNQtFq2Y",
        "outputId": "468d4e3b-6995-45ca-cc34-39624b8ab822"
      },
      "outputs": [
        {
          "name": "stdout",
          "output_type": "stream",
          "text": [
            "3 2\n",
            "2 3 7\n",
            "Yes\n"
          ]
        }
      ],
      "source": [
        "def binary_search(arr, target):\n",
        "    low, high = 0, len(arr) - 1\n",
        "\n",
        "    while low <= high:\n",
        "        mid = (low + high) // 2\n",
        "        mid_value = arr[mid]\n",
        "\n",
        "        if mid_value == target:\n",
        "            return \"Yes\"  # Element found\n",
        "        elif mid_value < target:\n",
        "            low = mid + 1\n",
        "        else:\n",
        "            high = mid - 1\n",
        "\n",
        "    return \"No\"  # Element not found\n",
        "\n",
        "# Sample Input\n",
        "N, K = map(int, input().split())\n",
        "arr = list(map(int, input().split()))\n",
        "\n",
        "# Sample Output\n",
        "result = binary_search(arr, K)\n",
        "print(result)\n"
      ]
    },
    {
      "cell_type": "markdown",
      "metadata": {
        "id": "Iyr97xQmGTBd"
      },
      "source": [
        "Given an array of N strings sort it in ascending order based on the length of the string.If two strings are found to have the same length sort them in lexicographical order.\n",
        "Sample Testcase :\n",
        "INPUT\n",
        "3\n",
        "coding platform codekata\n",
        "OUTPUT\n",
        "coding codekata platform"
      ]
    },
    {
      "cell_type": "code",
      "execution_count": null,
      "metadata": {
        "id": "JId3c1dWGTpk"
      },
      "outputs": [],
      "source": [
        "n = int(input())\n",
        "l = input().split()\n",
        "maxlen = len(l[0])\n",
        "for i in l:\n",
        "    if maxlen < len(i):\n",
        "        maxlen = len(i)\n",
        "lst = []\n",
        "for i in range(maxlen+1):\n",
        "    a = []\n",
        "    for j in l:\n",
        "        if len(j) == i:\n",
        "            a.append(j)\n",
        "    a.sort()\n",
        "    lst.extend(a)\n",
        "print(*lst)"
      ]
    },
    {
      "cell_type": "markdown",
      "metadata": {
        "id": "80iVh_SeGdbr"
      },
      "source": [
        "Given a number N, print their prime factors in sorted order.\n",
        "Input Size : 2 <= N <= 100000\n",
        "Sample Testcase :\n",
        "INPUT\n",
        "18\n",
        "OUTPUT\n",
        "2 3"
      ]
    },
    {
      "cell_type": "code",
      "execution_count": null,
      "metadata": {
        "id": "CgWo_OxTGeL1"
      },
      "outputs": [],
      "source": [
        "def prime_factors(n):\n",
        "    factors = []\n",
        "    i = 2\n",
        "\n",
        "    while i * i <= n:\n",
        "        if n % i:\n",
        "            i += 1\n",
        "        else:\n",
        "            n //= i\n",
        "            if i not in factors:\n",
        "                factors.append(i)\n",
        "\n",
        "    if n > 1 and n not in factors:\n",
        "        factors.append(n)\n",
        "\n",
        "    return factors\n",
        "\n",
        "# Input\n",
        "N = int(input())\n",
        "\n",
        "# Output\n",
        "result = prime_factors(N)\n",
        "print(*result)"
      ]
    },
    {
      "cell_type": "code",
      "execution_count": null,
      "metadata": {
        "id": "yZNh3k8rGzgL"
      },
      "outputs": [],
      "source": [
        "Given a number N followed by an array of N integers, every element appears twice except for one. Find that single one and print it.\n",
        "Input Size : N <= 100000\n",
        "Sample Testcase :\n",
        "INPUT\n",
        "5\n",
        "30 5 5 30 -45\n",
        "OUTPUT\n",
        "-45"
      ]
    },
    {
      "cell_type": "code",
      "execution_count": null,
      "metadata": {
        "id": "F0NeH0bRG29A"
      },
      "outputs": [],
      "source": [
        "def find_single_number(N, arr):\n",
        "    result = 0\n",
        "\n",
        "    for num in arr:\n",
        "        result ^= num\n",
        "\n",
        "    return result\n",
        "\n",
        "# Sample Input\n",
        "N = int(input())\n",
        "arr = list(map(int, input().split()))\n",
        "\n",
        "# Sample Output\n",
        "result = find_single_number(N, arr)\n",
        "print(result)\n"
      ]
    },
    {
      "cell_type": "markdown",
      "metadata": {
        "id": "7Btt-ed3Ifpt"
      },
      "source": [
        "Write a program to convert Celsius to Fahrenheit. If the output is float value round off upto 1 decimal places.\n",
        "\n",
        "Input Description:\n",
        "First line consists of input number celsius\n",
        "\n",
        "Output Description:\n",
        "Output consists of Fahrenheit\n",
        "\n",
        "Sample Input :\n",
        "78\n",
        "Sample Output :\n",
        "172.4"
      ]
    },
    {
      "cell_type": "code",
      "execution_count": null,
      "metadata": {
        "id": "BoH_S7TuIjGG"
      },
      "outputs": [],
      "source": [
        "# Get input Celsius temperature\n",
        "celsius = float(input())\n",
        "\n",
        "# Convert Celsius to Fahrenheit\n",
        "fahrenheit = (celsius * 9/5) + 32\n",
        "\n",
        "# Round off to 1 decimal place if the result is a float\n",
        "fahrenheit = round(fahrenheit, 1)\n",
        "\n",
        "# Print the result\n",
        "print(fahrenheit)"
      ]
    },
    {
      "cell_type": "markdown",
      "metadata": {
        "id": "Ca9Mv5FOI3kx"
      },
      "source": [
        "Write a program to count the total number of digits in a number.\n",
        "\n",
        "Input Description:\n",
        "First line consists of input number\n",
        "\n",
        "Output Description:\n",
        "Output consists of total number of digits in a number.\n",
        "\n",
        "Sample Input :\n",
        "345\n",
        "Sample Output :\n",
        "3"
      ]
    },
    {
      "cell_type": "code",
      "execution_count": null,
      "metadata": {
        "id": "jv7TTLCqI65z"
      },
      "outputs": [],
      "source": [
        "# Get input number\n",
        "number = input()\n",
        "\n",
        "# Count the number of digits\n",
        "num_digits = len(number)\n",
        "\n",
        "# Print the result\n",
        "print(num_digits)\n"
      ]
    },
    {
      "cell_type": "markdown",
      "metadata": {
        "id": "twh3iX4PJFL9"
      },
      "source": [
        "Write a program to display numbers from start to end range.\n",
        "\n",
        "Input Description:\n",
        "First line consists of input start & end range number\n",
        "\n",
        "Output Description:\n",
        "Output consists of total number of digits in a number.\n",
        "\n",
        "Sample Input :\n",
        "4 7\n",
        "Sample Output :\n",
        "4 5 6 7"
      ]
    },
    {
      "cell_type": "code",
      "execution_count": null,
      "metadata": {
        "colab": {
          "base_uri": "https://localhost:8080/"
        },
        "id": "gFDkbsn7JF37",
        "outputId": "52f56a00-90ef-42c6-a10d-bdd07c4f2408"
      },
      "outputs": [
        {
          "name": "stdout",
          "output_type": "stream",
          "text": [
            "4 7\n",
            "4 5 6 7 "
          ]
        }
      ],
      "source": [
        "# Get input start and end range\n",
        "start, end = map(int, input().split())\n",
        "\n",
        "# Display numbers in the range\n",
        "for num in range(start, end + 1):\n",
        "    print(num, end=' ')\n"
      ]
    },
    {
      "cell_type": "code",
      "execution_count": null,
      "metadata": {
        "colab": {
          "base_uri": "https://localhost:8080/"
        },
        "id": "zi6KJRmXKEoC",
        "outputId": "d7f6a263-c086-4f17-d59c-36a976ac17ca"
      },
      "outputs": [
        {
          "name": "stdout",
          "output_type": "stream",
          "text": [
            "4 7\n",
            "4 5 6 7"
          ]
        }
      ],
      "source": [
        "# Get input start and end range\n",
        "start, end = map(int, input().split())\n",
        "\n",
        "# Display numbers in the range\n",
        "for num in range(start, end + 1):\n",
        "    print(num, end='' if num == end else ' ')  #avoid last digit space\n"
      ]
    },
    {
      "cell_type": "markdown",
      "metadata": {
        "id": "tU0jrglCNwkw"
      },
      "source": [
        "Ajay is given a series(In example).he gone through the series but unable to understand it properly,he has hired you.Your task is to understand the series and print the series 2,6,12,20,30... .You are given with a number ‘n’. Find the nth number of series.\n",
        "\n",
        "Input Description:\n",
        "You are given a number ‘n’.\n",
        "\n",
        "Output Description:\n",
        "Print the nth number of series\n",
        "\n",
        "Sample Input :\n",
        "5\n",
        "Sample Output :\n",
        "30"
      ]
    },
    {
      "cell_type": "code",
      "execution_count": null,
      "metadata": {
        "colab": {
          "base_uri": "https://localhost:8080/"
        },
        "id": "jRo3nwFALKe_",
        "outputId": "e3e3b6ba-7c41-4cc3-f165-f52f5649dbda"
      },
      "outputs": [
        {
          "name": "stdout",
          "output_type": "stream",
          "text": [
            "888\n",
            "789432\n"
          ]
        }
      ],
      "source": [
        "n = int(input())\n",
        "nth_term = n*(n + 1)\n",
        "print(nth_term)\n",
        "\n",
        "\n",
        "\n"
      ]
    },
    {
      "cell_type": "markdown",
      "metadata": {
        "id": "pqMjmxHSZlYq"
      },
      "source": [
        "boy rolls an unbiased die until he gets ‘1’. You are given a number n find the total sum of probability that he will get ‘1’ on or before nth trial.(Probability of getting 1 at 1 time + probability of getting 1 at 2 trial….+probability of getting 1 at nth trial)\n",
        "\n",
        "\n",
        "\n",
        "Constraints\n",
        "\n",
        "1<=n<=1000\n",
        "\n",
        "Input Description:\n",
        "You are given a number ‘n’.\n",
        "\n",
        "Output Description:\n",
        "Print two numbers denoting numerator and denominator\n",
        "\n",
        "Sample Input :\n",
        "1\n",
        "Sample Output :\n",
        "1 6"
      ]
    },
    {
      "cell_type": "code",
      "execution_count": null,
      "metadata": {
        "colab": {
          "base_uri": "https://localhost:8080/"
        },
        "id": "XULe2bOsZiYS",
        "outputId": "9852657d-6f3e-4aa6-c3a1-e4c5899e0420"
      },
      "outputs": [
        {
          "name": "stdout",
          "output_type": "stream",
          "text": [
            "2\n",
            "1 36\n"
          ]
        }
      ],
      "source": [
        "def gcd(a, b):\n",
        "    while b:\n",
        "        a, b = b, a % b\n",
        "    return a\n",
        "\n",
        "def probability_sum(n):\n",
        "    numerator = 0\n",
        "    denominator = 1\n",
        "    for k in range(1, n + 1):\n",
        "        numerator += (5 ** (k - 1))\n",
        "        denominator *= 6 ** k\n",
        "\n",
        "    gcd_value = gcd(numerator, denominator)\n",
        "    numerator //= gcd_value\n",
        "    denominator //= gcd_value\n",
        "\n",
        "    return numerator, denominator\n",
        "\n",
        "# Input\n",
        "n = int(input())\n",
        "\n",
        "# Output\n",
        "numerator, denominator = probability_sum(n)\n",
        "print(numerator, denominator)\n"
      ]
    },
    {
      "cell_type": "markdown",
      "metadata": {
        "id": "51t8WOOxbItX"
      },
      "source": [
        "You are given a set of numbers, out of which you have to tell which of them are finest. A finest number ‘n’ is a number which is formed by a number ‘t’ such that\n",
        "\n",
        "n=t^3+(t+1)^3\n",
        "\n",
        "\n",
        "\n",
        "t is a natural number\n",
        "\n",
        "Input Description:\n",
        "You are given a number ‘z’ representing total numbers in an array, Next line contains z space separated numbers.\n",
        "\n",
        "Output Description:\n",
        "Print the numbers which are finest in ascending order if there are no such numbers print -1.\n",
        "\n",
        "Sample Input :\n",
        "2\n",
        "1729 189\n",
        "Sample Output :\n",
        "189 1729"
      ]
    },
    {
      "cell_type": "code",
      "execution_count": null,
      "metadata": {
        "colab": {
          "base_uri": "https://localhost:8080/"
        },
        "id": "OPjOsaUJbavP",
        "outputId": "2ea1ccfd-02f1-45d1-d10d-a5a84deb3809"
      },
      "outputs": [
        {
          "name": "stdout",
          "output_type": "stream",
          "text": [
            "2\n",
            "1729 189\n",
            "189 1729\n"
          ]
        }
      ],
      "source": [
        "def is_finest(num):\n",
        "    t = 1\n",
        "    while (t ** 3 + (t + 1) ** 3) <= num:\n",
        "        if (t ** 3 + (t + 1) ** 3) == num:\n",
        "            return True\n",
        "        t += 1\n",
        "    return False\n",
        "\n",
        "# Input\n",
        "z = int(input())\n",
        "numbers = list(map(int, input().split()))\n",
        "\n",
        "# Find finest numbers\n",
        "finest_numbers = [num for num in numbers if is_finest(num)]\n",
        "\n",
        "# Output\n",
        "if finest_numbers:\n",
        "    finest_numbers.sort()\n",
        "    print(*finest_numbers)\n",
        "else:\n",
        "    print(-1)\n"
      ]
    },
    {
      "cell_type": "markdown",
      "metadata": {
        "id": "owJA1HnUb2QP"
      },
      "source": [
        "You are given an array of numbers. Print the least occurring element. If there is more than 1 element print all of them in decreasing order of their value.\n",
        "\n",
        "Input Description:\n",
        "You are given a number ‘n’ denoting size of array. Next line contains n space separated numbers.\n",
        "\n",
        "Output Description:\n",
        "Print the number as mentioned\n",
        "\n",
        "Sample Input :\n",
        "9\n",
        "1 6 4 56 56 56 6 4 2\n",
        "Sample Output :\n",
        "2 1"
      ]
    },
    {
      "cell_type": "code",
      "execution_count": null,
      "metadata": {
        "colab": {
          "base_uri": "https://localhost:8080/"
        },
        "id": "-b3F7P6cb2_O",
        "outputId": "ca4622ac-9c83-4baa-8314-f19a43740258"
      },
      "outputs": [
        {
          "name": "stdout",
          "output_type": "stream",
          "text": [
            "9\n",
            "1 6 4 56 56 56 6 4 2\n",
            "2 1\n"
          ]
        }
      ],
      "source": [
        "# Input\n",
        "n = int(input())\n",
        "numbers = list(map(int, input().split()))\n",
        "\n",
        "# Count occurrences of each element\n",
        "count_dict = {}\n",
        "for num in numbers:\n",
        "    count_dict[num] = count_dict.get(num, 0) + 1\n",
        "\n",
        "# Find the minimum occurrence count\n",
        "min_count = min(count_dict.values())\n",
        "\n",
        "# Find elements with minimum occurrence count\n",
        "least_occurrences = [num for num, count in count_dict.items() if count == min_count]\n",
        "\n",
        "# Sort and print the elements in decreasing order of their value\n",
        "least_occurrences.sort(reverse=True)\n",
        "\n",
        "# Output\n",
        "print(*least_occurrences)\n"
      ]
    },
    {
      "cell_type": "markdown",
      "metadata": {
        "id": "UH1n3Q4KcVc7"
      },
      "source": [
        "You are given with a string which comprises of some numbers. Your task is to find the largest integer by converting the string to the corresponding integer.\n",
        "\n",
        "Input Description:\n",
        "First line contains n denoting number of Test Cases. The first and only Line of testcase has the string\n",
        "\n",
        "Output Description:\n",
        "Print the largest number\n",
        "\n",
        "Sample Input :\n",
        " I was born on 12 october 1998.\n",
        "Sample Output :\n",
        "1998"
      ]
    },
    {
      "cell_type": "code",
      "execution_count": null,
      "metadata": {
        "colab": {
          "base_uri": "https://localhost:8080/"
        },
        "id": "YJVaiLnAcWN6",
        "outputId": "6647a680-f6bc-464b-ae76-63b1a0ce8bf4"
      },
      "outputs": [
        {
          "name": "stdout",
          "output_type": "stream",
          "text": [
            "i was born on augest 1981\n",
            "1981\n"
          ]
        }
      ],
      "source": [
        "import re\n",
        "\n",
        "# Function to extract integers from a string\n",
        "def extract_integers(string):\n",
        "    return [int(num) for num in re.findall(r'\\d+', string)]\n",
        "\n",
        "# Input\n",
        "test_cases = [input()]\n",
        "\n",
        "# Find the largest integer in each test case\n",
        "for test_case in test_cases:\n",
        "    integers = extract_integers(test_case)\n",
        "    if integers:\n",
        "        print(max(integers))\n",
        "    else:\n",
        "        print(\"No integers found in the given string.\")\n"
      ]
    },
    {
      "cell_type": "markdown",
      "metadata": {
        "id": "WEJxlb1edlz4"
      },
      "source": [
        "Sreelatha was confused with series. She is given with a number ‘n’. There is a pattern hidden the series. She has to understand and print  the series till nth number by looking into example.Sreelatha is confused and She hired you , you have to develop the series for sreelatha by observing the pattern from the below example.\n",
        "\n",
        "Input Description:\n",
        "She is given with a number ‘n’.\n",
        "\n",
        "Output Description:\n",
        "print  the series till nth number\n",
        "\n",
        "Sample Input :\n",
        "3\n",
        "Sample Output :\n",
        "1 9 36"
      ]
    },
    {
      "cell_type": "code",
      "execution_count": null,
      "metadata": {
        "colab": {
          "base_uri": "https://localhost:8080/"
        },
        "id": "pCtOfJx_dpdJ",
        "outputId": "abd9636e-5450-4e0a-be64-3cd683c785bf"
      },
      "outputs": [
        {
          "name": "stdout",
          "output_type": "stream",
          "text": [
            "3\n",
            "1 9 36\n"
          ]
        }
      ],
      "source": [
        "def generate_series(n):\n",
        "    series = []\n",
        "    for i in range(1, n + 1):\n",
        "        term = (i * (i + 1)) // 2\n",
        "        series.append(term ** 2)\n",
        "    return series\n",
        "\n",
        "# Input\n",
        "n = int(input())\n",
        "\n",
        "# Generate and print the series\n",
        "series = generate_series(n)\n",
        "print(*series)\n"
      ]
    },
    {
      "cell_type": "markdown",
      "metadata": {
        "id": "EugXOHWKPqkt"
      },
      "source": [
        "Given length L and breadth B of a farm, print the area of the farm upto 5 decimal decimals.\n",
        "Sample Testcase :\n",
        "INPUT\n",
        "1.626 2.31\n",
        "OUTPUT\n",
        "3.75606"
      ]
    },
    {
      "cell_type": "code",
      "execution_count": null,
      "metadata": {
        "colab": {
          "base_uri": "https://localhost:8080/"
        },
        "id": "ZBUq-i8nOoGF",
        "outputId": "8314ca86-56f2-4e48-e360-49ea949622b5"
      },
      "outputs": [
        {
          "name": "stdout",
          "output_type": "stream",
          "text": [
            "2.5432 6.7654\n",
            "17.20577\n"
          ]
        }
      ],
      "source": [
        "a,b=list(map(float,input().split()))\n",
        "area=float(a*b)\n",
        "round=\"{:.5f}\".format(area)\n",
        "print(round)"
      ]
    },
    {
      "cell_type": "code",
      "execution_count": null,
      "metadata": {
        "colab": {
          "base_uri": "https://localhost:8080/"
        },
        "id": "ssF2YAbgPIQk",
        "outputId": "7aeeca06-4597-422c-8945-bb34e8fb13a7"
      },
      "outputs": [
        {
          "name": "stdout",
          "output_type": "stream",
          "text": [
            "2.5432 6.7654\n",
            "17.20576\n"
          ]
        }
      ],
      "source": [
        "from decimal import Decimal, getcontext\n",
        "\n",
        "# Set precision to 5 decimal places\n",
        "getcontext().prec = 8\n",
        "\n",
        "# Get input length and breadth\n",
        "length, breadth = map(Decimal, input().split())\n",
        "\n",
        "# Calculate the area\n",
        "area = length * breadth\n",
        "\n",
        "# Print the result\n",
        "print(round(area, 5))\n"
      ]
    },
    {
      "cell_type": "markdown",
      "metadata": {
        "id": "2tZEWZk-RCRl"
      },
      "source": [
        "Given a number N, print its factors.\n",
        "Input Size : n<=1000\n",
        "Sample Testcase :\n",
        "INPUT\n",
        "6\n",
        "OUTPUT\n",
        "1 2 3 6"
      ]
    },
    {
      "cell_type": "code",
      "execution_count": null,
      "metadata": {
        "colab": {
          "base_uri": "https://localhost:8080/"
        },
        "id": "S6bJiOj4REKf",
        "outputId": "b3f2aebc-a674-40d0-f4de-9120a6086314"
      },
      "outputs": [
        {
          "name": "stdout",
          "output_type": "stream",
          "text": [
            "98\n",
            "1 2 7 14 49 98\n"
          ]
        }
      ],
      "source": [
        "# Get input N\n",
        "N = int(input())\n",
        "\n",
        "# Initialize an empty list to store factors\n",
        "factors = []\n",
        "\n",
        "# Find factors\n",
        "for i in range(1, N + 1):\n",
        "    if N % i == 0:\n",
        "        factors.append(i)\n",
        "\n",
        "# Print the factors\n",
        "print(*factors)\n"
      ]
    },
    {
      "cell_type": "markdown",
      "metadata": {
        "id": "zjuHVWIxRpYh"
      },
      "source": [
        "Given a number N in decimal, print the length of the corresponding binary digit.\n",
        "Input Size : 1 <= N <= 100000\n",
        "Sample Testcase :\n",
        "INPUT\n",
        "10\n",
        "OUTPUT\n",
        "4"
      ]
    },
    {
      "cell_type": "code",
      "execution_count": null,
      "metadata": {
        "colab": {
          "base_uri": "https://localhost:8080/"
        },
        "id": "WFnP4BVzRqAT",
        "outputId": "ce45f73a-373b-4c55-8367-8bbc60719135"
      },
      "outputs": [
        {
          "name": "stdout",
          "output_type": "stream",
          "text": [
            "10\n",
            "4\n"
          ]
        }
      ],
      "source": [
        "# Get input N\n",
        "N = int(input())\n",
        "\n",
        "# Convert decimal to binary and find its length\n",
        "binary_length = len(bin(N)) - 2\n",
        "\n",
        "# Print the result\n",
        "print(binary_length)\n"
      ]
    },
    {
      "cell_type": "markdown",
      "metadata": {
        "id": "qLC2dTwcSZhN"
      },
      "source": [
        "You are provided with a string ‘s’. Your task is to reverse the string using stack Data Structure.\n",
        "\n",
        "\n",
        "\n",
        "Input Description:\n",
        "You are given a string ‘s’.\n",
        "\n",
        "Output Description:\n",
        "Print the reverse string\n",
        "\n",
        "Sample Input :\n",
        "i am jsb\n",
        "Sample Output :\n",
        "jsb am i"
      ]
    },
    {
      "cell_type": "code",
      "execution_count": null,
      "metadata": {
        "colab": {
          "base_uri": "https://localhost:8080/"
        },
        "id": "2q9FFjo5TWO2",
        "outputId": "0d29ac4d-1a31-4c95-8013-bf03c720f3d3"
      },
      "outputs": [
        {
          "name": "stdout",
          "output_type": "stream",
          "text": [
            "i am jsb\n",
            "bsj ma i\n"
          ]
        }
      ],
      "source": [
        "a=str(input())\n",
        "x=a[::-1]\n",
        "print(x)"
      ]
    },
    {
      "cell_type": "code",
      "execution_count": null,
      "metadata": {
        "colab": {
          "base_uri": "https://localhost:8080/"
        },
        "id": "1O9KdIWCTeJ9",
        "outputId": "5fff1e8a-9f14-476c-bdbd-10f7171d4d4f"
      },
      "outputs": [
        {
          "name": "stdout",
          "output_type": "stream",
          "text": [
            "i am jsb\n",
            "jsb am i\n"
          ]
        }
      ],
      "source": [
        "def reverse_string(input_string):\n",
        "    stack = list(input_string.split())\n",
        "    reversed_words = []\n",
        "\n",
        "    while stack:\n",
        "        reversed_words.append(stack.pop())\n",
        "\n",
        "    return \" \".join(reversed_words)\n",
        "\n",
        "# Get input string\n",
        "input_str = input()\n",
        "\n",
        "# Reverse the string\n",
        "result = reverse_string(input_str)\n",
        "\n",
        "# Print the reversed string\n",
        "print(result)\n",
        "\n"
      ]
    },
    {
      "cell_type": "code",
      "execution_count": null,
      "metadata": {
        "colab": {
          "base_uri": "https://localhost:8080/"
        },
        "id": "hRzsyP-hCU_g",
        "outputId": "dfca9d95-b5ad-4cc7-c3f6-67436ebc7a18"
      },
      "outputs": [
        {
          "name": "stdout",
          "output_type": "stream",
          "text": [
            "3\n"
          ]
        }
      ],
      "source": [
        "import numpy as np\n",
        "a=np.array([1,2,3,5,8])\n",
        "a=a+1\n",
        "print(a[1])\n"
      ]
    },
    {
      "cell_type": "code",
      "execution_count": null,
      "metadata": {
        "colab": {
          "base_uri": "https://localhost:8080/"
        },
        "id": "WiadUTD0DD4n",
        "outputId": "f8fc98ae-d773-4e5f-ecda-edf2188ff050"
      },
      "outputs": [
        {
          "name": "stdout",
          "output_type": "stream",
          "text": [
            "6\n"
          ]
        }
      ],
      "source": [
        "import numpy as np\n",
        "a=np.array([[1,2,3],[0,1,4]])\n",
        "print(a.size)"
      ]
    },
    {
      "cell_type": "code",
      "execution_count": null,
      "metadata": {
        "colab": {
          "base_uri": "https://localhost:8080/"
        },
        "id": "ZVZBFJgODpkG",
        "outputId": "a0242cda-ca28-4e3c-db9f-8336d8074a8e"
      },
      "outputs": [
        {
          "name": "stdout",
          "output_type": "stream",
          "text": [
            "0    0\n",
            "1    1\n",
            "2    2\n",
            "3    3\n",
            "4    4\n",
            "dtype: int64\n"
          ]
        }
      ],
      "source": [
        "import pandas as pd\n",
        "s=pd.Series(range(5))\n",
        "print(s)"
      ]
    },
    {
      "cell_type": "code",
      "execution_count": null,
      "metadata": {
        "colab": {
          "base_uri": "https://localhost:8080/"
        },
        "id": "R4iqJ8XBEDAs",
        "outputId": "33cadaa2-8733-4db8-ba3d-914e8a1cbe58"
      },
      "outputs": [
        {
          "name": "stdout",
          "output_type": "stream",
          "text": [
            "newD\n"
          ]
        }
      ],
      "source": [
        "import pandas as pd\n",
        "s=pd.Series(['newD','Wash','lon','par'],index=['ind','usa','uk','fra'])\n",
        "# print(s[0])\n",
        "#print(s['ind'])\n",
        "print(s.ind)"
      ]
    },
    {
      "cell_type": "code",
      "execution_count": null,
      "metadata": {
        "colab": {
          "base_uri": "https://localhost:8080/"
        },
        "id": "qC3prUIIFZdC",
        "outputId": "0c598f9c-8e2b-4533-93e5-94ae1a59f2d1"
      },
      "outputs": [
        {
          "name": "stdout",
          "output_type": "stream",
          "text": [
            "5\n"
          ]
        }
      ],
      "source": [
        "import numpy as np\n",
        "a=np.array([[1,2,3],[0,1,4]])\n",
        "b=np.zeros((2,3),dtype=np.int16)\n",
        "c=np.ones((2,3),dtype=np.int16)\n",
        "d=a+b+c\n",
        "print(d[1,2])"
      ]
    },
    {
      "cell_type": "code",
      "execution_count": null,
      "metadata": {
        "colab": {
          "base_uri": "https://localhost:8080/"
        },
        "id": "q7MRC2vFGbWP",
        "outputId": "3af95ab5-960b-4fdc-c6a7-d969ff038f18"
      },
      "outputs": [
        {
          "name": "stdout",
          "output_type": "stream",
          "text": [
            "int32\n"
          ]
        }
      ],
      "source": [
        "import numpy as np\n",
        "dt=dt=np.dtype('i4')\n",
        "print(dt)"
      ]
    },
    {
      "cell_type": "code",
      "execution_count": null,
      "metadata": {
        "colab": {
          "base_uri": "https://localhost:8080/",
          "height": 355
        },
        "id": "TddaFe9yIpx0",
        "outputId": "59034e9a-9a5d-4dee-9f87-753e83896f33"
      },
      "outputs": [
        {
          "ename": "ValueError",
          "evalue": "Length of values (3) does not match length of index (4)",
          "output_type": "error",
          "traceback": [
            "\u001b[0;31m---------------------------------------------------------------------------\u001b[0m",
            "\u001b[0;31mValueError\u001b[0m                                Traceback (most recent call last)",
            "\u001b[0;32m<ipython-input-14-6e62e6bce0c4>\u001b[0m in \u001b[0;36m<cell line: 2>\u001b[0;34m()\u001b[0m\n\u001b[1;32m      1\u001b[0m \u001b[0;32mimport\u001b[0m \u001b[0mpandas\u001b[0m \u001b[0;32mas\u001b[0m \u001b[0mpd\u001b[0m\u001b[0;34m\u001b[0m\u001b[0;34m\u001b[0m\u001b[0m\n\u001b[0;32m----> 2\u001b[0;31m \u001b[0ms\u001b[0m\u001b[0;34m=\u001b[0m\u001b[0mpd\u001b[0m\u001b[0;34m.\u001b[0m\u001b[0mSeries\u001b[0m\u001b[0;34m(\u001b[0m\u001b[0mdata\u001b[0m\u001b[0;34m=\u001b[0m\u001b[0;34m(\u001b[0m\u001b[0;36m31\u001b[0m\u001b[0;34m,\u001b[0m\u001b[0;36m2\u001b[0m\u001b[0;34m,\u001b[0m\u001b[0;34m-\u001b[0m\u001b[0;36m6\u001b[0m\u001b[0;34m)\u001b[0m\u001b[0;34m,\u001b[0m\u001b[0mindex\u001b[0m\u001b[0;34m=\u001b[0m\u001b[0;34m[\u001b[0m\u001b[0;36m7\u001b[0m\u001b[0;34m,\u001b[0m\u001b[0;36m9\u001b[0m\u001b[0;34m,\u001b[0m\u001b[0;36m3\u001b[0m\u001b[0;34m,\u001b[0m\u001b[0;36m2\u001b[0m\u001b[0;34m]\u001b[0m\u001b[0;34m)\u001b[0m\u001b[0;34m\u001b[0m\u001b[0;34m\u001b[0m\u001b[0m\n\u001b[0m\u001b[1;32m      3\u001b[0m \u001b[0mprint\u001b[0m\u001b[0;34m(\u001b[0m\u001b[0ms\u001b[0m\u001b[0;34m)\u001b[0m\u001b[0;34m\u001b[0m\u001b[0;34m\u001b[0m\u001b[0m\n",
            "\u001b[0;32m/usr/local/lib/python3.10/dist-packages/pandas/core/series.py\u001b[0m in \u001b[0;36m__init__\u001b[0;34m(self, data, index, dtype, name, copy, fastpath)\u001b[0m\n\u001b[1;32m    459\u001b[0m                 \u001b[0mindex\u001b[0m \u001b[0;34m=\u001b[0m \u001b[0mdefault_index\u001b[0m\u001b[0;34m(\u001b[0m\u001b[0mlen\u001b[0m\u001b[0;34m(\u001b[0m\u001b[0mdata\u001b[0m\u001b[0;34m)\u001b[0m\u001b[0;34m)\u001b[0m\u001b[0;34m\u001b[0m\u001b[0;34m\u001b[0m\u001b[0m\n\u001b[1;32m    460\u001b[0m             \u001b[0;32melif\u001b[0m \u001b[0mis_list_like\u001b[0m\u001b[0;34m(\u001b[0m\u001b[0mdata\u001b[0m\u001b[0;34m)\u001b[0m\u001b[0;34m:\u001b[0m\u001b[0;34m\u001b[0m\u001b[0;34m\u001b[0m\u001b[0m\n\u001b[0;32m--> 461\u001b[0;31m                 \u001b[0mcom\u001b[0m\u001b[0;34m.\u001b[0m\u001b[0mrequire_length_match\u001b[0m\u001b[0;34m(\u001b[0m\u001b[0mdata\u001b[0m\u001b[0;34m,\u001b[0m \u001b[0mindex\u001b[0m\u001b[0;34m)\u001b[0m\u001b[0;34m\u001b[0m\u001b[0;34m\u001b[0m\u001b[0m\n\u001b[0m\u001b[1;32m    462\u001b[0m \u001b[0;34m\u001b[0m\u001b[0m\n\u001b[1;32m    463\u001b[0m             \u001b[0;31m# create/copy the manager\u001b[0m\u001b[0;34m\u001b[0m\u001b[0;34m\u001b[0m\u001b[0m\n",
            "\u001b[0;32m/usr/local/lib/python3.10/dist-packages/pandas/core/common.py\u001b[0m in \u001b[0;36mrequire_length_match\u001b[0;34m(data, index)\u001b[0m\n\u001b[1;32m    569\u001b[0m     \"\"\"\n\u001b[1;32m    570\u001b[0m     \u001b[0;32mif\u001b[0m \u001b[0mlen\u001b[0m\u001b[0;34m(\u001b[0m\u001b[0mdata\u001b[0m\u001b[0;34m)\u001b[0m \u001b[0;34m!=\u001b[0m \u001b[0mlen\u001b[0m\u001b[0;34m(\u001b[0m\u001b[0mindex\u001b[0m\u001b[0;34m)\u001b[0m\u001b[0;34m:\u001b[0m\u001b[0;34m\u001b[0m\u001b[0;34m\u001b[0m\u001b[0m\n\u001b[0;32m--> 571\u001b[0;31m         raise ValueError(\n\u001b[0m\u001b[1;32m    572\u001b[0m             \u001b[0;34m\"Length of values \"\u001b[0m\u001b[0;34m\u001b[0m\u001b[0;34m\u001b[0m\u001b[0m\n\u001b[1;32m    573\u001b[0m             \u001b[0;34mf\"({len(data)}) \"\u001b[0m\u001b[0;34m\u001b[0m\u001b[0;34m\u001b[0m\u001b[0m\n",
            "\u001b[0;31mValueError\u001b[0m: Length of values (3) does not match length of index (4)"
          ]
        }
      ],
      "source": [
        "import pandas as pd\n",
        "s=pd.Series(data=(31,2,-6),index=[7,9,3,2])\n",
        "print(s)"
      ]
    },
    {
      "cell_type": "code",
      "execution_count": null,
      "metadata": {
        "colab": {
          "base_uri": "https://localhost:8080/"
        },
        "id": "jxCi9FSgLNFS",
        "outputId": "b28b091e-89fa-4e2c-84a0-4967f598ea99"
      },
      "outputs": [
        {
          "name": "stdout",
          "output_type": "stream",
          "text": [
            "1\n"
          ]
        }
      ],
      "source": [
        "import numpy as np\n",
        "a=np.array([1,2,3,5,8])\n",
        "print(a.ndim)"
      ]
    },
    {
      "cell_type": "code",
      "execution_count": null,
      "metadata": {
        "id": "iHD6BL7GaBlb"
      },
      "outputs": [],
      "source": [
        "8714675084"
      ]
    },
    {
      "cell_type": "code",
      "execution_count": null,
      "metadata": {
        "colab": {
          "base_uri": "https://localhost:8080/"
        },
        "id": "tElK97uufp3p",
        "outputId": "d1196d4e-36fb-4f06-e50a-82ee77cb895b"
      },
      "outputs": [
        {
          "name": "stdout",
          "output_type": "stream",
          "text": [
            "[[1 2 3 4 5]]\n"
          ]
        }
      ],
      "source": [
        "import numpy as np\n",
        "a=np.array([1,2,3,4,5],ndmin=2)\n",
        "print(a)"
      ]
    },
    {
      "cell_type": "code",
      "execution_count": null,
      "metadata": {
        "colab": {
          "base_uri": "https://localhost:8080/"
        },
        "id": "3UN0km8yiYCN",
        "outputId": "db0508fe-1dc0-4672-8d17-e2599e49a3b3"
      },
      "outputs": [
        {
          "name": "stdout",
          "output_type": "stream",
          "text": [
            "[1, 2, 3]\n"
          ]
        }
      ],
      "source": [
        "def flist(i,values=[]):\n",
        "  values.append(i)\n",
        "  return values\n",
        "flist(1)\n",
        "flist(2)\n",
        "val=flist(3)\n",
        "print(val)"
      ]
    },
    {
      "cell_type": "markdown",
      "metadata": {
        "id": "K2VHN8iM7QEU"
      },
      "source": []
    },
    {
      "cell_type": "code",
      "execution_count": null,
      "metadata": {
        "colab": {
          "base_uri": "https://localhost:8080/"
        },
        "id": "fyCWbF1a7PVH",
        "outputId": "9542d0b2-258b-405c-f8bb-43212b52459e"
      },
      "outputs": [
        {
          "name": "stdout",
          "output_type": "stream",
          "text": [
            "Requirement already satisfied: opencv-contrib-python in /usr/local/lib/python3.10/dist-packages (4.8.0.76)\n",
            "Requirement already satisfied: numpy>=1.21.2 in /usr/local/lib/python3.10/dist-packages (from opencv-contrib-python) (1.25.2)\n"
          ]
        }
      ],
      "source": [
        "pip install opencv-contrib-python\n"
      ]
    },
    {
      "cell_type": "code",
      "execution_count": null,
      "metadata": {
        "colab": {
          "background_save": true,
          "base_uri": "https://localhost:8080/"
        },
        "id": "CHbq_9t6HBei",
        "outputId": "ef6dacf1-275d-415b-efb6-c06d9ec8f6f2"
      },
      "outputs": [
        {
          "name": "stdout",
          "output_type": "stream",
          "text": [
            "Requirement already satisfied: opencv-python in /usr/local/lib/python3.10/dist-packages (4.8.0.76)\n",
            "Requirement already satisfied: pytesseract in /usr/local/lib/python3.10/dist-packages (0.3.10)\n",
            "Requirement already satisfied: numpy>=1.21.2 in /usr/local/lib/python3.10/dist-packages (from opencv-python) (1.25.2)\n",
            "Requirement already satisfied: packaging>=21.3 in /usr/local/lib/python3.10/dist-packages (from pytesseract) (24.0)\n",
            "Requirement already satisfied: Pillow>=8.0.0 in /usr/local/lib/python3.10/dist-packages (from pytesseract) (9.4.0)\n"
          ]
        }
      ],
      "source": [
        "pip install opencv-python pytesseract\n"
      ]
    },
    {
      "cell_type": "code",
      "execution_count": null,
      "metadata": {
        "colab": {
          "base_uri": "https://localhost:8080/",
          "height": 942
        },
        "id": "m63i3ULfBIZS",
        "outputId": "e0fd3291-c855-42e6-abf9-4ad5cff7c2d3"
      },
      "outputs": [
        {
          "output_type": "display_data",
          "data": {
            "text/plain": [
              "<PIL.Image.Image image mode=RGB size=333x454>"
            ],
            "image/png": "[encoded data removed]"
          },
          "metadata": {}
        },
        {
          "output_type": "display_data",
          "data": {
            "text/plain": [
              "<PIL.Image.Image image mode=L size=333x454>"
            ],
            "image/png": "[encoded data removed]"
          },
          "metadata": {}
        },
        {
          "output_type": "execute_result",
          "data": {
            "text/plain": [
              "True"
            ]
          },
          "metadata": {},
          "execution_count": 12
        }
      ],
      "source": [
        "import cv2\n",
        "from google.colab.patches import cv2_imshow\n",
        "\n",
        "# Read the image\n",
        "img = cv2.imread('nimi.png')\n",
        "\n",
        "# Display the image\n",
        "cv2_imshow(img)\n",
        "\n",
        "# Convert the image to grayscale\n",
        "gray = cv2.cvtColor(img, cv2.COLOR_BGR2GRAY)\n",
        "cv2_imshow(gray)\n",
        "\n",
        "# Save the grayscale image\n",
        "cv2.imwrite('nimi_grey.jpg', gray)"
      ]
    }
  ],
  "metadata": {
    "accelerator": "TPU",
    "colab": {
      "provenance": [],
      "authorship_tag": "ABX9TyM9eDKBQq5JId8ajdhzUZvN",
      "include_colab_link": true
    },
    "kernelspec": {
      "display_name": "Python 3",
      "name": "python3"
    },
    "language_info": {
      "name": "python"
    }
  },
  "nbformat": 4,
  "nbformat_minor": 0
}